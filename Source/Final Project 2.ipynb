{
 "cells": [
  {
   "cell_type": "markdown",
   "id": "9e88a48d",
   "metadata": {},
   "source": [
    "# Đồ án cuối kì (Lập trình cho Khoa học dữ liệu)"
   ]
  },
  {
   "cell_type": "markdown",
   "id": "b73003f3",
   "metadata": {},
   "source": [
    "Giao vien\n",
    "Thông tin nhóm:\n",
    "1. Nguyễn Văn Hậu (1712258)\n",
    "2. Hà Thị Ngọc Thăm (1712160)\n",
    "\n",
    "Phân công công việc: https://docs.google.com/spreadsheets/d/1yk7EGQSebSC8R5h_UnNOg1wxUU1y9y6lNY5y9waDXA4/edit?usp=sharing\n",
    "\n",
    "Github: "
   ]
  },
  {
   "cell_type": "code",
   "execution_count": 15,
   "id": "1bfc3d50",
   "metadata": {},
   "outputs": [],
   "source": [
    "import numpy as np\n",
    "import pandas as pd\n",
    "import matplotlib.pyplot as plt"
   ]
  },
  {
   "cell_type": "markdown",
   "id": "eec24408",
   "metadata": {},
   "source": [
    "# Thu thập dữ liệu:"
   ]
  },
  {
   "cell_type": "markdown",
   "id": "ca1a46aa",
   "metadata": {},
   "source": [
    "- Tên tập dữ liệu: **\"Medium 2021 data science articles dataset\"**\n",
    "- Mô tả về dữ liệu:\n",
    "    - RAW: \"Data about 45k+ data science articles published on medium in 2021.\"\n",
    "    - Vietsub: Dữ liệu khoảng trên 45 ngàn dòng về các bài báo khoa học trên Medium vào năm 2021.\n",
    "    - Tập dữ liệu tập trung vào các lĩnh vực:  Data Science, Machine Learning, Artificial Inteligence, Deep Learning, Data, Big Data, Analytics.\n",
    "- Tác giả: Vinicius Lambert\n",
    "- Nguồn dataset: [Kaggle](https://www.kaggle.com/viniciuslambert/medium-2021-data-science-articles-dataset)\n",
    "- License: **[CC0: Public Domain](https://creativecommons.org/publicdomain/zero/1.0/)** (No Copyright)\n",
    "- Tác giả thu thập data bằng cách parser HTML, được trình bày cách thu thập tại [file notebook](https://github.com/viniciusLambert/medium-scraping/blob/main/scrap.ipynb) này."
   ]
  },
  {
   "cell_type": "markdown",
   "id": "453be705",
   "metadata": {},
   "source": [
    "# Khám phá dữ liệu:"
   ]
  },
  {
   "cell_type": "markdown",
   "id": "607d9c54",
   "metadata": {},
   "source": [
    "Thử xem những dòng đầu tiên của data có hình dạng ra sao."
   ]
  },
  {
   "cell_type": "code",
   "execution_count": 6,
   "id": "598433b5",
   "metadata": {},
   "outputs": [
    {
     "data": {
      "text/html": [
       "<div>\n",
       "<style scoped>\n",
       "    .dataframe tbody tr th:only-of-type {\n",
       "        vertical-align: middle;\n",
       "    }\n",
       "\n",
       "    .dataframe tbody tr th {\n",
       "        vertical-align: top;\n",
       "    }\n",
       "\n",
       "    .dataframe thead th {\n",
       "        text-align: right;\n",
       "    }\n",
       "</style>\n",
       "<table border=\"1\" class=\"dataframe\">\n",
       "  <thead>\n",
       "    <tr style=\"text-align: right;\">\n",
       "      <th></th>\n",
       "      <th>url</th>\n",
       "      <th>title</th>\n",
       "      <th>author</th>\n",
       "      <th>author_page</th>\n",
       "      <th>subtitle</th>\n",
       "      <th>claps</th>\n",
       "      <th>responses</th>\n",
       "      <th>reading_time</th>\n",
       "      <th>tag</th>\n",
       "      <th>date</th>\n",
       "    </tr>\n",
       "  </thead>\n",
       "  <tbody>\n",
       "    <tr>\n",
       "      <th>0</th>\n",
       "      <td>https://medium.com/@dharmeshpanchmatia/data-an...</td>\n",
       "      <td>Data Analytics and AI/ML platform for eCommerce</td>\n",
       "      <td>dharmeshpanchmatia</td>\n",
       "      <td>https://medium.com/@dharmeshpanchmatia</td>\n",
       "      <td>Improve user pr</td>\n",
       "      <td>30.0</td>\n",
       "      <td>0.0</td>\n",
       "      <td>5.0</td>\n",
       "      <td>Big Data</td>\n",
       "      <td>2021-01-01</td>\n",
       "    </tr>\n",
       "    <tr>\n",
       "      <th>1</th>\n",
       "      <td>https://medium.com/predict/the-journey-from-an...</td>\n",
       "      <td>The journey from an Apple Silicon M1 powered l...</td>\n",
       "      <td>dimitrisv</td>\n",
       "      <td>https://medium.com/@dimitrisv</td>\n",
       "      <td>NaN</td>\n",
       "      <td>42.0</td>\n",
       "      <td>0.0</td>\n",
       "      <td>5.0</td>\n",
       "      <td>Big Data</td>\n",
       "      <td>2021-01-01</td>\n",
       "    </tr>\n",
       "    <tr>\n",
       "      <th>2</th>\n",
       "      <td>https://medium.com/@rajsaraogi/demystifying-kp...</td>\n",
       "      <td>Demystifying KPIs in Analytics</td>\n",
       "      <td>rajsaraogi</td>\n",
       "      <td>https://medium.com/@rajsaraogi</td>\n",
       "      <td>NaN</td>\n",
       "      <td>19.0</td>\n",
       "      <td>0.0</td>\n",
       "      <td>3.0</td>\n",
       "      <td>Big Data</td>\n",
       "      <td>2021-01-01</td>\n",
       "    </tr>\n",
       "    <tr>\n",
       "      <th>3</th>\n",
       "      <td>https://medium.com/@bigdataschool/%D0%B1%D0%BE...</td>\n",
       "      <td>Большая разница: чем структурированная потоков...</td>\n",
       "      <td>bigdataschool</td>\n",
       "      <td>https://medium.com/@bigdataschool</td>\n",
       "      <td>NaN</td>\n",
       "      <td>0.0</td>\n",
       "      <td>0.0</td>\n",
       "      <td>6.0</td>\n",
       "      <td>Big Data</td>\n",
       "      <td>2021-01-01</td>\n",
       "    </tr>\n",
       "    <tr>\n",
       "      <th>4</th>\n",
       "      <td>https://medium.com/@arnowa-44509/iot-a-new-way...</td>\n",
       "      <td>IoT: A New Way of Life</td>\n",
       "      <td>arnowa-44509</td>\n",
       "      <td>https://medium.com/@arnowa-44509</td>\n",
       "      <td>IoT is more than just the Internet of things, ...</td>\n",
       "      <td>0.0</td>\n",
       "      <td>0.0</td>\n",
       "      <td>3.0</td>\n",
       "      <td>Big Data</td>\n",
       "      <td>2021-01-01</td>\n",
       "    </tr>\n",
       "  </tbody>\n",
       "</table>\n",
       "</div>"
      ],
      "text/plain": [
       "                                                 url  \\\n",
       "0  https://medium.com/@dharmeshpanchmatia/data-an...   \n",
       "1  https://medium.com/predict/the-journey-from-an...   \n",
       "2  https://medium.com/@rajsaraogi/demystifying-kp...   \n",
       "3  https://medium.com/@bigdataschool/%D0%B1%D0%BE...   \n",
       "4  https://medium.com/@arnowa-44509/iot-a-new-way...   \n",
       "\n",
       "                                               title              author  \\\n",
       "0    Data Analytics and AI/ML platform for eCommerce  dharmeshpanchmatia   \n",
       "1  The journey from an Apple Silicon M1 powered l...           dimitrisv   \n",
       "2                     Demystifying KPIs in Analytics          rajsaraogi   \n",
       "3  Большая разница: чем структурированная потоков...       bigdataschool   \n",
       "4                             IoT: A New Way of Life        arnowa-44509   \n",
       "\n",
       "                              author_page  \\\n",
       "0  https://medium.com/@dharmeshpanchmatia   \n",
       "1           https://medium.com/@dimitrisv   \n",
       "2          https://medium.com/@rajsaraogi   \n",
       "3       https://medium.com/@bigdataschool   \n",
       "4        https://medium.com/@arnowa-44509   \n",
       "\n",
       "                                            subtitle  claps  responses  \\\n",
       "0                                    Improve user pr   30.0        0.0   \n",
       "1                                                NaN   42.0        0.0   \n",
       "2                                                NaN   19.0        0.0   \n",
       "3                                                NaN    0.0        0.0   \n",
       "4  IoT is more than just the Internet of things, ...    0.0        0.0   \n",
       "\n",
       "   reading_time       tag        date  \n",
       "0           5.0  Big Data  2021-01-01  \n",
       "1           5.0  Big Data  2021-01-01  \n",
       "2           3.0  Big Data  2021-01-01  \n",
       "3           6.0  Big Data  2021-01-01  \n",
       "4           3.0  Big Data  2021-01-01  "
      ]
     },
     "execution_count": 6,
     "metadata": {},
     "output_type": "execute_result"
    }
   ],
   "source": [
    "medium_data = pd.read_csv(\"Data/medium-data-science-articles-2021.csv\")\n",
    "medium_data.head()"
   ]
  },
  {
   "cell_type": "markdown",
   "id": "3a9094b1",
   "metadata": {},
   "source": [
    "## Dữ liệu có bao nhiêu dòng và bao nhiêu cột?"
   ]
  },
  {
   "cell_type": "markdown",
   "id": "19e3a6a6",
   "metadata": {},
   "source": [
    "- `num_cols` là số cột \n",
    "- `num_rows` là số dòng "
   ]
  },
  {
   "cell_type": "code",
   "execution_count": 7,
   "id": "7d4ea7fc",
   "metadata": {},
   "outputs": [
    {
     "name": "stdout",
     "output_type": "stream",
     "text": [
      "So cot la: 10, so dong la: 47660\n"
     ]
    }
   ],
   "source": [
    "num_rows, num_cols = medium_data.shape\n",
    "print(\"So cot la: {}, so dong la: {}\".format(num_cols, num_rows))"
   ]
  },
  {
   "cell_type": "markdown",
   "id": "09b389a3",
   "metadata": {},
   "source": [
    "Đúng theo mô tả về data của tác giả."
   ]
  },
  {
   "cell_type": "markdown",
   "id": "fa9a6e86",
   "metadata": {},
   "source": [
    "## Mỗi dòng có ý nghĩa gì? Các dòng có ý nghĩa khác nhau không?"
   ]
  },
  {
   "cell_type": "markdown",
   "id": "eac2b7ab",
   "metadata": {},
   "source": [
    "Theo file mô tả dữ liệu và theo quan sát sơ bộ về dữ liệu thì một dòng cho biết thông tin chi tiết của một bài báo bao gồm: url, title, author,..... Có vẻ không có dòng nào bị \"lạc loài\"."
   ]
  },
  {
   "cell_type": "markdown",
   "id": "9a407054",
   "metadata": {},
   "source": [
    "## Dữ liệu có các dòng bị lặp không?"
   ]
  },
  {
   "cell_type": "code",
   "execution_count": 8,
   "id": "f51d63f7",
   "metadata": {},
   "outputs": [
    {
     "data": {
      "text/plain": [
       "0"
      ]
     },
     "execution_count": 8,
     "metadata": {},
     "output_type": "execute_result"
    }
   ],
   "source": [
    "num_duplicated_rows = medium_data.index.duplicated().sum()\n",
    "num_duplicated_rows"
   ]
  },
  {
   "cell_type": "markdown",
   "id": "ccbb1fa1",
   "metadata": {},
   "source": [
    "Dữ liệu không có dòng nào bị lặp."
   ]
  },
  {
   "cell_type": "markdown",
   "id": "bb6cddb5",
   "metadata": {},
   "source": [
    "## Ý nghĩa mỗi cột?"
   ]
  },
  {
   "cell_type": "markdown",
   "id": "f2120904",
   "metadata": {},
   "source": [
    "Mô tả ý nghĩa mỗi cột của dữ liệu:\n",
    "- Url: địa chỉ của bài báo trên web.\n",
    "- Title: tiêu đề của bài báo.\n",
    "- Author: tác giả của bài báo.\n",
    "- Author_page: địa chỉ trang của tác giả trên web.\n",
    "- Subtitle: phụ đề của bài báo.\n",
    "- Claps: số lượt vỗ tay của bạn đọc.\n",
    "- Responses: số lượt phản hồi từ bạn đọc.\n",
    "- Reading_time: thời gian đọc đề xuất cho người xem. \n",
    "- Tag: chủ đề của bài báo.\n",
    "- Date: ngày xuất bản."
   ]
  },
  {
   "cell_type": "markdown",
   "id": "20f98208",
   "metadata": {},
   "source": [
    "## Kiểm tra kiểu dữ liệu của cột:"
   ]
  },
  {
   "cell_type": "markdown",
   "id": "11812116",
   "metadata": {},
   "source": [
    "Mỗi cột hiện đang thuộc kiểu dữ liệu gì? Có cột nào có kiểu dữ liệu chưa phù hợp đề có thể xử lý tiếp không?"
   ]
  },
  {
   "cell_type": "code",
   "execution_count": null,
   "id": "b435e4a3",
   "metadata": {},
   "outputs": [],
   "source": []
  },
  {
   "cell_type": "markdown",
   "id": "beba6960",
   "metadata": {},
   "source": [
    "## Kiểu dữ liệu dạng số (numeric):"
   ]
  },
  {
   "cell_type": "markdown",
   "id": "a0c8cfdc",
   "metadata": {},
   "source": [
    "Các giá trị được phân bố như thế nào? (Số lượng/ Tỉ lệ các giá trị thiếu?/Min?/Max? -> Kiểm tra bất thường?)"
   ]
  },
  {
   "cell_type": "code",
   "execution_count": null,
   "id": "f9f695ec",
   "metadata": {},
   "outputs": [],
   "source": []
  },
  {
   "cell_type": "markdown",
   "id": "e57cebf3",
   "metadata": {},
   "source": [
    "## Kiểu dữ liệu dạng phân loại (categorical):"
   ]
  },
  {
   "cell_type": "markdown",
   "id": "db3de7ae",
   "metadata": {},
   "source": [
    "các giá trị phân bố như thế nào? (Số lượng/ Tỉ lệ các giá trị thiếu?/ Số lượng các giá trị khác nhau? Show một vài giá trị?-> Có gì bất thường hay không?)"
   ]
  },
  {
   "cell_type": "code",
   "execution_count": null,
   "id": "f1bcc7a6",
   "metadata": {},
   "outputs": [],
   "source": []
  },
  {
   "cell_type": "markdown",
   "id": "a1879c9f",
   "metadata": {},
   "source": [
    "# Đặt câu hỏi"
   ]
  },
  {
   "cell_type": "markdown",
   "id": "685f20af",
   "metadata": {},
   "source": [
    "Yêu cầu:\n",
    "- Câu hỏi là gì? Cần có ý nghĩa?\n",
    "- Nếu trả lời được câu hỏi thì sẽ có lợi ích gì?\n",
    "- Không nên quá dễ để trả lời?\n",
    "\n",
    "\n",
    "Với mỗi câu hỏi:\n",
    "- Cần có tiền xử lý dữ liệu không? Và nếu có thì nhóm bạn xử lý như thế nào? (Gồm text mô tả và code bên dưới)\n",
    "- Nhóm bạn phân tích dữ liệu như thế nào để ra được câu trả lời cho câu hỏi? (text và code)"
   ]
  },
  {
   "cell_type": "markdown",
   "id": "71db9bed",
   "metadata": {},
   "source": [
    "## Câu hỏi số 1: (Haauj)"
   ]
  },
  {
   "cell_type": "markdown",
   "id": "29799f5e",
   "metadata": {},
   "source": [
    "- Mô tả chi tiết:\n",
    "- Ý nghĩa của câu hỏi:"
   ]
  },
  {
   "cell_type": "code",
   "execution_count": null,
   "id": "50dc7cba",
   "metadata": {},
   "outputs": [],
   "source": []
  },
  {
   "cell_type": "markdown",
   "id": "63d4f440",
   "metadata": {},
   "source": [
    "## Câu hỏi số 2: Thống kê số bài được xuất bản theo từng tháng "
   ]
  },
  {
   "cell_type": "markdown",
   "id": "c89eff7e",
   "metadata": {},
   "source": [
    "Mô tả chi tiết: Do dữ liệu được crawl trong năm 2021 nên ta chỉ cần thống kê theo tháng.\n",
    "Ý nghĩa của câu hỏi: nhằm xem xét việc phát triển và đảm bảo số lượng, chất lượng các bài báo được xuất bản trên medium.cho "
   ]
  },
  {
   "cell_type": "markdown",
   "id": "10781c6b",
   "metadata": {},
   "source": [
    "Các bước thực hiện: "
   ]
  },
  {
   "cell_type": "markdown",
   "id": "a2d57f05",
   "metadata": {},
   "source": [
    "- Cột \"date\" của medium_data đang không ở đúng định dạng, ta cần chuyển về dạng ngày tháng: datetime"
   ]
  },
  {
   "cell_type": "code",
   "execution_count": 10,
   "id": "6d81198d",
   "metadata": {},
   "outputs": [
    {
     "data": {
      "text/plain": [
       "url                     object\n",
       "title                   object\n",
       "author                  object\n",
       "author_page             object\n",
       "subtitle                object\n",
       "claps                  float64\n",
       "responses              float64\n",
       "reading_time           float64\n",
       "tag                     object\n",
       "date            datetime64[ns]\n",
       "dtype: object"
      ]
     },
     "execution_count": 10,
     "metadata": {},
     "output_type": "execute_result"
    }
   ],
   "source": [
    "medium_data['date'] = pd.to_datetime(medium_data['date'])\n",
    "medium_data.dtypes"
   ]
  },
  {
   "cell_type": "markdown",
   "id": "8af2fcb8",
   "metadata": {},
   "source": [
    "- Tạo dataframe df_article.\n",
    "- Đếm số bài báo được xuất bản theo từng tháng trong năm."
   ]
  },
  {
   "cell_type": "code",
   "execution_count": 22,
   "id": "9e42fb42",
   "metadata": {},
   "outputs": [
    {
     "data": {
      "text/plain": [
       "month\n",
       "1     3199\n",
       "2     1453\n",
       "3     2154\n",
       "4     2927\n",
       "5     3170\n",
       "6     2429\n",
       "7     1966\n",
       "8     2738\n",
       "9     3587\n",
       "10    7476\n",
       "11    8098\n",
       "12    8463\n",
       "Name: date, dtype: int64"
      ]
     },
     "execution_count": 22,
     "metadata": {},
     "output_type": "execute_result"
    }
   ],
   "source": [
    "df_article = medium_data\n",
    "df_article['month'] = df_article['date'].dt.month\n",
    "num_article_df = df_article.groupby('month')['date'].count()\n",
    "num_article_df\n"
   ]
  },
  {
   "cell_type": "markdown",
   "id": "24b9bee1",
   "metadata": {},
   "source": [
    "- Biểu đồ số lượng bài viết được tạo theo từng tháng."
   ]
  },
  {
   "cell_type": "code",
   "execution_count": 23,
   "id": "0e1457c7",
   "metadata": {},
   "outputs": [
    {
     "data": {
      "text/plain": [
       "([<matplotlib.axis.XTick at 0x20aa6ff4790>,\n",
       "  <matplotlib.axis.XTick at 0x20aa6ff4760>,\n",
       "  <matplotlib.axis.XTick at 0x20aa7017ac0>,\n",
       "  <matplotlib.axis.XTick at 0x20aa7024250>,\n",
       "  <matplotlib.axis.XTick at 0x20aa70249a0>,\n",
       "  <matplotlib.axis.XTick at 0x20aa702b130>,\n",
       "  <matplotlib.axis.XTick at 0x20aa7024d90>,\n",
       "  <matplotlib.axis.XTick at 0x20aa702b760>,\n",
       "  <matplotlib.axis.XTick at 0x20aa6fed490>,\n",
       "  <matplotlib.axis.XTick at 0x20aa7032160>,\n",
       "  <matplotlib.axis.XTick at 0x20aa70328b0>,\n",
       "  <matplotlib.axis.XTick at 0x20aa7038040>],\n",
       " [Text(0, 0, ''),\n",
       "  Text(0, 0, ''),\n",
       "  Text(0, 0, ''),\n",
       "  Text(0, 0, ''),\n",
       "  Text(0, 0, ''),\n",
       "  Text(0, 0, ''),\n",
       "  Text(0, 0, ''),\n",
       "  Text(0, 0, ''),\n",
       "  Text(0, 0, ''),\n",
       "  Text(0, 0, ''),\n",
       "  Text(0, 0, ''),\n",
       "  Text(0, 0, '')])"
      ]
     },
     "execution_count": 23,
     "metadata": {},
     "output_type": "execute_result"
    },
    {
     "data": {
      "image/png": "[encoded data removed]",
      "text/plain": [
       "<Figure size 432x288 with 1 Axes>"
      ]
     },
     "metadata": {
      "needs_background": "light"
     },
     "output_type": "display_data"
    }
   ],
   "source": [
    "num_article_df.plot.line(marker='o')\n",
    "plt.ylabel('NumUserNew')\n",
    "plt.xticks(range(1,13))"
   ]
  },
  {
   "cell_type": "markdown",
   "id": "7ac381c5",
   "metadata": {},
   "source": [
    "## Câu 3: Top 10 tác giả được yêu thích nhất trên medium "
   ]
  },
  {
   "cell_type": "markdown",
   "id": "157ee61b",
   "metadata": {},
   "source": [
    "Ý nghĩa: \n",
    "- Tạo điều kiện để người xem có thể thể lựa chọn những tác giả phù hợp.\n",
    "- Giúp các doanh nghiệp liên hệ để có các hợp tác quảng cáo."
   ]
  },
  {
   "cell_type": "markdown",
   "id": "50f9f925",
   "metadata": {},
   "source": [
    "Các bước thực hiện:\n",
    "- Tạo dataframe df_author với ba cột author, author_page và claps, trong đó cột claps là số lượng lượt vỗ tay của bạn đọc.\n",
    "- Sau đó sắp xếp giá trị theo claps\n",
    "- Biểu đồ top 10 tác giả được quan tâm nhất.\n"
   ]
  },
  {
   "cell_type": "code",
   "execution_count": 104,
   "id": "008717f6",
   "metadata": {},
   "outputs": [
    {
     "data": {
      "text/html": [
       "<div>\n",
       "<style scoped>\n",
       "    .dataframe tbody tr th:only-of-type {\n",
       "        vertical-align: middle;\n",
       "    }\n",
       "\n",
       "    .dataframe tbody tr th {\n",
       "        vertical-align: top;\n",
       "    }\n",
       "\n",
       "    .dataframe thead th {\n",
       "        text-align: right;\n",
       "    }\n",
       "</style>\n",
       "<table border=\"1\" class=\"dataframe\">\n",
       "  <thead>\n",
       "    <tr style=\"text-align: right;\">\n",
       "      <th></th>\n",
       "      <th>claps</th>\n",
       "    </tr>\n",
       "    <tr>\n",
       "      <th>author</th>\n",
       "      <th></th>\n",
       "    </tr>\n",
       "  </thead>\n",
       "  <tbody>\n",
       "    <tr>\n",
       "      <th>humzanasirgd10</th>\n",
       "      <td>25826.0</td>\n",
       "    </tr>\n",
       "    <tr>\n",
       "      <th>seatoken</th>\n",
       "      <td>21004.0</td>\n",
       "    </tr>\n",
       "    <tr>\n",
       "      <th>dr-mehmet-yildiz</th>\n",
       "      <td>18399.0</td>\n",
       "    </tr>\n",
       "    <tr>\n",
       "      <th>kevin-e-stone</th>\n",
       "      <td>17800.0</td>\n",
       "    </tr>\n",
       "    <tr>\n",
       "      <th>Aiwork</th>\n",
       "      <td>17600.0</td>\n",
       "    </tr>\n",
       "    <tr>\n",
       "      <th>...</th>\n",
       "      <td>...</td>\n",
       "    </tr>\n",
       "    <tr>\n",
       "      <th>paternill</th>\n",
       "      <td>0.0</td>\n",
       "    </tr>\n",
       "    <tr>\n",
       "      <th>pat.canny</th>\n",
       "      <td>0.0</td>\n",
       "    </tr>\n",
       "    <tr>\n",
       "      <th>past-future</th>\n",
       "      <td>0.0</td>\n",
       "    </tr>\n",
       "    <tr>\n",
       "      <th>passuraero</th>\n",
       "      <td>0.0</td>\n",
       "    </tr>\n",
       "    <tr>\n",
       "      <th>zyzhe</th>\n",
       "      <td>0.0</td>\n",
       "    </tr>\n",
       "  </tbody>\n",
       "</table>\n",
       "<p>22570 rows × 1 columns</p>\n",
       "</div>"
      ],
      "text/plain": [
       "                    claps\n",
       "author                   \n",
       "humzanasirgd10    25826.0\n",
       "seatoken          21004.0\n",
       "dr-mehmet-yildiz  18399.0\n",
       "kevin-e-stone     17800.0\n",
       "Aiwork            17600.0\n",
       "...                   ...\n",
       "paternill             0.0\n",
       "pat.canny             0.0\n",
       "past-future           0.0\n",
       "passuraero            0.0\n",
       "zyzhe                 0.0\n",
       "\n",
       "[22570 rows x 1 columns]"
      ]
     },
     "execution_count": 104,
     "metadata": {},
     "output_type": "execute_result"
    }
   ],
   "source": [
    "df_author = medium_data[['author','claps']]\n",
    "df_author = df_author.groupby('author').sum()\n",
    "num_df_author =  df_author.sort_values(by = ['claps'],ascending=False)\n",
    "num_df_author"
   ]
  },
  {
   "cell_type": "code",
   "execution_count": 105,
   "id": "78403e94",
   "metadata": {},
   "outputs": [
    {
     "data": {
      "text/plain": [
       "Text(0, 0.5, 'author')"
      ]
     },
     "execution_count": 105,
     "metadata": {},
     "output_type": "execute_result"
    },
    {
     "data": {
      "image/png": "[encoded data removed]",
      "text/plain": [
       "<Figure size 432x288 with 1 Axes>"
      ]
     },
     "metadata": {
      "needs_background": "light"
     },
     "output_type": "display_data"
    }
   ],
   "source": [
    "top_10_authors = num_df_author.head(10)['claps']\n",
    "top_10_authors.plot.barh()\n",
    "plt.title('Top 10 author')\n",
    "plt.xlabel('claps')\n",
    "plt.ylabel('author')"
   ]
  },
  {
   "cell_type": "markdown",
   "id": "cc3dd8a1",
   "metadata": {},
   "source": [
    "# Nhìn lại quá trình làm đồ án:"
   ]
  },
  {
   "cell_type": "markdown",
   "id": "de988e9e",
   "metadata": {},
   "source": [
    "- Mỗi thành viên đã gặp những khó khăn gì?\n",
    "- Mồi thành viên học được gì hữu ích.\n",
    "- Nhóm: Nếu có thêm thời gian thì sẽ làm gì?"
   ]
  },
  {
   "cell_type": "markdown",
   "id": "2ef0dfbd",
   "metadata": {},
   "source": [
    "Hau"
   ]
  },
  {
   "cell_type": "markdown",
   "id": "ae49f9c0",
   "metadata": {},
   "source": [
    "### Thành viên: Hà Thị Ngọc Thắm\n",
    "Khó khăn: \n",
    "- Khó khăn trong việc chọn dữ liệu vì nguồn dữ liệu quá lớn và đảm bảo yêu cầu về thời gian làm bài cũng như độ phức tạp của dữ liệu.\n",
    "- Khó khăn trong việc sử dụng git để push, merge trong quá trình làm push lên git hay bị lỗi.\n",
    "- Khó khăn trong việc đặt câu hỏi, lên ý tưởng cho từng câu. \n",
    "- Thời gian học, tìm hiểu python, numpy, pandas còn khá hạn chế.\n",
    "- Thời gian làm đồ án khá ít do trùng nhiều đồ án môn khác và thi cuối kì.\n",
    "\n",
    "Những kiến thức học được:\n",
    " - Nắm cơ bản về quy trình khám phá, xử lí và phân tích dữ liệu.\n",
    " - Nắm cơ bản các thư viện numpy, pandas, matplotlib, ....\n",
    " - Phối hợp và sử dụng công cụ git, github để làm việc nhóm (nắm được các lênh cơ bản). \n",
    "\n"
   ]
  },
  {
   "cell_type": "markdown",
   "id": "fcf709c5",
   "metadata": {},
   "source": [
    "Nhóm:"
   ]
  },
  {
   "cell_type": "markdown",
   "id": "f214fcab",
   "metadata": {},
   "source": [
    "# Tài liệu tham khảo:"
   ]
  },
  {
   "cell_type": "markdown",
   "id": "3d9736c8",
   "metadata": {},
   "source": [
    "- Tài liệu môn học\n",
    "- Dataset: [Medium 2021 data science articles dataset](https://www.kaggle.com/viniciuslambert/medium-2021-data-science-articles-dataset), Vinicius Lambert."
   ]
  }
 ],
 "metadata": {
  "kernelspec": {
   "display_name": "Python 3 (ipykernel)",
   "language": "python",
   "name": "python3"
  },
  "language_info": {
   "codemirror_mode": {
    "name": "ipython",
    "version": 3
   },
   "file_extension": ".py",
   "mimetype": "text/x-python",
   "name": "python",
   "nbconvert_exporter": "python",
   "pygments_lexer": "ipython3",
   "version": "3.9.8"
  },
  "toc": {
   "base_numbering": 1,
   "nav_menu": {},
   "number_sections": true,
   "sideBar": true,
   "skip_h1_title": false,
   "title_cell": "Table of Contents",
   "title_sidebar": "Contents",
   "toc_cell": false,
   "toc_position": {},
   "toc_section_display": true,
   "toc_window_display": false
  }
 },
 "nbformat": 4,
 "nbformat_minor": 5
}
