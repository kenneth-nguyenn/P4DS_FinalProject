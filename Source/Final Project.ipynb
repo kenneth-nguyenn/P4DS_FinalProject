{
 "cells": [
  {
   "cell_type": "markdown",
   "id": "9e88a48d",
   "metadata": {},
   "source": [
    "# Đồ án cuối kì (Lập trình cho Khoa học dữ liệu)"
   ]
  },
  {
   "cell_type": "markdown",
   "id": "b73003f3",
   "metadata": {},
   "source": [
    "Giao vien\n",
    "Thông tin nhóm:\n",
    "1. Nguyễn Văn Hậu (1712258)\n",
    "2. Hà Thị Ngọc Thăm (1712160)\n",
    "\n",
    "Phân công công việc: https://docs.google.com/spreadsheets/d/1yk7EGQSebSC8R5h_UnNOg1wxUU1y9y6lNY5y9waDXA4/edit?usp=sharing\n",
    "\n",
    "Github: "
   ]
  },
  {
   "cell_type": "code",
   "execution_count": 1,
   "id": "1bfc3d50",
   "metadata": {},
   "outputs": [],
   "source": [
    "import numpy as np\n",
    "import pandas as pd\n",
    "import datetime\n",
    "import re\n",
    "import matplotlib.pyplot as plt"
   ]
  },
  {
   "cell_type": "markdown",
   "id": "06979780",
   "metadata": {},
   "source": [
    "Để dữ liệu được quan sát đầy đủ hơn, em set chiều dài cột rộng hơn một chút."
   ]
  },
  {
   "cell_type": "code",
   "execution_count": 2,
   "id": "4c10eab5",
   "metadata": {},
   "outputs": [],
   "source": [
    "pd.set_option('max_colwidth', 150)"
   ]
  },
  {
   "cell_type": "markdown",
   "id": "eec24408",
   "metadata": {},
   "source": [
    "# Thu thập dữ liệu:"
   ]
  },
  {
   "cell_type": "markdown",
   "id": "ca1a46aa",
   "metadata": {},
   "source": [
    "- Tên tập dữ liệu: **\"Medium 2021 data science articles dataset\"**\n",
    "- Mô tả về dữ liệu:\n",
    "    - RAW: \"Data about 45k+ data science articles published on medium in 2021.\"\n",
    "    - Vietsub: Dữ liệu khoảng trên 45 ngàn dòng về các bài báo khoa học trên Medium vào năm 2021.\n",
    "    - Tập dữ liệu tập trung vào các lĩnh vực:  Data Science, Machine Learning, Artificial Inteligence, Deep Learning, Data, Big Data, Analytics.\n",
    "- Tác giả: Vinicius Lambert\n",
    "- Nguồn dataset: [Kaggle](https://www.kaggle.com/viniciuslambert/medium-2021-data-science-articles-dataset)\n",
    "- License: **[CC0: Public Domain](https://creativecommons.org/publicdomain/zero/1.0/)** (No Copyright)\n",
    "- Tác giả thu thập data bằng cách parser HTML, được trình bày cách thu thập tại [file notebook](https://github.com/viniciusLambert/medium-scraping/blob/main/scrap.ipynb) này."
   ]
  },
  {
   "cell_type": "markdown",
   "id": "453be705",
   "metadata": {},
   "source": [
    "# Khám phá dữ liệu:"
   ]
  },
  {
   "cell_type": "markdown",
   "id": "607d9c54",
   "metadata": {},
   "source": [
    "Thử xem những dòng đầu tiên của data có hình dạng ra sao."
   ]
  },
  {
   "cell_type": "code",
   "execution_count": 3,
   "id": "598433b5",
   "metadata": {},
   "outputs": [
    {
     "data": {
      "text/html": [
       "<div>\n",
       "<style scoped>\n",
       "    .dataframe tbody tr th:only-of-type {\n",
       "        vertical-align: middle;\n",
       "    }\n",
       "\n",
       "    .dataframe tbody tr th {\n",
       "        vertical-align: top;\n",
       "    }\n",
       "\n",
       "    .dataframe thead th {\n",
       "        text-align: right;\n",
       "    }\n",
       "</style>\n",
       "<table border=\"1\" class=\"dataframe\">\n",
       "  <thead>\n",
       "    <tr style=\"text-align: right;\">\n",
       "      <th></th>\n",
       "      <th>url</th>\n",
       "      <th>title</th>\n",
       "      <th>author</th>\n",
       "      <th>author_page</th>\n",
       "      <th>subtitle</th>\n",
       "      <th>claps</th>\n",
       "      <th>responses</th>\n",
       "      <th>reading_time</th>\n",
       "      <th>tag</th>\n",
       "      <th>date</th>\n",
       "    </tr>\n",
       "  </thead>\n",
       "  <tbody>\n",
       "    <tr>\n",
       "      <th>0</th>\n",
       "      <td>https://medium.com/@dharmeshpanchmatia/data-analytics-and-ai-ml-platform-for-ecommerce-68639df89c7f</td>\n",
       "      <td>Data Analytics and AI/ML platform for eCommerce</td>\n",
       "      <td>dharmeshpanchmatia</td>\n",
       "      <td>https://medium.com/@dharmeshpanchmatia</td>\n",
       "      <td>Improve user pr</td>\n",
       "      <td>30.0</td>\n",
       "      <td>0.0</td>\n",
       "      <td>5.0</td>\n",
       "      <td>Big Data</td>\n",
       "      <td>2021-01-01</td>\n",
       "    </tr>\n",
       "    <tr>\n",
       "      <th>1</th>\n",
       "      <td>https://medium.com/predict/the-journey-from-an-apple-silicon-m1-powered-laptop-to-an-amd-ryzen-threadripper-3-desktop-6315252ac9d1</td>\n",
       "      <td>The journey from an Apple Silicon M1 powered laptop to an AMD Ryzen Threadripper 3 desktop.</td>\n",
       "      <td>dimitrisv</td>\n",
       "      <td>https://medium.com/@dimitrisv</td>\n",
       "      <td>NaN</td>\n",
       "      <td>42.0</td>\n",
       "      <td>0.0</td>\n",
       "      <td>5.0</td>\n",
       "      <td>Big Data</td>\n",
       "      <td>2021-01-01</td>\n",
       "    </tr>\n",
       "    <tr>\n",
       "      <th>2</th>\n",
       "      <td>https://medium.com/@rajsaraogi/demystifying-kpis-in-analytics-60084292412c</td>\n",
       "      <td>Demystifying KPIs in Analytics</td>\n",
       "      <td>rajsaraogi</td>\n",
       "      <td>https://medium.com/@rajsaraogi</td>\n",
       "      <td>NaN</td>\n",
       "      <td>19.0</td>\n",
       "      <td>0.0</td>\n",
       "      <td>3.0</td>\n",
       "      <td>Big Data</td>\n",
       "      <td>2021-01-01</td>\n",
       "    </tr>\n",
       "    <tr>\n",
       "      <th>3</th>\n",
       "      <td>https://medium.com/@bigdataschool/%D0%B1%D0%BE%D0%BB%D1%8C%D1%88%D0%B0%D1%8F-%D1%80%D0%B0%D0%B7%D0%BD%D0%B8%D1%86%D0%B0-%D1%87%D0%B5%D0%BC-%D1%81%...</td>\n",
       "      <td>Большая разница: чем структурированная потоковая передача в Apache Spark отличается от Spark Streaming</td>\n",
       "      <td>bigdataschool</td>\n",
       "      <td>https://medium.com/@bigdataschool</td>\n",
       "      <td>NaN</td>\n",
       "      <td>0.0</td>\n",
       "      <td>0.0</td>\n",
       "      <td>6.0</td>\n",
       "      <td>Big Data</td>\n",
       "      <td>2021-01-01</td>\n",
       "    </tr>\n",
       "    <tr>\n",
       "      <th>4</th>\n",
       "      <td>https://medium.com/@arnowa-44509/iot-a-new-way-of-life-249f69134af9</td>\n",
       "      <td>IoT: A New Way of Life</td>\n",
       "      <td>arnowa-44509</td>\n",
       "      <td>https://medium.com/@arnowa-44509</td>\n",
       "      <td>IoT is more than just the Internet of things, it’s a network of new…</td>\n",
       "      <td>0.0</td>\n",
       "      <td>0.0</td>\n",
       "      <td>3.0</td>\n",
       "      <td>Big Data</td>\n",
       "      <td>2021-01-01</td>\n",
       "    </tr>\n",
       "  </tbody>\n",
       "</table>\n",
       "</div>"
      ],
      "text/plain": [
       "                                                                                                                                                     url  \\\n",
       "0                                                    https://medium.com/@dharmeshpanchmatia/data-analytics-and-ai-ml-platform-for-ecommerce-68639df89c7f   \n",
       "1                     https://medium.com/predict/the-journey-from-an-apple-silicon-m1-powered-laptop-to-an-amd-ryzen-threadripper-3-desktop-6315252ac9d1   \n",
       "2                                                                             https://medium.com/@rajsaraogi/demystifying-kpis-in-analytics-60084292412c   \n",
       "3  https://medium.com/@bigdataschool/%D0%B1%D0%BE%D0%BB%D1%8C%D1%88%D0%B0%D1%8F-%D1%80%D0%B0%D0%B7%D0%BD%D0%B8%D1%86%D0%B0-%D1%87%D0%B5%D0%BC-%D1%81%...   \n",
       "4                                                                                    https://medium.com/@arnowa-44509/iot-a-new-way-of-life-249f69134af9   \n",
       "\n",
       "                                                                                                    title  \\\n",
       "0                                                         Data Analytics and AI/ML platform for eCommerce   \n",
       "1             The journey from an Apple Silicon M1 powered laptop to an AMD Ryzen Threadripper 3 desktop.   \n",
       "2                                                                          Demystifying KPIs in Analytics   \n",
       "3  Большая разница: чем структурированная потоковая передача в Apache Spark отличается от Spark Streaming   \n",
       "4                                                                                  IoT: A New Way of Life   \n",
       "\n",
       "               author                             author_page  \\\n",
       "0  dharmeshpanchmatia  https://medium.com/@dharmeshpanchmatia   \n",
       "1           dimitrisv           https://medium.com/@dimitrisv   \n",
       "2          rajsaraogi          https://medium.com/@rajsaraogi   \n",
       "3       bigdataschool       https://medium.com/@bigdataschool   \n",
       "4        arnowa-44509        https://medium.com/@arnowa-44509   \n",
       "\n",
       "                                                               subtitle  \\\n",
       "0                                                       Improve user pr   \n",
       "1                                                                   NaN   \n",
       "2                                                                   NaN   \n",
       "3                                                                   NaN   \n",
       "4  IoT is more than just the Internet of things, it’s a network of new…   \n",
       "\n",
       "   claps  responses  reading_time       tag        date  \n",
       "0   30.0        0.0           5.0  Big Data  2021-01-01  \n",
       "1   42.0        0.0           5.0  Big Data  2021-01-01  \n",
       "2   19.0        0.0           3.0  Big Data  2021-01-01  \n",
       "3    0.0        0.0           6.0  Big Data  2021-01-01  \n",
       "4    0.0        0.0           3.0  Big Data  2021-01-01  "
      ]
     },
     "execution_count": 3,
     "metadata": {},
     "output_type": "execute_result"
    }
   ],
   "source": [
    "medium_data = pd.read_csv(\n",
    "    \"Data/medium-data-science-articles-2021.csv\", \n",
    "    encoding='utf-8'\n",
    ")\n",
    "\n",
    "medium_data.head()"
   ]
  },
  {
   "cell_type": "markdown",
   "id": "3a9094b1",
   "metadata": {},
   "source": [
    "## Dữ liệu có bao nhiêu dòng và bao nhiêu cột?"
   ]
  },
  {
   "cell_type": "markdown",
   "id": "19e3a6a6",
   "metadata": {},
   "source": [
    "- `num_cols` la\n",
    "- `num_rows` la"
   ]
  },
  {
   "cell_type": "code",
   "execution_count": 4,
   "id": "7d4ea7fc",
   "metadata": {},
   "outputs": [],
   "source": [
    "# num_cols, num_rows = data.shape\n",
    "# print(num_cols)\n",
    "# print(num_rows)"
   ]
  },
  {
   "cell_type": "markdown",
   "id": "09b389a3",
   "metadata": {},
   "source": [
    "Đúng theo mô tả về datâ của tác giả."
   ]
  },
  {
   "cell_type": "markdown",
   "id": "fa9a6e86",
   "metadata": {},
   "source": [
    "## Mỗi dòng có ý nghĩa gì? Các dòng có ý nghĩa khác nhau không?"
   ]
  },
  {
   "cell_type": "markdown",
   "id": "eac2b7ab",
   "metadata": {},
   "source": []
  },
  {
   "cell_type": "markdown",
   "id": "9a407054",
   "metadata": {},
   "source": [
    "## Dữ liệu có các dòng bị lặp không?"
   ]
  },
  {
   "cell_type": "markdown",
   "id": "b4c63569",
   "metadata": {},
   "source": []
  },
  {
   "cell_type": "markdown",
   "id": "bb6cddb5",
   "metadata": {},
   "source": [
    "## Ý nghĩa mỗi cột?"
   ]
  },
  {
   "cell_type": "markdown",
   "id": "f2120904",
   "metadata": {},
   "source": []
  },
  {
   "cell_type": "markdown",
   "id": "20f98208",
   "metadata": {},
   "source": [
    "## Kiểu dữ liệu của cột:"
   ]
  },
  {
   "cell_type": "markdown",
   "id": "11812116",
   "metadata": {},
   "source": [
    "Mỗi cột hiện đang thuộc kiểu dữ liệu gì? Có cột nào có kiểu dữ liệu chưa phù hợp đề có thể xử lý tiếp không? Để trả lời câu hỏi này, trước hết ta kiểm tra xem kiểu dữ liệu của mỗi cột hiện tại là gì?"
   ]
  },
  {
   "cell_type": "code",
   "execution_count": 5,
   "id": "b435e4a3",
   "metadata": {},
   "outputs": [
    {
     "data": {
      "text/plain": [
       "url              object\n",
       "title            object\n",
       "author           object\n",
       "author_page      object\n",
       "subtitle         object\n",
       "claps           float64\n",
       "responses       float64\n",
       "reading_time    float64\n",
       "tag              object\n",
       "date             object\n",
       "dtype: object"
      ]
     },
     "execution_count": 5,
     "metadata": {},
     "output_type": "execute_result"
    }
   ],
   "source": [
    "medium_data.dtypes"
   ]
  },
  {
   "cell_type": "markdown",
   "id": "f0740d77",
   "metadata": {},
   "source": [
    "Theo như mô tả bên trên, kiểu dữ liệu của các cột `url`, `title`, `author`, `author_page`, `subtitle`, `tag`, `date` là **object** và kiểu dữ liệu của các cột `claps`, `responses`, `reading_time` là **float64**. Ở đây, ta cần xử lý hai công việc cho xử lsy kiểu dữ liệu:\n",
    "1. Kiểu dữ liệu của cột `date` đang là object, ta cần chuyển về dạng datetime để thuận tiện cho tính toán về sau.\n",
    "2. Kiểu dữ liệu của cột `reading_time` đang là float64, ta cần chuyền về đúng kiểu là timedelta."
   ]
  },
  {
   "cell_type": "markdown",
   "id": "59a4661b",
   "metadata": {},
   "source": [
    "### Xem xét kiểu dữ liệu của cột `reading_time` "
   ]
  },
  {
   "cell_type": "markdown",
   "id": "4662bb06",
   "metadata": {},
   "source": [
    "Hiện tại, cột `reading_time` mang ý nghĩa biểu thị thời gian đọc của một bài viết. Đây là con số đo lường khoảng thời gian được tính bằng đơn vị phút. Em có thể chuyển về kiểu timedelta bằng phương thức **pd.to_timedelta()** với tham số **unit** là \"m\" tương ứng với số phút. Thế nhưng, giới hạn bên trong bài trình bày bên dưới chỉ sử dụng đơn vị phút, và nếu như chuyển sang kiểu dữ liệu này, việc lấy thông tin số phút trở nên dài dòng không cần thiết. Trong ngữ cảnh này, em xin phép được giữ nguyên cột `reading_time` kiểu dữ liệu là **float64**."
   ]
  },
  {
   "cell_type": "markdown",
   "id": "b66a6a16",
   "metadata": {},
   "source": [
    "### Chuyển kiểu dữ liệu của cột `date` về **datetime**"
   ]
  },
  {
   "cell_type": "markdown",
   "id": "f7ca473d",
   "metadata": {},
   "source": [
    "Chuyển về dạng datetime bằng phương thức **pd.to_datetime()** với tham số **format** là \"%Y-%m-%d\" tương ứng \"2021-01-01\"."
   ]
  },
  {
   "cell_type": "code",
   "execution_count": 6,
   "id": "3f61a5aa",
   "metadata": {},
   "outputs": [],
   "source": [
    "medium_data.date = pd.to_datetime(\n",
    "    medium_data.date, \n",
    "    format=\"%Y-%m-%d\"\n",
    ")\n",
    "\n",
    "medium_data.date = medium_data.date.astype(\"datetime64\")"
   ]
  },
  {
   "cell_type": "markdown",
   "id": "308dd7f2",
   "metadata": {},
   "source": [
    "Kiểm tra lại kiểu dữ liệu đã được chuyển sang datetime hay chưa bằng cách sử dụng phương thức **.dt.year** để lấy ra các năm có trong record."
   ]
  },
  {
   "cell_type": "code",
   "execution_count": 7,
   "id": "c386a15f",
   "metadata": {
    "scrolled": true
   },
   "outputs": [
    {
     "data": {
      "text/plain": [
       "0        2021\n",
       "1        2021\n",
       "2        2021\n",
       "3        2021\n",
       "4        2021\n",
       "         ... \n",
       "47655    2021\n",
       "47656    2021\n",
       "47657    2021\n",
       "47658    2021\n",
       "47659    2021\n",
       "Name: date, Length: 47660, dtype: int64"
      ]
     },
     "execution_count": 7,
     "metadata": {},
     "output_type": "execute_result"
    }
   ],
   "source": [
    "medium_data.date.dt.year"
   ]
  },
  {
   "cell_type": "markdown",
   "id": "b819fc8f",
   "metadata": {},
   "source": [
    "Từ đây, ta có thể dễ dàng sử dụng cột `date` với kiểu dữ liệu datetime."
   ]
  },
  {
   "cell_type": "markdown",
   "id": "beba6960",
   "metadata": {},
   "source": [
    "## Kiểu dữ liệu dạng số (numeric):"
   ]
  },
  {
   "cell_type": "markdown",
   "id": "f19296ee",
   "metadata": {},
   "source": [
    "Em sắp xếp cột `date` vào nhóm  numeric. Các cột numeric bao gồm: `claps`,`responses`,`reading_time` và `date` được lưu lại trong DataFrame `numeric_df`. Để kiểm tra các giá trị phân bố, em tạo một DataFrame `nume_col_profiles_df` có chứa các cột thuộc kiểu numeric và được thống kê với các số liệu về:\n",
    "- `missing_ratio`: Tỉ lệ các giá trị thiếu trong cột.\n",
    "- `min`: Giá trị nhỏ nhất trong cột.\n",
    "- `max`: Giá trị lớn nhất trong cột."
   ]
  },
  {
   "cell_type": "code",
   "execution_count": 8,
   "id": "f9f695ec",
   "metadata": {},
   "outputs": [
    {
     "data": {
      "text/html": [
       "<div>\n",
       "<style scoped>\n",
       "    .dataframe tbody tr th:only-of-type {\n",
       "        vertical-align: middle;\n",
       "    }\n",
       "\n",
       "    .dataframe tbody tr th {\n",
       "        vertical-align: top;\n",
       "    }\n",
       "\n",
       "    .dataframe thead th {\n",
       "        text-align: right;\n",
       "    }\n",
       "</style>\n",
       "<table border=\"1\" class=\"dataframe\">\n",
       "  <thead>\n",
       "    <tr style=\"text-align: right;\">\n",
       "      <th></th>\n",
       "      <th>claps</th>\n",
       "      <th>responses</th>\n",
       "      <th>reading_time</th>\n",
       "      <th>date</th>\n",
       "    </tr>\n",
       "  </thead>\n",
       "  <tbody>\n",
       "    <tr>\n",
       "      <th>missing_ratio</th>\n",
       "      <td>0.0</td>\n",
       "      <td>0.0</td>\n",
       "      <td>0.0</td>\n",
       "      <td>0.0</td>\n",
       "    </tr>\n",
       "    <tr>\n",
       "      <th>min</th>\n",
       "      <td>0.0</td>\n",
       "      <td>0.0</td>\n",
       "      <td>0.0</td>\n",
       "      <td>2021-01-01 00:00:00</td>\n",
       "    </tr>\n",
       "    <tr>\n",
       "      <th>max</th>\n",
       "      <td>23000.0</td>\n",
       "      <td>125.0</td>\n",
       "      <td>131.0</td>\n",
       "      <td>2021-12-31 00:00:00</td>\n",
       "    </tr>\n",
       "  </tbody>\n",
       "</table>\n",
       "</div>"
      ],
      "text/plain": [
       "                 claps responses reading_time                 date\n",
       "missing_ratio      0.0       0.0          0.0                  0.0\n",
       "min                0.0       0.0          0.0  2021-01-01 00:00:00\n",
       "max            23000.0     125.0        131.0  2021-12-31 00:00:00"
      ]
     },
     "execution_count": 8,
     "metadata": {},
     "output_type": "execute_result"
    }
   ],
   "source": [
    "numeric_df = medium_data.select_dtypes(\n",
    "    include=['number', 'datetime64'])\n",
    "\n",
    "nume_col_profiles_df = pd.DataFrame(\n",
    "    index=[\"missing_ratio\", \"min\", \"max\"], \n",
    "    columns=numeric_df.columns)\n",
    "\n",
    "nume_col_profiles_df.loc[\"missing_ratio\"] = np.mean(numeric_df.isna())*100\n",
    "nume_col_profiles_df.loc[\"min\"] = np.min(numeric_df)\n",
    "nume_col_profiles_df.loc[\"max\"] = np.max(numeric_df)\n",
    "\n",
    "nume_col_profiles_df"
   ]
  },
  {
   "cell_type": "markdown",
   "id": "f79e818e",
   "metadata": {},
   "source": [
    "Không có dữ liệu thiếu trong dữ liệu, các số liệu cũng không có gì bất thường trong dữ liệu."
   ]
  },
  {
   "cell_type": "markdown",
   "id": "e57cebf3",
   "metadata": {},
   "source": [
    "## Kiểu dữ liệu dạng phân loại (categorical):"
   ]
  },
  {
   "cell_type": "markdown",
   "id": "db3de7ae",
   "metadata": {},
   "source": [
    "Ở phần này, các cột có kiểu dữ liệu dạng categorical bao gồm: `url`,`title`,`author`,`author_page`,`subtitle` và `tag` được lưu lại trong DataFrame `categorical_df`. Để xem phân bố của các thuộc tính này, em dùng DataFrame `cate_col_profiles_df` có các cột tương ứng với các cột của `categorical_df` với các cột index là:\n",
    "- `missing_ratio`: Tỉ lệ các giá trị thiếu trong cột.\n",
    "- `num_dif_vals`: Số lượng các giá trị khác nhau trong cột.\n",
    "- `diff_vals`: Chứa một list các giá trị khác nhau trong cột."
   ]
  },
  {
   "cell_type": "code",
   "execution_count": 9,
   "id": "f1bcc7a6",
   "metadata": {},
   "outputs": [
    {
     "data": {
      "text/html": [
       "<div>\n",
       "<style scoped>\n",
       "    .dataframe tbody tr th:only-of-type {\n",
       "        vertical-align: middle;\n",
       "    }\n",
       "\n",
       "    .dataframe tbody tr th {\n",
       "        vertical-align: top;\n",
       "    }\n",
       "\n",
       "    .dataframe thead th {\n",
       "        text-align: right;\n",
       "    }\n",
       "</style>\n",
       "<table border=\"1\" class=\"dataframe\">\n",
       "  <thead>\n",
       "    <tr style=\"text-align: right;\">\n",
       "      <th></th>\n",
       "      <th>url</th>\n",
       "      <th>title</th>\n",
       "      <th>author</th>\n",
       "      <th>author_page</th>\n",
       "      <th>subtitle</th>\n",
       "      <th>tag</th>\n",
       "    </tr>\n",
       "  </thead>\n",
       "  <tbody>\n",
       "    <tr>\n",
       "      <th>missing_ratio</th>\n",
       "      <td>0.0</td>\n",
       "      <td>0.0</td>\n",
       "      <td>0.0</td>\n",
       "      <td>0.0</td>\n",
       "      <td>71.195971</td>\n",
       "      <td>0.0</td>\n",
       "    </tr>\n",
       "    <tr>\n",
       "      <th>num_diff_vals</th>\n",
       "      <td>47659</td>\n",
       "      <td>46746</td>\n",
       "      <td>22570</td>\n",
       "      <td>23812</td>\n",
       "      <td>13318</td>\n",
       "      <td>7</td>\n",
       "    </tr>\n",
       "    <tr>\n",
       "      <th>diff_vals</th>\n",
       "      <td>[https://2madness.com/conversations-with-ai-versions-of-historical-figures-6ecead7f1b33, https://aboveintelligent.com/a-i-safety-freeze-thaw-proto...</td>\n",
       "      <td>[# 8 — Continuous Benchmark in ML projects, # Boston Airbnb data understanding. ####, #001 Scatter plots: Using the per ninety metric, Goals per 9...</td>\n",
       "      <td>[-TutortAcademy, 0-gauravjoshi, 0.0sk_m, 007jayeshyadav, 010gvr, 021studio, 02aripfauzan, 07antara, 08cristiano, 0sophietaylor, 0xchina, 0xcrane, ...</td>\n",
       "      <td>[https://2madness.com/@njbwrites, https://aboveintelligent.com/@oaklandthinktank, https://ai.blobcity.com/@profsarang, https://ai.blobcity.com/@sa...</td>\n",
       "      <td>[![Alt Text](https://dev-to-uploads.s3.amazonaws.com/i/wh8funt0ccelxg8rxp0v.png) Attaullah Shafiq, #1 Get reps in, #1 Massive Open…, #2. Make it i...</td>\n",
       "      <td>[Analytics, Artificial Inteligence, Big Data, Data, Data Science, Deep Learning, Machine Learning]</td>\n",
       "    </tr>\n",
       "  </tbody>\n",
       "</table>\n",
       "</div>"
      ],
      "text/plain": [
       "                                                                                                                                                                 url  \\\n",
       "missing_ratio                                                                                                                                                    0.0   \n",
       "num_diff_vals                                                                                                                                                  47659   \n",
       "diff_vals      [https://2madness.com/conversations-with-ai-versions-of-historical-figures-6ecead7f1b33, https://aboveintelligent.com/a-i-safety-freeze-thaw-proto...   \n",
       "\n",
       "                                                                                                                                                               title  \\\n",
       "missing_ratio                                                                                                                                                    0.0   \n",
       "num_diff_vals                                                                                                                                                  46746   \n",
       "diff_vals      [# 8 — Continuous Benchmark in ML projects, # Boston Airbnb data understanding. ####, #001 Scatter plots: Using the per ninety metric, Goals per 9...   \n",
       "\n",
       "                                                                                                                                                              author  \\\n",
       "missing_ratio                                                                                                                                                    0.0   \n",
       "num_diff_vals                                                                                                                                                  22570   \n",
       "diff_vals      [-TutortAcademy, 0-gauravjoshi, 0.0sk_m, 007jayeshyadav, 010gvr, 021studio, 02aripfauzan, 07antara, 08cristiano, 0sophietaylor, 0xchina, 0xcrane, ...   \n",
       "\n",
       "                                                                                                                                                         author_page  \\\n",
       "missing_ratio                                                                                                                                                    0.0   \n",
       "num_diff_vals                                                                                                                                                  23812   \n",
       "diff_vals      [https://2madness.com/@njbwrites, https://aboveintelligent.com/@oaklandthinktank, https://ai.blobcity.com/@profsarang, https://ai.blobcity.com/@sa...   \n",
       "\n",
       "                                                                                                                                                            subtitle  \\\n",
       "missing_ratio                                                                                                                                              71.195971   \n",
       "num_diff_vals                                                                                                                                                  13318   \n",
       "diff_vals      [![Alt Text](https://dev-to-uploads.s3.amazonaws.com/i/wh8funt0ccelxg8rxp0v.png) Attaullah Shafiq, #1 Get reps in, #1 Massive Open…, #2. Make it i...   \n",
       "\n",
       "                                                                                                              tag  \n",
       "missing_ratio                                                                                                 0.0  \n",
       "num_diff_vals                                                                                                   7  \n",
       "diff_vals      [Analytics, Artificial Inteligence, Big Data, Data, Data Science, Deep Learning, Machine Learning]  "
      ]
     },
     "execution_count": 9,
     "metadata": {},
     "output_type": "execute_result"
    }
   ],
   "source": [
    "categorical_df = medium_data.select_dtypes(\n",
    "    include=\"object\")\n",
    "\n",
    "def missing_ratio(column):\n",
    "    return np.mean(column.isna())*100\n",
    "\n",
    "def num_diff_vals(column):\n",
    "    return column.nunique()\n",
    "\n",
    "def diff_vals(column):\n",
    "    x = column\n",
    "    \n",
    "    x.replace(\" \", np.nan, inplace=True)\n",
    "    x.dropna(inplace=True)\n",
    "\n",
    "    return np.unique(x)\n",
    "\n",
    "cate_col_profiles_df = categorical_df.agg(\n",
    "    [missing_ratio, num_diff_vals, diff_vals]\n",
    ")\n",
    "\n",
    "cate_col_profiles_df"
   ]
  },
  {
   "cell_type": "markdown",
   "id": "4704bb98",
   "metadata": {},
   "source": [
    "Từ các giá trị bên trên, em có một số kết luận ban đầu như sau:\n",
    "- Các số liệu không có bất thường:\n",
    "    - `title` có thể giống nhau, số lượng các tiêu đề giống nhau là 47560 - 46746 = 814 (Chiếm khoảng 0.02% so với tổng số record), tức là tỉ lệ các tiêu đề giống nhau khá thấp so với tổng số dữ liệu đang có. Nói cách khác là không có gì bất thường.\n",
    "    - `tag` có 7 giá trị khác nhau tương ứng: \"Analytics\", \"Artificial Inteligence\", \"Big Data\", \"Data\", \"Data Science\", \"Deep Learning\", \"Machine Learning\".\n",
    "    - `date` có tổng số các giá trị khác nhau là 351 < 365 (tổng số ngày trong một năm).\n",
    "    - `subtitle` có tỉ lệ giá trị thiếu cao. Số lượng các giá trị khác **NaN** trong cột này là **13728** (Kiểm tra bằng **len(medium_data[~medium_data.subtitle.isna()])**), và số các giá trị khác nhau là **13318** (**<13728**) là hợp lý.\n",
    "- Các số liệu cần kiểm tra thêm để kết luận.\n",
    "    - Số các giá trị khác nhau của `url`: 47659 trên tổng số 47660 record, tức là có một đường dẫn URL bị trùng lặp.\n",
    "    - Số các giá trị khác nhau của `author` và `author_page` lần lượt là **22569** và **23811**. Ta cần kiểm tra lại lý do mà hai giá trị này lại không bằng nhau. \t"
   ]
  },
  {
   "cell_type": "markdown",
   "id": "c5e7da9e",
   "metadata": {},
   "source": [
    "### Kiểm tra các giá trị trùng nhau trong cột `url`"
   ]
  },
  {
   "cell_type": "markdown",
   "id": "c220ef9b",
   "metadata": {},
   "source": [
    "`url_duplicate_df` là DataFrame có chứa tất cả các giá trị trùng lặp của cột `url`."
   ]
  },
  {
   "cell_type": "code",
   "execution_count": 10,
   "id": "8d83c294",
   "metadata": {},
   "outputs": [
    {
     "data": {
      "text/html": [
       "<div>\n",
       "<style scoped>\n",
       "    .dataframe tbody tr th:only-of-type {\n",
       "        vertical-align: middle;\n",
       "    }\n",
       "\n",
       "    .dataframe tbody tr th {\n",
       "        vertical-align: top;\n",
       "    }\n",
       "\n",
       "    .dataframe thead th {\n",
       "        text-align: right;\n",
       "    }\n",
       "</style>\n",
       "<table border=\"1\" class=\"dataframe\">\n",
       "  <thead>\n",
       "    <tr style=\"text-align: right;\">\n",
       "      <th></th>\n",
       "      <th>url</th>\n",
       "      <th>title</th>\n",
       "      <th>author</th>\n",
       "      <th>author_page</th>\n",
       "      <th>subtitle</th>\n",
       "      <th>tag</th>\n",
       "    </tr>\n",
       "  </thead>\n",
       "  <tbody>\n",
       "    <tr>\n",
       "      <th>24526</th>\n",
       "      <td>https://medium.com/@veronikabelokhvostova/im-a-data-scientist-here-s-why-i-work-at-facebook-a1fdb42fc8c4</td>\n",
       "      <td>&lt;strong class=\"markup--strong markup--h3-strong\"&gt;&lt;em class=\"markup--em markup--h3-em\"&gt;I’m a Data Scientist — Here’s why I work at Facebook&lt;/em&gt;&lt;/s...</td>\n",
       "      <td>veronikabelokhvostova</td>\n",
       "      <td>https://medium.com/@veronikabelokhvostova</td>\n",
       "      <td>NaN</td>\n",
       "      <td>Data Science</td>\n",
       "    </tr>\n",
       "    <tr>\n",
       "      <th>25593</th>\n",
       "      <td>https://medium.com/@veronikabelokhvostova/im-a-data-scientist-here-s-why-i-work-at-facebook-a1fdb42fc8c4</td>\n",
       "      <td>Facebook destroyed my family andmy mother and grandfather.</td>\n",
       "      <td>lexahe3185</td>\n",
       "      <td>https://medium.com/@lexahe3185</td>\n",
       "      <td>NaN</td>\n",
       "      <td>Data Science</td>\n",
       "    </tr>\n",
       "  </tbody>\n",
       "</table>\n",
       "</div>"
      ],
      "text/plain": [
       "                                                                                                            url  \\\n",
       "24526  https://medium.com/@veronikabelokhvostova/im-a-data-scientist-here-s-why-i-work-at-facebook-a1fdb42fc8c4   \n",
       "25593  https://medium.com/@veronikabelokhvostova/im-a-data-scientist-here-s-why-i-work-at-facebook-a1fdb42fc8c4   \n",
       "\n",
       "                                                                                                                                                       title  \\\n",
       "24526  <strong class=\"markup--strong markup--h3-strong\"><em class=\"markup--em markup--h3-em\">I’m a Data Scientist — Here’s why I work at Facebook</em></s...   \n",
       "25593                                                                                             Facebook destroyed my family andmy mother and grandfather.   \n",
       "\n",
       "                      author                                author_page  \\\n",
       "24526  veronikabelokhvostova  https://medium.com/@veronikabelokhvostova   \n",
       "25593             lexahe3185             https://medium.com/@lexahe3185   \n",
       "\n",
       "      subtitle           tag  \n",
       "24526      NaN  Data Science  \n",
       "25593      NaN  Data Science  "
      ]
     },
     "execution_count": 10,
     "metadata": {},
     "output_type": "execute_result"
    }
   ],
   "source": [
    "url_duplicate_df = categorical_df[categorical_df.url.duplicated(keep=False)]\n",
    "url_duplicate_df"
   ]
  },
  {
   "cell_type": "markdown",
   "id": "55cd116f",
   "metadata": {},
   "source": [
    "Cùng mở rộng `url` để kiểm tra xem:"
   ]
  },
  {
   "cell_type": "code",
   "execution_count": 11,
   "id": "559d5e86",
   "metadata": {},
   "outputs": [
    {
     "data": {
      "text/html": [
       "<div>\n",
       "<style scoped>\n",
       "    .dataframe tbody tr th:only-of-type {\n",
       "        vertical-align: middle;\n",
       "    }\n",
       "\n",
       "    .dataframe tbody tr th {\n",
       "        vertical-align: top;\n",
       "    }\n",
       "\n",
       "    .dataframe thead th {\n",
       "        text-align: right;\n",
       "    }\n",
       "</style>\n",
       "<table border=\"1\" class=\"dataframe\">\n",
       "  <thead>\n",
       "    <tr style=\"text-align: right;\">\n",
       "      <th></th>\n",
       "      <th>url</th>\n",
       "    </tr>\n",
       "  </thead>\n",
       "  <tbody>\n",
       "    <tr>\n",
       "      <th>24526</th>\n",
       "      <td>https://medium.com/@veronikabelokhvostova/im-a-data-scientist-here-s-why-i-work-at-facebook-a1fdb42fc8c4</td>\n",
       "    </tr>\n",
       "    <tr>\n",
       "      <th>25593</th>\n",
       "      <td>https://medium.com/@veronikabelokhvostova/im-a-data-scientist-here-s-why-i-work-at-facebook-a1fdb42fc8c4</td>\n",
       "    </tr>\n",
       "  </tbody>\n",
       "</table>\n",
       "</div>"
      ],
      "text/plain": [
       "                                                                                                            url\n",
       "24526  https://medium.com/@veronikabelokhvostova/im-a-data-scientist-here-s-why-i-work-at-facebook-a1fdb42fc8c4\n",
       "25593  https://medium.com/@veronikabelokhvostova/im-a-data-scientist-here-s-why-i-work-at-facebook-a1fdb42fc8c4"
      ]
     },
     "execution_count": 11,
     "metadata": {},
     "output_type": "execute_result"
    }
   ],
   "source": [
    "url_duplicate_df[['url']]"
   ]
  },
  {
   "cell_type": "markdown",
   "id": "c3f7732b",
   "metadata": {},
   "source": [
    "- Một đường dẫn đến bài viết cụ thể của Medium bao gồm tên miền: `https://medium.com/`, theo sau đó là tên của tác giả (username) `@username/`, và cuối cùng là tiêu đề bài viết.\n",
    "- Tập trung vào phần đường dẫn URL của hai dòng này, ta có thể dễ dàng thấy đường dẫn url bị trùng lặp này thuộc về `author` là **veronikabelokhvostova**. Có vẻ có vấn đề trong việc thu thập dữ liệu trên. \n",
    "- Trong tình huống này, em loại bỏ dòng record sai thông tin. Ở dòng còn lại (dòng đúng), có vẻ như `title` chưa được trích xuất chuẩn, em cũng chỉnh lại trong bước này."
   ]
  },
  {
   "cell_type": "code",
   "execution_count": 12,
   "id": "1fbe14d0",
   "metadata": {},
   "outputs": [
    {
     "data": {
      "text/plain": [
       "(47659, 10)"
      ]
     },
     "execution_count": 12,
     "metadata": {},
     "output_type": "execute_result"
    }
   ],
   "source": [
    "medium_data.drop(\n",
    "    url_duplicate_df.iloc[1].name, \n",
    "    inplace=True)\n",
    "medium_data.shape"
   ]
  },
  {
   "cell_type": "code",
   "execution_count": 13,
   "id": "3404a349",
   "metadata": {},
   "outputs": [
    {
     "data": {
      "text/plain": [
       "'I’m a Data Scientist — Here’s why I work at Facebook'"
      ]
     },
     "execution_count": 13,
     "metadata": {},
     "output_type": "execute_result"
    }
   ],
   "source": [
    "title_str = re.findall(\n",
    "    '(\\w’[^<]*)', \n",
    "    medium_data.title.iloc[url_duplicate_df.iloc[0].name])[0]\n",
    "title_str = title_str.replace(u'\\xa0', u' ')\n",
    "title_str = title_str.replace(u'\\u200a', u' ')\n",
    "\n",
    "medium_data.loc[url_duplicate_df.iloc[0].name, \"title\"] = title_str\n",
    "medium_data.loc[url_duplicate_df.iloc[0].name, \"title\"]"
   ]
  },
  {
   "cell_type": "markdown",
   "id": "8dd48500",
   "metadata": {},
   "source": [
    "### Kiểm tra các giá trị giữa hai cột là `author` và `author_page`"
   ]
  },
  {
   "cell_type": "markdown",
   "id": "c494d44b",
   "metadata": {},
   "source": [
    "Để xem mối quan hệ giữa hai cột này, ta tiến hành gộp hai cột lại."
   ]
  },
  {
   "cell_type": "code",
   "execution_count": 14,
   "id": "f52c85fc",
   "metadata": {},
   "outputs": [],
   "source": [
    "author_groupby_df = medium_data.groupby(\n",
    "    [\"author\",\"author_page\"]\n",
    ")[\"author\"].agg(pd.Series.mode)"
   ]
  },
  {
   "cell_type": "markdown",
   "id": "99c3177e",
   "metadata": {},
   "source": [
    "Tìm ra tất cả các giá trị trùng nhau trong cột này."
   ]
  },
  {
   "cell_type": "code",
   "execution_count": 15,
   "id": "2669f734",
   "metadata": {},
   "outputs": [
    {
     "data": {
      "text/plain": [
       "author         author_page                                  \n",
       "0sophietaylor  https://medium.com/@0sophietaylor                0sophietaylor\n",
       "               https://towardsdatascience.com/@0sophietaylor    0sophietaylor\n",
       "17.rsuraj      https://betterprogramming.pub/@17.rsuraj             17.rsuraj\n",
       "               https://medium.com/@17.rsuraj                        17.rsuraj\n",
       "               https://pub.towardsai.net/@17.rsuraj                 17.rsuraj\n",
       "                                                                    ...      \n",
       "zsalloum       https://medium.com/@zsalloum                          zsalloum\n",
       "               https://towardsdatascience.com/@zsalloum              zsalloum\n",
       "zulie          https://betterprogramming.pub/@zulie                     zulie\n",
       "               https://medium.com/@zulie                                zulie\n",
       "               https://towardsdatascience.com/@zulie                    zulie\n",
       "Name: author, Length: 2268, dtype: object"
      ]
     },
     "execution_count": 15,
     "metadata": {},
     "output_type": "execute_result"
    }
   ],
   "source": [
    "author_groupby_df[author_groupby_df.duplicated(keep=False)]"
   ]
  },
  {
   "cell_type": "markdown",
   "id": "ce83da8f",
   "metadata": {},
   "source": [
    "Như vậy, chúng ta có thể hiểu rằng, mỗi tác giả (author) có thể có nhiều hơn một domain, dẫn đến việc mỗi tác giả có thể có nhiều hơn một đường dẫn đến trang tác giả (author_page). Kết luận, không có vấn đề gì bất thường."
   ]
  },
  {
   "cell_type": "markdown",
   "id": "7cc5fd53",
   "metadata": {},
   "source": [
    "## Trực quan hóa một số thuộc tính"
   ]
  },
  {
   "cell_type": "markdown",
   "id": "3cd21b65",
   "metadata": {},
   "source": [
    "### Thông tin chung của các cột có kiểu numeric"
   ]
  },
  {
   "cell_type": "markdown",
   "id": "5683a509",
   "metadata": {},
   "source": [
    "Phần trực quan này bỏ qua cột `date` vì mục đích là có thêm cảm nhận về dữ liệu trong từng thuộc tính, chưa xét đến mối tương quan theo thời gian nào cả. Tiếp theo, dữ liệu được chuẩn hóa theo min-max lưu vào DataFrame `normalized_df` đế có sự so sánh đúng nhất giữa các thuộc tính."
   ]
  },
  {
   "cell_type": "code",
   "execution_count": 16,
   "id": "bd30786b",
   "metadata": {
    "scrolled": false
   },
   "outputs": [
    {
     "data": {
      "image/png": "[encoded data removed]",
      "text/plain": [
       "<Figure size 432x288 with 1 Axes>"
      ]
     },
     "metadata": {
      "needs_background": "light"
     },
     "output_type": "display_data"
    }
   ],
   "source": [
    "df = medium_data.select_dtypes(include=\"number\")\n",
    "normalized_df = (df-df.min())/(df.min()+df.max())\n",
    "normalized_df.plot.box();"
   ]
  },
  {
   "cell_type": "markdown",
   "id": "9b9ebf3d",
   "metadata": {},
   "source": [
    "Nhìn chung, các cột có phân phối lệch về phía bên trái (về phía 0) nhiều."
   ]
  },
  {
   "cell_type": "code",
   "execution_count": 17,
   "id": "221e8722",
   "metadata": {},
   "outputs": [
    {
     "data": {
      "image/png": "[encoded data removed]",
      "text/plain": [
       "<Figure size 432x288 with 1 Axes>"
      ]
     },
     "metadata": {
      "needs_background": "light"
     },
     "output_type": "display_data"
    }
   ],
   "source": [
    "normalized_df.plot.box(showfliers=False);"
   ]
  },
  {
   "cell_type": "markdown",
   "id": "bf250c0f",
   "metadata": {},
   "source": [
    "So với hai cột còn lại, `reading_time` có vẻ có phân phối gần với phân phối chuẩn hơn. (Trường hợp bỏ qua các phần tử ngoại lai - outlier - được xác định nhờ boxplot)."
   ]
  },
  {
   "cell_type": "markdown",
   "id": "67d24893",
   "metadata": {},
   "source": [
    "### Xem phân bố của cột `claps`"
   ]
  },
  {
   "cell_type": "code",
   "execution_count": 18,
   "id": "9b334316",
   "metadata": {},
   "outputs": [
    {
     "data": {
      "image/png": "[encoded data removed]",
      "text/plain": [
       "<Figure size 432x288 with 1 Axes>"
      ]
     },
     "metadata": {
      "needs_background": "light"
     },
     "output_type": "display_data"
    }
   ],
   "source": [
    "medium_data.claps.plot.box(showfliers=False);"
   ]
  },
  {
   "cell_type": "markdown",
   "id": "b29273c7",
   "metadata": {},
   "source": [
    "Bỏ qua các giá trị ngoại lai, kết luận ban đầu rằng dữ liệu bị lệch, mỗi bài viết có lượt `claps` phổ biến trong khoảng 0 đến 40."
   ]
  },
  {
   "cell_type": "markdown",
   "id": "095808c4",
   "metadata": {},
   "source": [
    "### Xem phân bố của cột `responses`"
   ]
  },
  {
   "cell_type": "code",
   "execution_count": 19,
   "id": "a6c2e085",
   "metadata": {},
   "outputs": [
    {
     "data": {
      "text/plain": [
       "count    47659.000000\n",
       "mean         0.243270\n",
       "std          1.506261\n",
       "min          0.000000\n",
       "25%          0.000000\n",
       "50%          0.000000\n",
       "75%          0.000000\n",
       "max        125.000000\n",
       "Name: responses, dtype: float64"
      ]
     },
     "execution_count": 19,
     "metadata": {},
     "output_type": "execute_result"
    }
   ],
   "source": [
    "medium_data.loc[:, \"responses\"].describe()"
   ]
  },
  {
   "cell_type": "markdown",
   "id": "21c2ee05",
   "metadata": {},
   "source": [
    "Có đến khoảng 70% dữ liệu bằng 0, giá trị cao nhất là 125. "
   ]
  },
  {
   "cell_type": "code",
   "execution_count": 20,
   "id": "f99c397f",
   "metadata": {},
   "outputs": [
    {
     "data": {
      "image/png": "[encoded data removed]",
      "text/plain": [
       "<Figure size 432x288 with 1 Axes>"
      ]
     },
     "metadata": {
      "needs_background": "light"
     },
     "output_type": "display_data"
    }
   ],
   "source": [
    "medium_data.loc[:, \"responses\"].plot.hist(bins=[0, 1, 2, 3, 4, 5]);"
   ]
  },
  {
   "cell_type": "markdown",
   "id": "ea777ab2",
   "metadata": {},
   "source": [
    "Xét các dữ liệu có `responses` gần với 0, ta có thể thấy dữ liệu nhận giá trị 0 vượt trội hơn. Kết luận ban đầu là `responses` có phân phối lệch, phần lớn các record có số lượng `responses` bằng 0."
   ]
  },
  {
   "cell_type": "markdown",
   "id": "68e443a5",
   "metadata": {},
   "source": [
    "### Xem phân bố của cột `reading_time`"
   ]
  },
  {
   "cell_type": "code",
   "execution_count": 21,
   "id": "eee97df2",
   "metadata": {},
   "outputs": [
    {
     "data": {
      "image/png": "[encoded data removed]",
      "text/plain": [
       "<Figure size 432x288 with 1 Axes>"
      ]
     },
     "metadata": {
      "needs_background": "light"
     },
     "output_type": "display_data"
    }
   ],
   "source": [
    "numeric_df[\"reading_time\"].plot.box(showfliers=False);"
   ]
  },
  {
   "cell_type": "markdown",
   "id": "7caadbe7",
   "metadata": {},
   "source": [
    "Trường hợp bỏ qua các phần từ ngoại lại (outlier), phân bố của cột `reading_time` với các giá trị còn lại khá chuẩn. Ta có thể có được kết luận ban đầu rằng tập dữ liệu có thời gian đọc trung bình là khoảng 4 phút, Range của thời gian đọc là từ 3 phút đến 6 phút."
   ]
  },
  {
   "cell_type": "markdown",
   "id": "9558e8ce",
   "metadata": {},
   "source": [
    "### Xem phân bố dữ liệu giữa các `tag`"
   ]
  },
  {
   "cell_type": "markdown",
   "id": "a6eab168",
   "metadata": {},
   "source": [
    "Đầu tiên, em tiến hành gom dữ liệu theo các `tag`, sau đó sử dụng hàm count() theo `url` đế đến số lượng trong tag đó. Lý do chọn `url` là vì tất cả các đường dẫn đều là duy nhất. việc trùng lặp đã được xử lý ở bên trên."
   ]
  },
  {
   "cell_type": "code",
   "execution_count": 24,
   "id": "abeec48e",
   "metadata": {},
   "outputs": [
    {
     "data": {
      "text/plain": [
       "tag\n",
       "Analytics                  2412\n",
       "Artificial Inteligence    10160\n",
       "Big Data                   2251\n",
       "Data                       6703\n",
       "Data Science              11414\n",
       "Deep Learning              3972\n",
       "Machine Learning          10747\n",
       "Name: url, dtype: int64"
      ]
     },
     "execution_count": 24,
     "metadata": {},
     "output_type": "execute_result"
    }
   ],
   "source": [
    "count_tag_df = medium_data.groupby([\"tag\"])['url'].count()\n",
    "count_tag_df"
   ]
  },
  {
   "cell_type": "markdown",
   "id": "dce6d37f",
   "metadata": {},
   "source": [
    "Kế tiếp, em vẽ biểu đồ pie theo từng `tag`."
   ]
  },
  {
   "cell_type": "code",
   "execution_count": 25,
   "id": "41c985b1",
   "metadata": {},
   "outputs": [
    {
     "data": {
      "image/png": "[encoded data removed]",
      "text/plain": [
       "<Figure size 432x288 with 1 Axes>"
      ]
     },
     "metadata": {},
     "output_type": "display_data"
    }
   ],
   "source": [
    "count_tag_df.plot.pie(\n",
    "    ylabel=\"\", \n",
    "    title=\"So luong record giua cac tag\");"
   ]
  },
  {
   "cell_type": "markdown",
   "id": "2c10ef54",
   "metadata": {},
   "source": [
    "Từ đây ta có kết luận rằng, tập dữ liệu chứa nhiều bài viết nằm trong ba lĩnh vực chính là **\"Data Science\"**, **\"Artificial Inteligence\"**, **\"Machine Learning\"**."
   ]
  },
  {
   "cell_type": "markdown",
   "id": "a1879c9f",
   "metadata": {},
   "source": [
    "# Đặt câu hỏi"
   ]
  },
  {
   "cell_type": "markdown",
   "id": "685f20af",
   "metadata": {},
   "source": [
    "Yêu cầu:\n",
    "- Câu hỏi là gì? Cần có ý nghĩa?\n",
    "- Nếu trả lời được câu hỏi thì sẽ có lợi ích gì?\n",
    "- Không nên quá dễ để trả lời?\n",
    "\n",
    "\n",
    "Với mỗi câu hỏi:\n",
    "- Cần có tiền xử lý dữ liệu không? Và nếu có thì nhóm bạn xử lý như thế nào? (Gồm text mô tả và code bên dưới)\n",
    "- Nhóm bạn phân tích dữ liệu như thế nào để ra được câu trả lời cho câu hỏi? (text và code)"
   ]
  },
  {
   "cell_type": "markdown",
   "id": "71db9bed",
   "metadata": {},
   "source": [
    "## Tổng hợp những bài viết của TOP-3 tác giả nổi bật trong lĩnh vực *Data Science* có lượt `claps` cao  mà có tổng thời gian đọc không quá 30 phút?"
   ]
  },
  {
   "cell_type": "markdown",
   "id": "c7740f00",
   "metadata": {},
   "source": [
    "Ý nghĩa:\n",
    "- Medium được xem là trang tin tức, bài viết chất lượng dành cho mọi đối tượng, đặc biệt là những người quan tâm đến nhóm ngành CNTT. Medium cung cấp sẵn thời gian đọc ngay đầu bài viết.\n",
    "- Trong một ngày, nhiều người sắp xếp thời gian chặt chẽ, rõ ràng. Họ thường dành thời gian cụ thể cho một công việc cụ thể.\n",
    "- Câu hỏi trên trả lời cho vấn đề dựa vào tổng thời gian mà bạn dành cho việc đọc mỗi ngày và lĩnh vực mà bạn đang quan tâm, câu trả lời sẽ gợi ý cho bạn về những bài viết của các tác giả nổi bật trong lĩnh vực đó, chọn ra những bài có lượt `claps` cao nằm trong tổng thời gian phù hợp và sẵn sàng cho bạn truy cập vào ngay bài viết."
   ]
  },
  {
   "cell_type": "markdown",
   "id": "7b05d5d8",
   "metadata": {},
   "source": [
    "Câu hỏi trên được chia ra làm các câu hỏi nhỏ như sau:\n",
    "- TOP-3 tác giả nổi bật nhất trong từng lĩnh vực Data Science là ai?\n",
    "- Những bài viết nào của họ có lượt `claps` cao?\n",
    "- Tổng hợp những bài viết có tổng thời gian đọc không quá 30 phút?"
   ]
  },
  {
   "cell_type": "markdown",
   "id": "3c4214f8",
   "metadata": {},
   "source": [
    "Tùy nhu cầu mỗi người, ở đây em dành `reading_time_total`: 30 phút tổng thời gian dành cho việc đọc Medium mỗi ngày và lĩnh vực mình chọn đọc hôm nay là `choosing_tagged `: Data Science. `TOP_author` là con số mà mình muốn lựa chọn số tác giả nổi bật nhất trong lĩnh vực tương ứng, giới hạn của bài này những người nổi bật được xem là những người đóng góp nhiều cho lĩnh vực, có nhiều bài viết trong lĩnh vực đó. Ở đây cần trả lời cho TOP-3 tác giả, vậy nên `TOP-author`: 3."
   ]
  },
  {
   "cell_type": "code",
   "execution_count": 26,
   "id": "4bc60cc1",
   "metadata": {},
   "outputs": [],
   "source": [
    "reading_time_total = 30\n",
    "choosing_tagged = \"Data Science\"\n",
    "TOP_author = 3"
   ]
  },
  {
   "cell_type": "markdown",
   "id": "4162d8e3",
   "metadata": {},
   "source": [
    "`is_true_tag` là một Series True/False để xác định bài viết đó có thuộc lĩnh vực mà ta quan tâm hay không. `author_df`, `author_count` lần lượt là DataFrame của `author` và đếm số lần xuất hiện của nó. Dòng dưới cùng in ra một array những tác giả thuộc TOP-3 trong lĩnh vực này."
   ]
  },
  {
   "cell_type": "code",
   "execution_count": 27,
   "id": "50dc7cba",
   "metadata": {},
   "outputs": [
    {
     "data": {
      "text/plain": [
       "array(['ODSC', 'preettheman', 'kaabar-sofien'], dtype=object)"
      ]
     },
     "execution_count": 27,
     "metadata": {},
     "output_type": "execute_result"
    }
   ],
   "source": [
    "is_true_tag = medium_data[\"tag\"] == choosing_tagged\n",
    "\n",
    "author_df, author_count = np.unique(\n",
    "    medium_data[is_true_tag][\"author\"], \n",
    "    return_counts=True)\n",
    "author_count_index = author_count.argsort(kind=\"stable\")\n",
    "author_df[author_count_index[-TOP_author:]]"
   ]
  },
  {
   "cell_type": "markdown",
   "id": "115a30db",
   "metadata": {},
   "source": [
    "Như vậy, ta có được những cái tên tác giả nổi bật là: **'ODSC'**, **'preettheman'** và **'kaabar-sofien'**. Tiếp theo, cùng xem số lượng bài viết trong lĩnh vực trên của từng tác giả."
   ]
  },
  {
   "cell_type": "code",
   "execution_count": 28,
   "id": "f0857b50",
   "metadata": {},
   "outputs": [
    {
     "data": {
      "image/png": "[encoded data removed]",
      "text/plain": [
       "<Figure size 432x288 with 1 Axes>"
      ]
     },
     "metadata": {
      "needs_background": "light"
     },
     "output_type": "display_data"
    }
   ],
   "source": [
    "plt.barh(author_df[author_count_index[-TOP_author:]], \n",
    "         author_count[author_count_index[-TOP_author:]])\n",
    "\n",
    "plt.show();"
   ]
  },
  {
   "cell_type": "markdown",
   "id": "e8e13d90",
   "metadata": {},
   "source": [
    "Kế tiếp, `is_true_author` là một Series True/False để đánh dấu các record có tác giả nằm trong TOP-3 bên trên. `top_author_df` là một DataFrame tổng hợp lại các record có các tác giả nằm trong TOP-3 và thuộc lĩnh vực đang quan tâm. Ngoài ra, DataFrame này còn được sort lại theo giá trị nằm trong thuộc tính `claps` với `accending`: False."
   ]
  },
  {
   "cell_type": "code",
   "execution_count": 29,
   "id": "b5947280",
   "metadata": {
    "scrolled": false
   },
   "outputs": [
    {
     "data": {
      "text/html": [
       "<div>\n",
       "<style scoped>\n",
       "    .dataframe tbody tr th:only-of-type {\n",
       "        vertical-align: middle;\n",
       "    }\n",
       "\n",
       "    .dataframe tbody tr th {\n",
       "        vertical-align: top;\n",
       "    }\n",
       "\n",
       "    .dataframe thead th {\n",
       "        text-align: right;\n",
       "    }\n",
       "</style>\n",
       "<table border=\"1\" class=\"dataframe\">\n",
       "  <thead>\n",
       "    <tr style=\"text-align: right;\">\n",
       "      <th></th>\n",
       "      <th>url</th>\n",
       "      <th>title</th>\n",
       "      <th>author</th>\n",
       "      <th>author_page</th>\n",
       "      <th>subtitle</th>\n",
       "      <th>claps</th>\n",
       "      <th>responses</th>\n",
       "      <th>reading_time</th>\n",
       "      <th>tag</th>\n",
       "      <th>date</th>\n",
       "    </tr>\n",
       "  </thead>\n",
       "  <tbody>\n",
       "    <tr>\n",
       "      <th>8018</th>\n",
       "      <td>https://medium.com/@preettheman/these-are-the-programming-languages-google-uses-e248a03a589d</td>\n",
       "      <td>These are the programming languages Google uses</td>\n",
       "      <td>preettheman</td>\n",
       "      <td>https://medium.com/@preettheman</td>\n",
       "      <td>NaN</td>\n",
       "      <td>344.0</td>\n",
       "      <td>0.0</td>\n",
       "      <td>4.0</td>\n",
       "      <td>Data Science</td>\n",
       "      <td>2021-04-13</td>\n",
       "    </tr>\n",
       "    <tr>\n",
       "      <th>11589</th>\n",
       "      <td>https://medium.com/geekculture/using-time-to-generate-trading-signals-detecting-trend-exhaustions-d94cd218e124</td>\n",
       "      <td>Using Time to Generate Trading Signals. Detecting Trend Exhaustion.</td>\n",
       "      <td>kaabar-sofien</td>\n",
       "      <td>https://medium.com/@kaabar-sofien</td>\n",
       "      <td>Creating the Time Spent…</td>\n",
       "      <td>237.0</td>\n",
       "      <td>2.0</td>\n",
       "      <td>8.0</td>\n",
       "      <td>Data Science</td>\n",
       "      <td>2021-05-19</td>\n",
       "    </tr>\n",
       "    <tr>\n",
       "      <th>26931</th>\n",
       "      <td>https://medium.com/@preettheman/dont-use-golang-use-this-instead-3002e2e88368</td>\n",
       "      <td>Don’t use Golang, use this instead!</td>\n",
       "      <td>preettheman</td>\n",
       "      <td>https://medium.com/@preettheman</td>\n",
       "      <td>NaN</td>\n",
       "      <td>153.0</td>\n",
       "      <td>0.0</td>\n",
       "      <td>3.0</td>\n",
       "      <td>Data Science</td>\n",
       "      <td>2021-10-17</td>\n",
       "    </tr>\n",
       "    <tr>\n",
       "      <th>25040</th>\n",
       "      <td>https://medium.com/@preettheman/these-are-all-of-the-algorithms-for-python-9b8fb21394cb</td>\n",
       "      <td>These are all of the algorithms for Python</td>\n",
       "      <td>preettheman</td>\n",
       "      <td>https://medium.com/@preettheman</td>\n",
       "      <td>NaN</td>\n",
       "      <td>147.0</td>\n",
       "      <td>0.0</td>\n",
       "      <td>2.0</td>\n",
       "      <td>Data Science</td>\n",
       "      <td>2021-10-10</td>\n",
       "    </tr>\n",
       "    <tr>\n",
       "      <th>21668</th>\n",
       "      <td>https://medium.com/@preettheman/jupyterlab-just-got-a-massive-update-8697cf7eb67b</td>\n",
       "      <td>JupyterLab just got a massive update!</td>\n",
       "      <td>preettheman</td>\n",
       "      <td>https://medium.com/@preettheman</td>\n",
       "      <td>NaN</td>\n",
       "      <td>147.0</td>\n",
       "      <td>0.0</td>\n",
       "      <td>3.0</td>\n",
       "      <td>Data Science</td>\n",
       "      <td>2021-09-22</td>\n",
       "    </tr>\n",
       "  </tbody>\n",
       "</table>\n",
       "</div>"
      ],
      "text/plain": [
       "                                                                                                                  url  \\\n",
       "8018                     https://medium.com/@preettheman/these-are-the-programming-languages-google-uses-e248a03a589d   \n",
       "11589  https://medium.com/geekculture/using-time-to-generate-trading-signals-detecting-trend-exhaustions-d94cd218e124   \n",
       "26931                                   https://medium.com/@preettheman/dont-use-golang-use-this-instead-3002e2e88368   \n",
       "25040                         https://medium.com/@preettheman/these-are-all-of-the-algorithms-for-python-9b8fb21394cb   \n",
       "21668                               https://medium.com/@preettheman/jupyterlab-just-got-a-massive-update-8697cf7eb67b   \n",
       "\n",
       "                                                                     title  \\\n",
       "8018                       These are the programming languages Google uses   \n",
       "11589  Using Time to Generate Trading Signals. Detecting Trend Exhaustion.   \n",
       "26931                                  Don’t use Golang, use this instead!   \n",
       "25040                           These are all of the algorithms for Python   \n",
       "21668                                JupyterLab just got a massive update!   \n",
       "\n",
       "              author                        author_page  \\\n",
       "8018     preettheman    https://medium.com/@preettheman   \n",
       "11589  kaabar-sofien  https://medium.com/@kaabar-sofien   \n",
       "26931    preettheman    https://medium.com/@preettheman   \n",
       "25040    preettheman    https://medium.com/@preettheman   \n",
       "21668    preettheman    https://medium.com/@preettheman   \n",
       "\n",
       "                       subtitle  claps  responses  reading_time           tag  \\\n",
       "8018                        NaN  344.0        0.0           4.0  Data Science   \n",
       "11589  Creating the Time Spent…  237.0        2.0           8.0  Data Science   \n",
       "26931                       NaN  153.0        0.0           3.0  Data Science   \n",
       "25040                       NaN  147.0        0.0           2.0  Data Science   \n",
       "21668                       NaN  147.0        0.0           3.0  Data Science   \n",
       "\n",
       "            date  \n",
       "8018  2021-04-13  \n",
       "11589 2021-05-19  \n",
       "26931 2021-10-17  \n",
       "25040 2021-10-10  \n",
       "21668 2021-09-22  "
      ]
     },
     "execution_count": 29,
     "metadata": {},
     "output_type": "execute_result"
    }
   ],
   "source": [
    "is_true_author = medium_data[\"author\"].isin(\n",
    "    ['ODSC', 'preettheman', 'kaabar-sofien']\n",
    ")\n",
    "\n",
    "top_author_df = medium_data[is_true_author & is_true_tag].sort_values(\n",
    "    by=\"claps\", \n",
    "    ascending=False\n",
    ")\n",
    "\n",
    "top_author_df.head()"
   ]
  },
  {
   "cell_type": "markdown",
   "id": "5b86dfce",
   "metadata": {},
   "source": [
    "Như vậy, từ DataFrame trên ta có được các bài viết của các tác giả hàng đầu, lượt `clap` được sắp xếp từ cao đến thấp. Công việc còn lại là tìm ra những bài viết có tổng thời gian nằm trong khoảng 30 phút. Phần này, em chưa tìm ra cách nào để tránh phải sử dụng vòng lặp **for**, nhằm mục đích tối ưu thời gian. Trước khi nhanh thì phải đúng, em xây dựng hàm `subset_time_by_sum` nhận hai giá trị **INPUT** là `column` là một cột của pandas và `target` là con số tổng thời gian; **OUTPUT** của hàm này là một list gồm các **index** của những column có tổng nằm trong khoảng của `target`."
   ]
  },
  {
   "cell_type": "code",
   "execution_count": 30,
   "id": "d56571a5",
   "metadata": {},
   "outputs": [],
   "source": [
    "def subset_time_by_sum(colum, target):\n",
    "    \"\"\"\n",
    "    parameter:\n",
    "    - column: (Series) A colums in pandas (have index).\n",
    "    - target: (Int) Given a sum.\n",
    "    \n",
    "    return:\n",
    "    - (list) index column of all subset which have total time equal sum.\n",
    "    \"\"\"\n",
    "    sum_time = 0\n",
    "    i = 0\n",
    "    result = []\n",
    "    \n",
    "    for i in colum.index:\n",
    "        if sum_time == target: break\n",
    "        if (sum_time+colum[i]) < target:\n",
    "            sum_time+=colum[i]\n",
    "            result.append(i)\n",
    "    return result"
   ]
  },
  {
   "cell_type": "markdown",
   "id": "74adb0a8",
   "metadata": {},
   "source": [
    "Dựa vào index trả về từ hàm `subset_time_by_sum`, ta lấy ra các record từ `top_author_df` và lưu lại những bài viết chuẩn bị để đọc vào DataFrame `reading_post_df`."
   ]
  },
  {
   "cell_type": "code",
   "execution_count": 31,
   "id": "b693e4f5",
   "metadata": {},
   "outputs": [
    {
     "data": {
      "text/html": [
       "<div>\n",
       "<style scoped>\n",
       "    .dataframe tbody tr th:only-of-type {\n",
       "        vertical-align: middle;\n",
       "    }\n",
       "\n",
       "    .dataframe tbody tr th {\n",
       "        vertical-align: top;\n",
       "    }\n",
       "\n",
       "    .dataframe thead th {\n",
       "        text-align: right;\n",
       "    }\n",
       "</style>\n",
       "<table border=\"1\" class=\"dataframe\">\n",
       "  <thead>\n",
       "    <tr style=\"text-align: right;\">\n",
       "      <th></th>\n",
       "      <th>url</th>\n",
       "      <th>title</th>\n",
       "      <th>author</th>\n",
       "      <th>author_page</th>\n",
       "      <th>subtitle</th>\n",
       "      <th>claps</th>\n",
       "      <th>responses</th>\n",
       "      <th>reading_time</th>\n",
       "      <th>tag</th>\n",
       "      <th>date</th>\n",
       "    </tr>\n",
       "  </thead>\n",
       "  <tbody>\n",
       "    <tr>\n",
       "      <th>8018</th>\n",
       "      <td>https://medium.com/@preettheman/these-are-the-programming-languages-google-uses-e248a03a589d</td>\n",
       "      <td>These are the programming languages Google uses</td>\n",
       "      <td>preettheman</td>\n",
       "      <td>https://medium.com/@preettheman</td>\n",
       "      <td>NaN</td>\n",
       "      <td>344.0</td>\n",
       "      <td>0.0</td>\n",
       "      <td>4.0</td>\n",
       "      <td>Data Science</td>\n",
       "      <td>2021-04-13</td>\n",
       "    </tr>\n",
       "    <tr>\n",
       "      <th>11589</th>\n",
       "      <td>https://medium.com/geekculture/using-time-to-generate-trading-signals-detecting-trend-exhaustions-d94cd218e124</td>\n",
       "      <td>Using Time to Generate Trading Signals. Detecting Trend Exhaustion.</td>\n",
       "      <td>kaabar-sofien</td>\n",
       "      <td>https://medium.com/@kaabar-sofien</td>\n",
       "      <td>Creating the Time Spent…</td>\n",
       "      <td>237.0</td>\n",
       "      <td>2.0</td>\n",
       "      <td>8.0</td>\n",
       "      <td>Data Science</td>\n",
       "      <td>2021-05-19</td>\n",
       "    </tr>\n",
       "    <tr>\n",
       "      <th>26932</th>\n",
       "      <td>https://towardsdatascience.com/a-pyspark-example-for-dealing-with-larger-than-memory-datasets-70dbc82b0e98</td>\n",
       "      <td>A PySpark Example for Dealing with Larger than Memory Datasets</td>\n",
       "      <td>georgiadeaconu</td>\n",
       "      <td>https://towardsdatascience.com/@georgiadeaconu</td>\n",
       "      <td>A step-by-step tutorial on how to use…</td>\n",
       "      <td>90.0</td>\n",
       "      <td>0.0</td>\n",
       "      <td>3.0</td>\n",
       "      <td>Data Science</td>\n",
       "      <td>2021-10-17</td>\n",
       "    </tr>\n",
       "    <tr>\n",
       "      <th>25040</th>\n",
       "      <td>https://medium.com/@preettheman/these-are-all-of-the-algorithms-for-python-9b8fb21394cb</td>\n",
       "      <td>These are all of the algorithms for Python</td>\n",
       "      <td>preettheman</td>\n",
       "      <td>https://medium.com/@preettheman</td>\n",
       "      <td>NaN</td>\n",
       "      <td>147.0</td>\n",
       "      <td>0.0</td>\n",
       "      <td>2.0</td>\n",
       "      <td>Data Science</td>\n",
       "      <td>2021-10-10</td>\n",
       "    </tr>\n",
       "    <tr>\n",
       "      <th>21668</th>\n",
       "      <td>https://medium.com/@preettheman/jupyterlab-just-got-a-massive-update-8697cf7eb67b</td>\n",
       "      <td>JupyterLab just got a massive update!</td>\n",
       "      <td>preettheman</td>\n",
       "      <td>https://medium.com/@preettheman</td>\n",
       "      <td>NaN</td>\n",
       "      <td>147.0</td>\n",
       "      <td>0.0</td>\n",
       "      <td>3.0</td>\n",
       "      <td>Data Science</td>\n",
       "      <td>2021-09-22</td>\n",
       "    </tr>\n",
       "    <tr>\n",
       "      <th>27817</th>\n",
       "      <td>https://python.plainenglish.io/named-entity-recognition-with-spacy-and-nltk-aaf6be517ad7</td>\n",
       "      <td>Named Entity Recognition with spaCy and NLTK</td>\n",
       "      <td>mayank.bali</td>\n",
       "      <td>https://python.plainenglish.io/@mayank.bali</td>\n",
       "      <td>A guide on using NLTK and spaCy to create a named entity…</td>\n",
       "      <td>256.0</td>\n",
       "      <td>0.0</td>\n",
       "      <td>6.0</td>\n",
       "      <td>Data Science</td>\n",
       "      <td>2021-10-20</td>\n",
       "    </tr>\n",
       "    <tr>\n",
       "      <th>30900</th>\n",
       "      <td>https://towardsdatascience.com/infranodus-excellent-tool-for-textual-data-analysis-2b4839e6cd10</td>\n",
       "      <td>InfraNodus: An Excellent Tool for Textual Data Analysis</td>\n",
       "      <td>petrkorab</td>\n",
       "      <td>https://towardsdatascience.com/@petrkorab</td>\n",
       "      <td>Introduction to InfraNodus with example of…</td>\n",
       "      <td>104.0</td>\n",
       "      <td>1.0</td>\n",
       "      <td>3.0</td>\n",
       "      <td>Data Science</td>\n",
       "      <td>2021-10-31</td>\n",
       "    </tr>\n",
       "  </tbody>\n",
       "</table>\n",
       "</div>"
      ],
      "text/plain": [
       "                                                                                                                  url  \\\n",
       "8018                     https://medium.com/@preettheman/these-are-the-programming-languages-google-uses-e248a03a589d   \n",
       "11589  https://medium.com/geekculture/using-time-to-generate-trading-signals-detecting-trend-exhaustions-d94cd218e124   \n",
       "26932      https://towardsdatascience.com/a-pyspark-example-for-dealing-with-larger-than-memory-datasets-70dbc82b0e98   \n",
       "25040                         https://medium.com/@preettheman/these-are-all-of-the-algorithms-for-python-9b8fb21394cb   \n",
       "21668                               https://medium.com/@preettheman/jupyterlab-just-got-a-massive-update-8697cf7eb67b   \n",
       "27817                        https://python.plainenglish.io/named-entity-recognition-with-spacy-and-nltk-aaf6be517ad7   \n",
       "30900                 https://towardsdatascience.com/infranodus-excellent-tool-for-textual-data-analysis-2b4839e6cd10   \n",
       "\n",
       "                                                                     title  \\\n",
       "8018                       These are the programming languages Google uses   \n",
       "11589  Using Time to Generate Trading Signals. Detecting Trend Exhaustion.   \n",
       "26932       A PySpark Example for Dealing with Larger than Memory Datasets   \n",
       "25040                           These are all of the algorithms for Python   \n",
       "21668                                JupyterLab just got a massive update!   \n",
       "27817                         Named Entity Recognition with spaCy and NLTK   \n",
       "30900              InfraNodus: An Excellent Tool for Textual Data Analysis   \n",
       "\n",
       "               author                                     author_page  \\\n",
       "8018      preettheman                 https://medium.com/@preettheman   \n",
       "11589   kaabar-sofien               https://medium.com/@kaabar-sofien   \n",
       "26932  georgiadeaconu  https://towardsdatascience.com/@georgiadeaconu   \n",
       "25040     preettheman                 https://medium.com/@preettheman   \n",
       "21668     preettheman                 https://medium.com/@preettheman   \n",
       "27817     mayank.bali     https://python.plainenglish.io/@mayank.bali   \n",
       "30900       petrkorab       https://towardsdatascience.com/@petrkorab   \n",
       "\n",
       "                                                        subtitle  claps  \\\n",
       "8018                                                         NaN  344.0   \n",
       "11589                                   Creating the Time Spent…  237.0   \n",
       "26932                     A step-by-step tutorial on how to use…   90.0   \n",
       "25040                                                        NaN  147.0   \n",
       "21668                                                        NaN  147.0   \n",
       "27817  A guide on using NLTK and spaCy to create a named entity…  256.0   \n",
       "30900                Introduction to InfraNodus with example of…  104.0   \n",
       "\n",
       "       responses  reading_time           tag       date  \n",
       "8018         0.0           4.0  Data Science 2021-04-13  \n",
       "11589        2.0           8.0  Data Science 2021-05-19  \n",
       "26932        0.0           3.0  Data Science 2021-10-17  \n",
       "25040        0.0           2.0  Data Science 2021-10-10  \n",
       "21668        0.0           3.0  Data Science 2021-09-22  \n",
       "27817        0.0           6.0  Data Science 2021-10-20  \n",
       "30900        1.0           3.0  Data Science 2021-10-31  "
      ]
     },
     "execution_count": 31,
     "metadata": {},
     "output_type": "execute_result"
    }
   ],
   "source": [
    "reading_post_df = medium_data.iloc[subset_time_by_sum(\n",
    "    top_author_df.reading_time, reading_time_total)]\n",
    "reading_post_df"
   ]
  },
  {
   "cell_type": "code",
   "execution_count": 32,
   "id": "f9547d15",
   "metadata": {},
   "outputs": [
    {
     "data": {
      "text/plain": [
       "29.0"
      ]
     },
     "execution_count": 32,
     "metadata": {},
     "output_type": "execute_result"
    }
   ],
   "source": [
    "reading_post_df.reading_time.sum()"
   ]
  },
  {
   "cell_type": "markdown",
   "id": "ff97696c",
   "metadata": {},
   "source": [
    "Kiểm tra lại xem tổng thời gian để đọc hết những bài viết này là 29 phút (<=30 phút) là đúng theo yêu cầu. Như vậy, những bài viết trên trả lời cho câu hỏi đặt ở đầu bài. Mời thầy và các bạn cùng xem các bài viết này."
   ]
  },
  {
   "cell_type": "code",
   "execution_count": 33,
   "id": "80bf6b78",
   "metadata": {},
   "outputs": [
    {
     "data": {
      "text/plain": [
       "8018                       https://medium.com/@preettheman/these-are-the-programming-languages-google-uses-e248a03a589d\n",
       "11589    https://medium.com/geekculture/using-time-to-generate-trading-signals-detecting-trend-exhaustions-d94cd218e124\n",
       "26932        https://towardsdatascience.com/a-pyspark-example-for-dealing-with-larger-than-memory-datasets-70dbc82b0e98\n",
       "25040                           https://medium.com/@preettheman/these-are-all-of-the-algorithms-for-python-9b8fb21394cb\n",
       "21668                                 https://medium.com/@preettheman/jupyterlab-just-got-a-massive-update-8697cf7eb67b\n",
       "27817                          https://python.plainenglish.io/named-entity-recognition-with-spacy-and-nltk-aaf6be517ad7\n",
       "30900                   https://towardsdatascience.com/infranodus-excellent-tool-for-textual-data-analysis-2b4839e6cd10\n",
       "Name: url, dtype: object"
      ]
     },
     "execution_count": 33,
     "metadata": {},
     "output_type": "execute_result"
    }
   ],
   "source": [
    "reading_post_df.url"
   ]
  },
  {
   "cell_type": "markdown",
   "id": "c0a23252",
   "metadata": {},
   "source": [
    "## Số lượng lượt claps của những bài viết thay đổi như thế nào tính theo từng tháng?"
   ]
  },
  {
   "cell_type": "code",
   "execution_count": 34,
   "id": "a41eff69",
   "metadata": {},
   "outputs": [],
   "source": [
    "medium_data[\"month\"] = medium_data.date.dt.month"
   ]
  },
  {
   "cell_type": "code",
   "execution_count": 35,
   "id": "2091d830",
   "metadata": {},
   "outputs": [
    {
     "data": {
      "text/html": [
       "<div>\n",
       "<style scoped>\n",
       "    .dataframe tbody tr th:only-of-type {\n",
       "        vertical-align: middle;\n",
       "    }\n",
       "\n",
       "    .dataframe tbody tr th {\n",
       "        vertical-align: top;\n",
       "    }\n",
       "\n",
       "    .dataframe thead th {\n",
       "        text-align: right;\n",
       "    }\n",
       "</style>\n",
       "<table border=\"1\" class=\"dataframe\">\n",
       "  <thead>\n",
       "    <tr style=\"text-align: right;\">\n",
       "      <th></th>\n",
       "      <th>claps</th>\n",
       "      <th>responses</th>\n",
       "    </tr>\n",
       "    <tr>\n",
       "      <th>month</th>\n",
       "      <th></th>\n",
       "      <th></th>\n",
       "    </tr>\n",
       "  </thead>\n",
       "  <tbody>\n",
       "    <tr>\n",
       "      <th>1</th>\n",
       "      <td>168447.0</td>\n",
       "      <td>743.0</td>\n",
       "    </tr>\n",
       "    <tr>\n",
       "      <th>2</th>\n",
       "      <td>81949.0</td>\n",
       "      <td>371.0</td>\n",
       "    </tr>\n",
       "    <tr>\n",
       "      <th>3</th>\n",
       "      <td>106506.0</td>\n",
       "      <td>503.0</td>\n",
       "    </tr>\n",
       "    <tr>\n",
       "      <th>4</th>\n",
       "      <td>162322.0</td>\n",
       "      <td>797.0</td>\n",
       "    </tr>\n",
       "    <tr>\n",
       "      <th>5</th>\n",
       "      <td>187576.0</td>\n",
       "      <td>981.0</td>\n",
       "    </tr>\n",
       "    <tr>\n",
       "      <th>6</th>\n",
       "      <td>178058.0</td>\n",
       "      <td>673.0</td>\n",
       "    </tr>\n",
       "    <tr>\n",
       "      <th>7</th>\n",
       "      <td>85355.0</td>\n",
       "      <td>412.0</td>\n",
       "    </tr>\n",
       "    <tr>\n",
       "      <th>8</th>\n",
       "      <td>145680.0</td>\n",
       "      <td>895.0</td>\n",
       "    </tr>\n",
       "    <tr>\n",
       "      <th>9</th>\n",
       "      <td>167276.0</td>\n",
       "      <td>793.0</td>\n",
       "    </tr>\n",
       "    <tr>\n",
       "      <th>10</th>\n",
       "      <td>344387.0</td>\n",
       "      <td>1984.0</td>\n",
       "    </tr>\n",
       "    <tr>\n",
       "      <th>11</th>\n",
       "      <td>340010.0</td>\n",
       "      <td>1929.0</td>\n",
       "    </tr>\n",
       "    <tr>\n",
       "      <th>12</th>\n",
       "      <td>281706.0</td>\n",
       "      <td>1513.0</td>\n",
       "    </tr>\n",
       "  </tbody>\n",
       "</table>\n",
       "</div>"
      ],
      "text/plain": [
       "          claps  responses\n",
       "month                     \n",
       "1      168447.0      743.0\n",
       "2       81949.0      371.0\n",
       "3      106506.0      503.0\n",
       "4      162322.0      797.0\n",
       "5      187576.0      981.0\n",
       "6      178058.0      673.0\n",
       "7       85355.0      412.0\n",
       "8      145680.0      895.0\n",
       "9      167276.0      793.0\n",
       "10     344387.0     1984.0\n",
       "11     340010.0     1929.0\n",
       "12     281706.0     1513.0"
      ]
     },
     "execution_count": 35,
     "metadata": {},
     "output_type": "execute_result"
    }
   ],
   "source": [
    "new_df = medium_data.groupby(\n",
    "    [\"month\"]\n",
    ")[[\"claps\", \"responses\"]].sum()\n",
    "\n",
    "new_df"
   ]
  },
  {
   "cell_type": "code",
   "execution_count": 36,
   "id": "ca15dc94",
   "metadata": {},
   "outputs": [
    {
     "data": {
      "image/png": "[encoded data removed]",
      "text/plain": [
       "<Figure size 432x288 with 1 Axes>"
      ]
     },
     "metadata": {
      "needs_background": "light"
     },
     "output_type": "display_data"
    }
   ],
   "source": [
    "new_df.plot.line(marker='o',\n",
    "                 xlabel=\"month\", \n",
    "                 ylabel=\"claps count\", \n",
    "                 legend=True);"
   ]
  },
  {
   "cell_type": "code",
   "execution_count": 37,
   "id": "f4ed8660",
   "metadata": {},
   "outputs": [
    {
     "data": {
      "text/html": [
       "<div>\n",
       "<style scoped>\n",
       "    .dataframe tbody tr th:only-of-type {\n",
       "        vertical-align: middle;\n",
       "    }\n",
       "\n",
       "    .dataframe tbody tr th {\n",
       "        vertical-align: top;\n",
       "    }\n",
       "\n",
       "    .dataframe thead th {\n",
       "        text-align: right;\n",
       "    }\n",
       "</style>\n",
       "<table border=\"1\" class=\"dataframe\">\n",
       "  <thead>\n",
       "    <tr style=\"text-align: right;\">\n",
       "      <th></th>\n",
       "      <th>claps</th>\n",
       "      <th>reading_time</th>\n",
       "    </tr>\n",
       "    <tr>\n",
       "      <th>month</th>\n",
       "      <th></th>\n",
       "      <th></th>\n",
       "    </tr>\n",
       "  </thead>\n",
       "  <tbody>\n",
       "    <tr>\n",
       "      <th>1</th>\n",
       "      <td>168447.0</td>\n",
       "      <td>17657.0</td>\n",
       "    </tr>\n",
       "    <tr>\n",
       "      <th>2</th>\n",
       "      <td>81949.0</td>\n",
       "      <td>7794.0</td>\n",
       "    </tr>\n",
       "    <tr>\n",
       "      <th>3</th>\n",
       "      <td>106506.0</td>\n",
       "      <td>11695.0</td>\n",
       "    </tr>\n",
       "    <tr>\n",
       "      <th>4</th>\n",
       "      <td>162322.0</td>\n",
       "      <td>15696.0</td>\n",
       "    </tr>\n",
       "    <tr>\n",
       "      <th>5</th>\n",
       "      <td>187576.0</td>\n",
       "      <td>16706.0</td>\n",
       "    </tr>\n",
       "    <tr>\n",
       "      <th>6</th>\n",
       "      <td>178058.0</td>\n",
       "      <td>12521.0</td>\n",
       "    </tr>\n",
       "    <tr>\n",
       "      <th>7</th>\n",
       "      <td>85355.0</td>\n",
       "      <td>9840.0</td>\n",
       "    </tr>\n",
       "    <tr>\n",
       "      <th>8</th>\n",
       "      <td>145680.0</td>\n",
       "      <td>14031.0</td>\n",
       "    </tr>\n",
       "    <tr>\n",
       "      <th>9</th>\n",
       "      <td>167276.0</td>\n",
       "      <td>17994.0</td>\n",
       "    </tr>\n",
       "    <tr>\n",
       "      <th>10</th>\n",
       "      <td>344387.0</td>\n",
       "      <td>36620.0</td>\n",
       "    </tr>\n",
       "    <tr>\n",
       "      <th>11</th>\n",
       "      <td>340010.0</td>\n",
       "      <td>41045.0</td>\n",
       "    </tr>\n",
       "    <tr>\n",
       "      <th>12</th>\n",
       "      <td>281706.0</td>\n",
       "      <td>43084.0</td>\n",
       "    </tr>\n",
       "  </tbody>\n",
       "</table>\n",
       "</div>"
      ],
      "text/plain": [
       "          claps  reading_time\n",
       "month                        \n",
       "1      168447.0       17657.0\n",
       "2       81949.0        7794.0\n",
       "3      106506.0       11695.0\n",
       "4      162322.0       15696.0\n",
       "5      187576.0       16706.0\n",
       "6      178058.0       12521.0\n",
       "7       85355.0        9840.0\n",
       "8      145680.0       14031.0\n",
       "9      167276.0       17994.0\n",
       "10     344387.0       36620.0\n",
       "11     340010.0       41045.0\n",
       "12     281706.0       43084.0"
      ]
     },
     "execution_count": 37,
     "metadata": {},
     "output_type": "execute_result"
    }
   ],
   "source": [
    "new_df = medium_data.groupby(\n",
    "    [\"month\"]\n",
    ")[[\"claps\", \"reading_time\"]].sum()\n",
    "\n",
    "new_df"
   ]
  },
  {
   "cell_type": "markdown",
   "id": "63d4f440",
   "metadata": {},
   "source": [
    "## Câu hỏi số 2: (Thawms)"
   ]
  },
  {
   "cell_type": "markdown",
   "id": "c89eff7e",
   "metadata": {},
   "source": [
    "- Mô tả chi tiết:\n",
    "- Ý nghĩa của câu hỏi:"
   ]
  },
  {
   "cell_type": "code",
   "execution_count": null,
   "id": "6d81198d",
   "metadata": {},
   "outputs": [],
   "source": []
  },
  {
   "cell_type": "markdown",
   "id": "cc3dd8a1",
   "metadata": {},
   "source": [
    "# Nhìn lại quá trình làm đồ án:"
   ]
  },
  {
   "cell_type": "markdown",
   "id": "de988e9e",
   "metadata": {},
   "source": [
    "- Mỗi thành viên đã gặp những khó khăn gì?\n",
    "- Mồi thành viên học được gì hữu ích.\n",
    "- Nhóm: Nếu có thêm thời gian thì sẽ làm gì?"
   ]
  },
  {
   "cell_type": "markdown",
   "id": "2ef0dfbd",
   "metadata": {},
   "source": [
    "Hau"
   ]
  },
  {
   "cell_type": "markdown",
   "id": "ae49f9c0",
   "metadata": {},
   "source": [
    "Tham"
   ]
  },
  {
   "cell_type": "markdown",
   "id": "fcf709c5",
   "metadata": {},
   "source": [
    "Nhóm:"
   ]
  },
  {
   "cell_type": "markdown",
   "id": "f214fcab",
   "metadata": {},
   "source": [
    "# Tài liệu tham khảo:"
   ]
  },
  {
   "cell_type": "markdown",
   "id": "3d9736c8",
   "metadata": {},
   "source": [
    "- Tài liệu môn học\n",
    "- Dataset: [Medium 2021 data science articles dataset](https://www.kaggle.com/viniciuslambert/medium-2021-data-science-articles-dataset), Vinicius Lambert."
   ]
  }
 ],
 "metadata": {
  "kernelspec": {
   "display_name": "Python 3 (ipykernel)",
   "language": "python",
   "name": "python3"
  },
  "language_info": {
   "codemirror_mode": {
    "name": "ipython",
    "version": 3
   },
   "file_extension": ".py",
   "mimetype": "text/x-python",
   "name": "python",
   "nbconvert_exporter": "python",
   "pygments_lexer": "ipython3",
   "version": "3.8.8"
  },
  "toc": {
   "base_numbering": 1,
   "nav_menu": {},
   "number_sections": true,
   "sideBar": true,
   "skip_h1_title": false,
   "title_cell": "Table of Contents",
   "title_sidebar": "Contents",
   "toc_cell": false,
   "toc_position": {},
   "toc_section_display": true,
   "toc_window_display": false
  }
 },
 "nbformat": 4,
 "nbformat_minor": 5
}
