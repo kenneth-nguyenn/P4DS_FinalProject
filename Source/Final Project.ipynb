{
 "cells": [
  {
   "cell_type": "markdown",
   "id": "9e88a48d",
   "metadata": {},
   "source": [
    "# Đồ án cuối kì (Lập trình cho Khoa học dữ liệu)"
   ]
  },
  {
   "cell_type": "markdown",
   "id": "b73003f3",
   "metadata": {},
   "source": [
    "Giảng viên: Trần Trung Kiên\n",
    "\n",
    "Thông tin nhóm:\n",
    "\n",
    "1. Nguyễn Văn Hậu (1712258)\n",
    "2. Hà Thị Ngọc Thắm (1712160)\n",
    "\n",
    "Phân công công việc: https://docs.google.com/spreadsheets/d/1yk7EGQSebSC8R5h_UnNOg1wxUU1y9y6lNY5y9waDXA4/edit?usp=sharing\n",
    "\n",
    "Github: https://github.com/kenneth-nguyenn/P4DS_FinalProject"
   ]
  },
  {
   "cell_type": "code",
   "execution_count": 1,
   "id": "1bfc3d50",
   "metadata": {},
   "outputs": [],
   "source": [
    "import numpy as np\n",
    "import pandas as pd\n",
    "import re\n",
    "import datetime\n",
    "import matplotlib.pyplot as plt"
   ]
  },
  {
   "cell_type": "markdown",
   "id": "06979780",
   "metadata": {},
   "source": [
    "Để dữ liệu được quan sát đầy đủ hơn, em set chiều dài cột rộng hơn một chút."
   ]
  },
  {
   "cell_type": "code",
   "execution_count": 2,
   "id": "4c10eab5",
   "metadata": {},
   "outputs": [],
   "source": [
    "pd.set_option('max_colwidth', 150)"
   ]
  },
  {
   "cell_type": "markdown",
   "id": "eec24408",
   "metadata": {},
   "source": [
    "# Thu thập dữ liệu:"
   ]
  },
  {
   "cell_type": "markdown",
   "id": "ca1a46aa",
   "metadata": {},
   "source": [
    "- Tên tập dữ liệu: **\"Medium 2021 data science articles dataset\"**\n",
    "- Mô tả về dữ liệu:\n",
    "    - RAW: \"Data about 45k+ data science articles published on medium in 2021.\"\n",
    "    - Vietsub: Dữ liệu khoảng trên 45 ngàn dòng về các bài báo khoa học trên Medium vào năm 2021.\n",
    "    - Tập dữ liệu tập trung vào các lĩnh vực:  Data Science, Machine Learning, Artificial Inteligence, Deep Learning, Data, Big Data, Analytics.\n",
    "- Tác giả: Vinicius Lambert\n",
    "- Nguồn dataset: [Kaggle](https://www.kaggle.com/viniciuslambert/medium-2021-data-science-articles-dataset)\n",
    "- License: **[CC0: Public Domain](https://creativecommons.org/publicdomain/zero/1.0/)** (No Copyright)\n",
    "- Tác giả thu thập data bằng cách parser HTML, được trình bày cách thu thập tại [file notebook](https://github.com/viniciusLambert/medium-scraping/blob/main/scrap.ipynb) này."
   ]
  },
  {
   "cell_type": "markdown",
   "id": "453be705",
   "metadata": {},
   "source": [
    "# Khám phá dữ liệu:"
   ]
  },
  {
   "cell_type": "markdown",
   "id": "607d9c54",
   "metadata": {},
   "source": [
    "Thử xem những dòng đầu tiên của data có hình dạng ra sao."
   ]
  },
  {
   "cell_type": "code",
   "execution_count": 3,
   "id": "598433b5",
   "metadata": {},
   "outputs": [
    {
     "data": {
      "text/html": [
       "<div>\n",
       "<style scoped>\n",
       "    .dataframe tbody tr th:only-of-type {\n",
       "        vertical-align: middle;\n",
       "    }\n",
       "\n",
       "    .dataframe tbody tr th {\n",
       "        vertical-align: top;\n",
       "    }\n",
       "\n",
       "    .dataframe thead th {\n",
       "        text-align: right;\n",
       "    }\n",
       "</style>\n",
       "<table border=\"1\" class=\"dataframe\">\n",
       "  <thead>\n",
       "    <tr style=\"text-align: right;\">\n",
       "      <th></th>\n",
       "      <th>url</th>\n",
       "      <th>title</th>\n",
       "      <th>author</th>\n",
       "      <th>author_page</th>\n",
       "      <th>subtitle</th>\n",
       "      <th>claps</th>\n",
       "      <th>responses</th>\n",
       "      <th>reading_time</th>\n",
       "      <th>tag</th>\n",
       "      <th>date</th>\n",
       "    </tr>\n",
       "  </thead>\n",
       "  <tbody>\n",
       "    <tr>\n",
       "      <th>0</th>\n",
       "      <td>https://medium.com/@dharmeshpanchmatia/data-analytics-and-ai-ml-platform-for-ecommerce-68639df89c7f</td>\n",
       "      <td>Data Analytics and AI/ML platform for eCommerce</td>\n",
       "      <td>dharmeshpanchmatia</td>\n",
       "      <td>https://medium.com/@dharmeshpanchmatia</td>\n",
       "      <td>Improve user pr</td>\n",
       "      <td>30.0</td>\n",
       "      <td>0.0</td>\n",
       "      <td>5.0</td>\n",
       "      <td>Big Data</td>\n",
       "      <td>2021-01-01</td>\n",
       "    </tr>\n",
       "    <tr>\n",
       "      <th>1</th>\n",
       "      <td>https://medium.com/predict/the-journey-from-an-apple-silicon-m1-powered-laptop-to-an-amd-ryzen-threadripper-3-desktop-6315252ac9d1</td>\n",
       "      <td>The journey from an Apple Silicon M1 powered laptop to an AMD Ryzen Threadripper 3 desktop.</td>\n",
       "      <td>dimitrisv</td>\n",
       "      <td>https://medium.com/@dimitrisv</td>\n",
       "      <td>NaN</td>\n",
       "      <td>42.0</td>\n",
       "      <td>0.0</td>\n",
       "      <td>5.0</td>\n",
       "      <td>Big Data</td>\n",
       "      <td>2021-01-01</td>\n",
       "    </tr>\n",
       "    <tr>\n",
       "      <th>2</th>\n",
       "      <td>https://medium.com/@rajsaraogi/demystifying-kpis-in-analytics-60084292412c</td>\n",
       "      <td>Demystifying KPIs in Analytics</td>\n",
       "      <td>rajsaraogi</td>\n",
       "      <td>https://medium.com/@rajsaraogi</td>\n",
       "      <td>NaN</td>\n",
       "      <td>19.0</td>\n",
       "      <td>0.0</td>\n",
       "      <td>3.0</td>\n",
       "      <td>Big Data</td>\n",
       "      <td>2021-01-01</td>\n",
       "    </tr>\n",
       "    <tr>\n",
       "      <th>3</th>\n",
       "      <td>https://medium.com/@bigdataschool/%D0%B1%D0%BE%D0%BB%D1%8C%D1%88%D0%B0%D1%8F-%D1%80%D0%B0%D0%B7%D0%BD%D0%B8%D1%86%D0%B0-%D1%87%D0%B5%D0%BC-%D1%81%...</td>\n",
       "      <td>Большая разница: чем структурированная потоковая передача в Apache Spark отличается от Spark Streaming</td>\n",
       "      <td>bigdataschool</td>\n",
       "      <td>https://medium.com/@bigdataschool</td>\n",
       "      <td>NaN</td>\n",
       "      <td>0.0</td>\n",
       "      <td>0.0</td>\n",
       "      <td>6.0</td>\n",
       "      <td>Big Data</td>\n",
       "      <td>2021-01-01</td>\n",
       "    </tr>\n",
       "    <tr>\n",
       "      <th>4</th>\n",
       "      <td>https://medium.com/@arnowa-44509/iot-a-new-way-of-life-249f69134af9</td>\n",
       "      <td>IoT: A New Way of Life</td>\n",
       "      <td>arnowa-44509</td>\n",
       "      <td>https://medium.com/@arnowa-44509</td>\n",
       "      <td>IoT is more than just the Internet of things, it’s a network of new…</td>\n",
       "      <td>0.0</td>\n",
       "      <td>0.0</td>\n",
       "      <td>3.0</td>\n",
       "      <td>Big Data</td>\n",
       "      <td>2021-01-01</td>\n",
       "    </tr>\n",
       "  </tbody>\n",
       "</table>\n",
       "</div>"
      ],
      "text/plain": [
       "                                                                                                                                                     url  \\\n",
       "0                                                    https://medium.com/@dharmeshpanchmatia/data-analytics-and-ai-ml-platform-for-ecommerce-68639df89c7f   \n",
       "1                     https://medium.com/predict/the-journey-from-an-apple-silicon-m1-powered-laptop-to-an-amd-ryzen-threadripper-3-desktop-6315252ac9d1   \n",
       "2                                                                             https://medium.com/@rajsaraogi/demystifying-kpis-in-analytics-60084292412c   \n",
       "3  https://medium.com/@bigdataschool/%D0%B1%D0%BE%D0%BB%D1%8C%D1%88%D0%B0%D1%8F-%D1%80%D0%B0%D0%B7%D0%BD%D0%B8%D1%86%D0%B0-%D1%87%D0%B5%D0%BC-%D1%81%...   \n",
       "4                                                                                    https://medium.com/@arnowa-44509/iot-a-new-way-of-life-249f69134af9   \n",
       "\n",
       "                                                                                                    title  \\\n",
       "0                                                         Data Analytics and AI/ML platform for eCommerce   \n",
       "1             The journey from an Apple Silicon M1 powered laptop to an AMD Ryzen Threadripper 3 desktop.   \n",
       "2                                                                          Demystifying KPIs in Analytics   \n",
       "3  Большая разница: чем структурированная потоковая передача в Apache Spark отличается от Spark Streaming   \n",
       "4                                                                                  IoT: A New Way of Life   \n",
       "\n",
       "               author                             author_page  \\\n",
       "0  dharmeshpanchmatia  https://medium.com/@dharmeshpanchmatia   \n",
       "1           dimitrisv           https://medium.com/@dimitrisv   \n",
       "2          rajsaraogi          https://medium.com/@rajsaraogi   \n",
       "3       bigdataschool       https://medium.com/@bigdataschool   \n",
       "4        arnowa-44509        https://medium.com/@arnowa-44509   \n",
       "\n",
       "                                                               subtitle  \\\n",
       "0                                                       Improve user pr   \n",
       "1                                                                   NaN   \n",
       "2                                                                   NaN   \n",
       "3                                                                   NaN   \n",
       "4  IoT is more than just the Internet of things, it’s a network of new…   \n",
       "\n",
       "   claps  responses  reading_time       tag        date  \n",
       "0   30.0        0.0           5.0  Big Data  2021-01-01  \n",
       "1   42.0        0.0           5.0  Big Data  2021-01-01  \n",
       "2   19.0        0.0           3.0  Big Data  2021-01-01  \n",
       "3    0.0        0.0           6.0  Big Data  2021-01-01  \n",
       "4    0.0        0.0           3.0  Big Data  2021-01-01  "
      ]
     },
     "execution_count": 3,
     "metadata": {},
     "output_type": "execute_result"
    }
   ],
   "source": [
    "medium_data = pd.read_csv(\n",
    "    \"Data/medium-data-science-articles-2021.csv\", \n",
    "    encoding='utf-8'\n",
    ")\n",
    "\n",
    "medium_data.head()"
   ]
  },
  {
   "cell_type": "markdown",
   "id": "3a9094b1",
   "metadata": {},
   "source": [
    "## Dữ liệu có bao nhiêu dòng và bao nhiêu cột?"
   ]
  },
  {
   "cell_type": "markdown",
   "id": "19e3a6a6",
   "metadata": {},
   "source": [
    "- `num_cols` là số cột.\n",
    "- `num_rows` là số dòng."
   ]
  },
  {
   "cell_type": "code",
   "execution_count": 4,
   "id": "7d4ea7fc",
   "metadata": {},
   "outputs": [
    {
     "name": "stdout",
     "output_type": "stream",
     "text": [
      "So cot la: 10, so dong la: 47660\n"
     ]
    }
   ],
   "source": [
    "num_rows, num_cols = medium_data.shape\n",
    "print(\"So cot la: {}, so dong la: {}\".format(num_cols, num_rows))"
   ]
  },
  {
   "cell_type": "markdown",
   "id": "09b389a3",
   "metadata": {},
   "source": [
    "Đúng theo mô tả về data của tác giả."
   ]
  },
  {
   "cell_type": "markdown",
   "id": "fa9a6e86",
   "metadata": {},
   "source": [
    "## Mỗi dòng có ý nghĩa gì? Các dòng có ý nghĩa khác nhau không?"
   ]
  },
  {
   "cell_type": "markdown",
   "id": "eac2b7ab",
   "metadata": {},
   "source": [
    "Theo file mô tả dữ liệu và theo quan sát sơ bộ về dữ liệu thì một dòng cho biết thông tin chi tiết của một bài báo bao gồm: url, title, author,..... Có vẻ không có dòng nào bị \"lạc loài\"."
   ]
  },
  {
   "cell_type": "markdown",
   "id": "9a407054",
   "metadata": {},
   "source": [
    "## Dữ liệu có các dòng bị lặp không?"
   ]
  },
  {
   "cell_type": "code",
   "execution_count": 5,
   "id": "8c3fcfb7",
   "metadata": {},
   "outputs": [
    {
     "data": {
      "text/plain": [
       "0"
      ]
     },
     "execution_count": 5,
     "metadata": {},
     "output_type": "execute_result"
    }
   ],
   "source": [
    "num_duplicated_rows = medium_data.index.duplicated().sum()\n",
    "num_duplicated_rows"
   ]
  },
  {
   "cell_type": "markdown",
   "id": "c41997dd",
   "metadata": {},
   "source": [
    "Dữ liệu không có dòng nào bị lặp."
   ]
  },
  {
   "cell_type": "markdown",
   "id": "bb6cddb5",
   "metadata": {},
   "source": [
    "## Ý nghĩa mỗi cột?"
   ]
  },
  {
   "cell_type": "markdown",
   "id": "f2120904",
   "metadata": {},
   "source": [
    "Mô tả ý nghĩa mỗi cột của dữ liệu:\n",
    "- `url`: địa chỉ của bài báo trên web.\n",
    "- `title`: tiêu đề của bài báo.\n",
    "- `author`: tác giả của bài báo.\n",
    "- `author_page`: địa chỉ trang của tác giả trên web.\n",
    "- `subtitle`: phụ đề của bài báo.\n",
    "- `claps`: số lượt vỗ tay của bạn đọc.\n",
    "- `responses`: số lượt phản hồi từ bạn đọc.\n",
    "- `reading_time`: thời gian đọc đề xuất cho người xem.\n",
    "- `tag`: chủ đề của bài báo.\n",
    "- `date`: ngày xuất bản.\n",
    "\n"
   ]
  },
  {
   "cell_type": "markdown",
   "id": "20f98208",
   "metadata": {},
   "source": [
    "## Kiểu dữ liệu của cột:"
   ]
  },
  {
   "cell_type": "markdown",
   "id": "11812116",
   "metadata": {},
   "source": [
    "Mỗi cột hiện đang thuộc kiểu dữ liệu gì? Có cột nào có kiểu dữ liệu chưa phù hợp đề có thể xử lý tiếp không? Để trả lời câu hỏi này, trước hết ta kiểm tra xem kiểu dữ liệu của mỗi cột hiện tại là gì?"
   ]
  },
  {
   "cell_type": "code",
   "execution_count": 6,
   "id": "b435e4a3",
   "metadata": {},
   "outputs": [
    {
     "data": {
      "text/plain": [
       "url              object\n",
       "title            object\n",
       "author           object\n",
       "author_page      object\n",
       "subtitle         object\n",
       "claps           float64\n",
       "responses       float64\n",
       "reading_time    float64\n",
       "tag              object\n",
       "date             object\n",
       "dtype: object"
      ]
     },
     "execution_count": 6,
     "metadata": {},
     "output_type": "execute_result"
    }
   ],
   "source": [
    "medium_data.dtypes"
   ]
  },
  {
   "cell_type": "markdown",
   "id": "f0740d77",
   "metadata": {},
   "source": [
    "Theo như mô tả bên trên, kiểu dữ liệu của các cột `url`, `title`, `author`, `author_page`, `subtitle`, `tag`, `date` là **object** và kiểu dữ liệu của các cột `claps`, `responses`, `reading_time` là **float64**. Ở đây, ta cần xử lý hai công việc cho xử lsy kiểu dữ liệu:\n",
    "1. Kiểu dữ liệu của cột `date` đang là object, ta cần chuyển về dạng datetime để thuận tiện cho tính toán về sau.\n",
    "2. Kiểu dữ liệu của cột `reading_time` đang là float64, ta cần chuyền về đúng kiểu là timedelta."
   ]
  },
  {
   "cell_type": "markdown",
   "id": "59a4661b",
   "metadata": {},
   "source": [
    "### Xem xét kiểu dữ liệu của cột `reading_time` "
   ]
  },
  {
   "cell_type": "markdown",
   "id": "4662bb06",
   "metadata": {},
   "source": [
    "Hiện tại, cột `reading_time` mang ý nghĩa biểu thị thời gian đọc của một bài viết. Đây là con số đo lường khoảng thời gian được tính bằng đơn vị phút. Em có thể chuyển về kiểu timedelta bằng phương thức **pd.to_timedelta()** với tham số **unit** là \"m\" tương ứng với số phút. Thế nhưng, giới hạn bên trong bài trình bày bên dưới chỉ sử dụng đơn vị phút, và nếu như chuyển sang kiểu dữ liệu này, việc lấy thông tin số phút trở nên dài dòng không cần thiết. Trong ngữ cảnh này, em xin phép được giữ nguyên cột `reading_time` kiểu dữ liệu là **float64**."
   ]
  },
  {
   "cell_type": "markdown",
   "id": "b66a6a16",
   "metadata": {},
   "source": [
    "### Chuyển kiểu dữ liệu của cột `date` về **datetime**"
   ]
  },
  {
   "cell_type": "markdown",
   "id": "f7ca473d",
   "metadata": {},
   "source": [
    "Chuyển về dạng datetime bằng phương thức **pd.to_datetime()** với tham số **format** là \"%Y-%m-%d\" tương ứng \"2021-01-01\"."
   ]
  },
  {
   "cell_type": "code",
   "execution_count": 7,
   "id": "3f61a5aa",
   "metadata": {},
   "outputs": [],
   "source": [
    "medium_data.date = pd.to_datetime(\n",
    "    medium_data.date, \n",
    "    format=\"%Y-%m-%d\"\n",
    ")\n",
    "\n",
    "medium_data.date = medium_data.date.astype(\"datetime64\")"
   ]
  },
  {
   "cell_type": "markdown",
   "id": "308dd7f2",
   "metadata": {},
   "source": [
    "Kiểm tra lại kiểu dữ liệu đã được chuyển sang datetime hay chưa bằng cách sử dụng phương thức **.dt.year** để lấy ra các năm có trong record."
   ]
  },
  {
   "cell_type": "code",
   "execution_count": 8,
   "id": "c386a15f",
   "metadata": {
    "scrolled": true
   },
   "outputs": [
    {
     "data": {
      "text/plain": [
       "0        2021\n",
       "1        2021\n",
       "2        2021\n",
       "3        2021\n",
       "4        2021\n",
       "         ... \n",
       "47655    2021\n",
       "47656    2021\n",
       "47657    2021\n",
       "47658    2021\n",
       "47659    2021\n",
       "Name: date, Length: 47660, dtype: int64"
      ]
     },
     "execution_count": 8,
     "metadata": {},
     "output_type": "execute_result"
    }
   ],
   "source": [
    "medium_data.date.dt.year"
   ]
  },
  {
   "cell_type": "markdown",
   "id": "b819fc8f",
   "metadata": {},
   "source": [
    "Từ đây, ta có thể dễ dàng sử dụng cột `date` với kiểu dữ liệu datetime."
   ]
  },
  {
   "cell_type": "markdown",
   "id": "beba6960",
   "metadata": {},
   "source": [
    "## Kiểu dữ liệu dạng số (numeric):"
   ]
  },
  {
   "cell_type": "markdown",
   "id": "f19296ee",
   "metadata": {},
   "source": [
    "Em sắp xếp cột `date` vào nhóm  numeric. Các cột numeric bao gồm: `claps`,`responses`,`reading_time` và `date` được lưu lại trong DataFrame `numeric_df`. Để kiểm tra các giá trị phân bố, em tạo một DataFrame `nume_col_profiles_df` có chứa các cột thuộc kiểu numeric và được thống kê với các số liệu về:\n",
    "- `missing_ratio`: Tỉ lệ các giá trị thiếu trong cột.\n",
    "- `min`: Giá trị nhỏ nhất trong cột.\n",
    "- `max`: Giá trị lớn nhất trong cột."
   ]
  },
  {
   "cell_type": "code",
   "execution_count": 9,
   "id": "f9f695ec",
   "metadata": {},
   "outputs": [
    {
     "data": {
      "text/html": [
       "<div>\n",
       "<style scoped>\n",
       "    .dataframe tbody tr th:only-of-type {\n",
       "        vertical-align: middle;\n",
       "    }\n",
       "\n",
       "    .dataframe tbody tr th {\n",
       "        vertical-align: top;\n",
       "    }\n",
       "\n",
       "    .dataframe thead th {\n",
       "        text-align: right;\n",
       "    }\n",
       "</style>\n",
       "<table border=\"1\" class=\"dataframe\">\n",
       "  <thead>\n",
       "    <tr style=\"text-align: right;\">\n",
       "      <th></th>\n",
       "      <th>claps</th>\n",
       "      <th>responses</th>\n",
       "      <th>reading_time</th>\n",
       "      <th>date</th>\n",
       "    </tr>\n",
       "  </thead>\n",
       "  <tbody>\n",
       "    <tr>\n",
       "      <th>missing_ratio</th>\n",
       "      <td>0.0</td>\n",
       "      <td>0.0</td>\n",
       "      <td>0.0</td>\n",
       "      <td>0.0</td>\n",
       "    </tr>\n",
       "    <tr>\n",
       "      <th>min</th>\n",
       "      <td>0.0</td>\n",
       "      <td>0.0</td>\n",
       "      <td>0.0</td>\n",
       "      <td>2021-01-01 00:00:00</td>\n",
       "    </tr>\n",
       "    <tr>\n",
       "      <th>max</th>\n",
       "      <td>23000.0</td>\n",
       "      <td>125.0</td>\n",
       "      <td>131.0</td>\n",
       "      <td>2021-12-31 00:00:00</td>\n",
       "    </tr>\n",
       "  </tbody>\n",
       "</table>\n",
       "</div>"
      ],
      "text/plain": [
       "                 claps responses reading_time                 date\n",
       "missing_ratio      0.0       0.0          0.0                  0.0\n",
       "min                0.0       0.0          0.0  2021-01-01 00:00:00\n",
       "max            23000.0     125.0        131.0  2021-12-31 00:00:00"
      ]
     },
     "execution_count": 9,
     "metadata": {},
     "output_type": "execute_result"
    }
   ],
   "source": [
    "numeric_df = medium_data.select_dtypes(\n",
    "    include=['number', 'datetime64'])\n",
    "\n",
    "nume_col_profiles_df = pd.DataFrame(\n",
    "    index=[\"missing_ratio\", \"min\", \"max\"], \n",
    "    columns=numeric_df.columns)\n",
    "\n",
    "nume_col_profiles_df.loc[\"missing_ratio\"] = np.mean(numeric_df.isna())*100\n",
    "nume_col_profiles_df.loc[\"min\"] = np.min(numeric_df)\n",
    "nume_col_profiles_df.loc[\"max\"] = np.max(numeric_df)\n",
    "\n",
    "nume_col_profiles_df"
   ]
  },
  {
   "cell_type": "markdown",
   "id": "f79e818e",
   "metadata": {},
   "source": [
    "Không có dữ liệu thiếu trong dữ liệu, các số liệu cũng không có gì bất thường trong dữ liệu."
   ]
  },
  {
   "cell_type": "markdown",
   "id": "e57cebf3",
   "metadata": {},
   "source": [
    "## Kiểu dữ liệu dạng phân loại (categorical):"
   ]
  },
  {
   "cell_type": "markdown",
   "id": "db3de7ae",
   "metadata": {},
   "source": [
    "Ở phần này, các cột có kiểu dữ liệu dạng categorical bao gồm: `url`,`title`,`author`,`author_page`,`subtitle` và `tag` được lưu lại trong DataFrame `categorical_df`. Để xem phân bố của các thuộc tính này, em dùng DataFrame `cate_col_profiles_df` có các cột tương ứng với các cột của `categorical_df` với các cột index là:\n",
    "- `missing_ratio`: Tỉ lệ các giá trị thiếu trong cột.\n",
    "- `num_dif_vals`: Số lượng các giá trị khác nhau trong cột.\n",
    "- `diff_vals`: Chứa một list các giá trị khác nhau trong cột."
   ]
  },
  {
   "cell_type": "code",
   "execution_count": 10,
   "id": "f1bcc7a6",
   "metadata": {},
   "outputs": [
    {
     "data": {
      "text/html": [
       "<div>\n",
       "<style scoped>\n",
       "    .dataframe tbody tr th:only-of-type {\n",
       "        vertical-align: middle;\n",
       "    }\n",
       "\n",
       "    .dataframe tbody tr th {\n",
       "        vertical-align: top;\n",
       "    }\n",
       "\n",
       "    .dataframe thead th {\n",
       "        text-align: right;\n",
       "    }\n",
       "</style>\n",
       "<table border=\"1\" class=\"dataframe\">\n",
       "  <thead>\n",
       "    <tr style=\"text-align: right;\">\n",
       "      <th></th>\n",
       "      <th>url</th>\n",
       "      <th>title</th>\n",
       "      <th>author</th>\n",
       "      <th>author_page</th>\n",
       "      <th>subtitle</th>\n",
       "      <th>tag</th>\n",
       "    </tr>\n",
       "  </thead>\n",
       "  <tbody>\n",
       "    <tr>\n",
       "      <th>missing_ratio</th>\n",
       "      <td>0.0</td>\n",
       "      <td>0.0</td>\n",
       "      <td>0.0</td>\n",
       "      <td>0.0</td>\n",
       "      <td>71.195971</td>\n",
       "      <td>0.0</td>\n",
       "    </tr>\n",
       "    <tr>\n",
       "      <th>num_diff_vals</th>\n",
       "      <td>47659</td>\n",
       "      <td>46746</td>\n",
       "      <td>22570</td>\n",
       "      <td>23812</td>\n",
       "      <td>13318</td>\n",
       "      <td>7</td>\n",
       "    </tr>\n",
       "    <tr>\n",
       "      <th>diff_vals</th>\n",
       "      <td>[https://2madness.com/conversations-with-ai-versions-of-historical-figures-6ecead7f1b33, https://aboveintelligent.com/a-i-safety-freeze-thaw-proto...</td>\n",
       "      <td>[# 8 — Continuous Benchmark in ML projects, # Boston Airbnb data understanding. ####, #001 Scatter plots: Using the per ninety metric, Goals per 9...</td>\n",
       "      <td>[-TutortAcademy, 0-gauravjoshi, 0.0sk_m, 007jayeshyadav, 010gvr, 021studio, 02aripfauzan, 07antara, 08cristiano, 0sophietaylor, 0xchina, 0xcrane, ...</td>\n",
       "      <td>[https://2madness.com/@njbwrites, https://aboveintelligent.com/@oaklandthinktank, https://ai.blobcity.com/@profsarang, https://ai.blobcity.com/@sa...</td>\n",
       "      <td>[![Alt Text](https://dev-to-uploads.s3.amazonaws.com/i/wh8funt0ccelxg8rxp0v.png) Attaullah Shafiq, #1 Get reps in, #1 Massive Open…, #2. Make it i...</td>\n",
       "      <td>[Analytics, Artificial Inteligence, Big Data, Data, Data Science, Deep Learning, Machine Learning]</td>\n",
       "    </tr>\n",
       "  </tbody>\n",
       "</table>\n",
       "</div>"
      ],
      "text/plain": [
       "                                                                                                                                                                 url  \\\n",
       "missing_ratio                                                                                                                                                    0.0   \n",
       "num_diff_vals                                                                                                                                                  47659   \n",
       "diff_vals      [https://2madness.com/conversations-with-ai-versions-of-historical-figures-6ecead7f1b33, https://aboveintelligent.com/a-i-safety-freeze-thaw-proto...   \n",
       "\n",
       "                                                                                                                                                               title  \\\n",
       "missing_ratio                                                                                                                                                    0.0   \n",
       "num_diff_vals                                                                                                                                                  46746   \n",
       "diff_vals      [# 8 — Continuous Benchmark in ML projects, # Boston Airbnb data understanding. ####, #001 Scatter plots: Using the per ninety metric, Goals per 9...   \n",
       "\n",
       "                                                                                                                                                              author  \\\n",
       "missing_ratio                                                                                                                                                    0.0   \n",
       "num_diff_vals                                                                                                                                                  22570   \n",
       "diff_vals      [-TutortAcademy, 0-gauravjoshi, 0.0sk_m, 007jayeshyadav, 010gvr, 021studio, 02aripfauzan, 07antara, 08cristiano, 0sophietaylor, 0xchina, 0xcrane, ...   \n",
       "\n",
       "                                                                                                                                                         author_page  \\\n",
       "missing_ratio                                                                                                                                                    0.0   \n",
       "num_diff_vals                                                                                                                                                  23812   \n",
       "diff_vals      [https://2madness.com/@njbwrites, https://aboveintelligent.com/@oaklandthinktank, https://ai.blobcity.com/@profsarang, https://ai.blobcity.com/@sa...   \n",
       "\n",
       "                                                                                                                                                            subtitle  \\\n",
       "missing_ratio                                                                                                                                              71.195971   \n",
       "num_diff_vals                                                                                                                                                  13318   \n",
       "diff_vals      [![Alt Text](https://dev-to-uploads.s3.amazonaws.com/i/wh8funt0ccelxg8rxp0v.png) Attaullah Shafiq, #1 Get reps in, #1 Massive Open…, #2. Make it i...   \n",
       "\n",
       "                                                                                                              tag  \n",
       "missing_ratio                                                                                                 0.0  \n",
       "num_diff_vals                                                                                                   7  \n",
       "diff_vals      [Analytics, Artificial Inteligence, Big Data, Data, Data Science, Deep Learning, Machine Learning]  "
      ]
     },
     "execution_count": 10,
     "metadata": {},
     "output_type": "execute_result"
    }
   ],
   "source": [
    "categorical_df = medium_data.select_dtypes(\n",
    "    include=\"object\")\n",
    "\n",
    "def missing_ratio(column):\n",
    "    return np.mean(column.isna())*100\n",
    "\n",
    "def num_diff_vals(column):\n",
    "    return column.nunique()\n",
    "\n",
    "def diff_vals(column):\n",
    "    x = column\n",
    "    \n",
    "    x.replace(\" \", np.nan, inplace=True)\n",
    "    x.dropna(inplace=True)\n",
    "\n",
    "    return np.unique(x)\n",
    "\n",
    "cate_col_profiles_df = categorical_df.agg(\n",
    "    [missing_ratio, num_diff_vals, diff_vals]\n",
    ")\n",
    "\n",
    "cate_col_profiles_df"
   ]
  },
  {
   "cell_type": "markdown",
   "id": "4704bb98",
   "metadata": {},
   "source": [
    "Từ các giá trị bên trên, em có một số kết luận ban đầu như sau:\n",
    "- Các số liệu không có bất thường:\n",
    "    - `title` có thể giống nhau, số lượng các tiêu đề giống nhau là 47560 - 46746 = 814 (Chiếm khoảng 0.02% so với tổng số record), tức là tỉ lệ các tiêu đề giống nhau khá thấp so với tổng số dữ liệu đang có. Nói cách khác là không có gì bất thường.\n",
    "    - `tag` có 7 giá trị khác nhau tương ứng: \"Analytics\", \"Artificial Inteligence\", \"Big Data\", \"Data\", \"Data Science\", \"Deep Learning\", \"Machine Learning\".\n",
    "    - `date` có tổng số các giá trị khác nhau là 351 < 365 (tổng số ngày trong một năm).\n",
    "    - `subtitle` có tỉ lệ giá trị thiếu cao. Số lượng các giá trị khác **NaN** trong cột này là **13728** (Kiểm tra bằng **len(medium_data[~medium_data.subtitle.isna()])**), và số các giá trị khác nhau là **13318** (**<13728**) là hợp lý.\n",
    "- Các số liệu cần kiểm tra thêm để kết luận.\n",
    "    - Số các giá trị khác nhau của `url`: 47659 trên tổng số 47660 record, tức là có một đường dẫn URL bị trùng lặp.\n",
    "    - Số các giá trị khác nhau của `author` và `author_page` lần lượt là **22569** và **23811**. Ta cần kiểm tra lại lý do mà hai giá trị này lại không bằng nhau. \t"
   ]
  },
  {
   "cell_type": "markdown",
   "id": "c5e7da9e",
   "metadata": {},
   "source": [
    "### Kiểm tra các giá trị trùng nhau trong cột `url`"
   ]
  },
  {
   "cell_type": "markdown",
   "id": "c220ef9b",
   "metadata": {},
   "source": [
    "`url_duplicate_df` là DataFrame có chứa tất cả các giá trị trùng lặp của cột `url`."
   ]
  },
  {
   "cell_type": "code",
   "execution_count": 11,
   "id": "8d83c294",
   "metadata": {},
   "outputs": [
    {
     "data": {
      "text/html": [
       "<div>\n",
       "<style scoped>\n",
       "    .dataframe tbody tr th:only-of-type {\n",
       "        vertical-align: middle;\n",
       "    }\n",
       "\n",
       "    .dataframe tbody tr th {\n",
       "        vertical-align: top;\n",
       "    }\n",
       "\n",
       "    .dataframe thead th {\n",
       "        text-align: right;\n",
       "    }\n",
       "</style>\n",
       "<table border=\"1\" class=\"dataframe\">\n",
       "  <thead>\n",
       "    <tr style=\"text-align: right;\">\n",
       "      <th></th>\n",
       "      <th>url</th>\n",
       "      <th>title</th>\n",
       "      <th>author</th>\n",
       "      <th>author_page</th>\n",
       "      <th>subtitle</th>\n",
       "      <th>tag</th>\n",
       "    </tr>\n",
       "  </thead>\n",
       "  <tbody>\n",
       "    <tr>\n",
       "      <th>24526</th>\n",
       "      <td>https://medium.com/@veronikabelokhvostova/im-a-data-scientist-here-s-why-i-work-at-facebook-a1fdb42fc8c4</td>\n",
       "      <td>&lt;strong class=\"markup--strong markup--h3-strong\"&gt;&lt;em class=\"markup--em markup--h3-em\"&gt;I’m a Data Scientist — Here’s why I work at Facebook&lt;/em&gt;&lt;/s...</td>\n",
       "      <td>veronikabelokhvostova</td>\n",
       "      <td>https://medium.com/@veronikabelokhvostova</td>\n",
       "      <td>NaN</td>\n",
       "      <td>Data Science</td>\n",
       "    </tr>\n",
       "    <tr>\n",
       "      <th>25593</th>\n",
       "      <td>https://medium.com/@veronikabelokhvostova/im-a-data-scientist-here-s-why-i-work-at-facebook-a1fdb42fc8c4</td>\n",
       "      <td>Facebook destroyed my family andmy mother and grandfather.</td>\n",
       "      <td>lexahe3185</td>\n",
       "      <td>https://medium.com/@lexahe3185</td>\n",
       "      <td>NaN</td>\n",
       "      <td>Data Science</td>\n",
       "    </tr>\n",
       "  </tbody>\n",
       "</table>\n",
       "</div>"
      ],
      "text/plain": [
       "                                                                                                            url  \\\n",
       "24526  https://medium.com/@veronikabelokhvostova/im-a-data-scientist-here-s-why-i-work-at-facebook-a1fdb42fc8c4   \n",
       "25593  https://medium.com/@veronikabelokhvostova/im-a-data-scientist-here-s-why-i-work-at-facebook-a1fdb42fc8c4   \n",
       "\n",
       "                                                                                                                                                       title  \\\n",
       "24526  <strong class=\"markup--strong markup--h3-strong\"><em class=\"markup--em markup--h3-em\">I’m a Data Scientist — Here’s why I work at Facebook</em></s...   \n",
       "25593                                                                                             Facebook destroyed my family andmy mother and grandfather.   \n",
       "\n",
       "                      author                                author_page  \\\n",
       "24526  veronikabelokhvostova  https://medium.com/@veronikabelokhvostova   \n",
       "25593             lexahe3185             https://medium.com/@lexahe3185   \n",
       "\n",
       "      subtitle           tag  \n",
       "24526      NaN  Data Science  \n",
       "25593      NaN  Data Science  "
      ]
     },
     "execution_count": 11,
     "metadata": {},
     "output_type": "execute_result"
    }
   ],
   "source": [
    "url_duplicate_df = categorical_df[categorical_df.url.duplicated(keep=False)]\n",
    "url_duplicate_df"
   ]
  },
  {
   "cell_type": "markdown",
   "id": "55cd116f",
   "metadata": {},
   "source": [
    "Cùng mở rộng `url` để kiểm tra xem:"
   ]
  },
  {
   "cell_type": "code",
   "execution_count": 12,
   "id": "559d5e86",
   "metadata": {},
   "outputs": [
    {
     "data": {
      "text/html": [
       "<div>\n",
       "<style scoped>\n",
       "    .dataframe tbody tr th:only-of-type {\n",
       "        vertical-align: middle;\n",
       "    }\n",
       "\n",
       "    .dataframe tbody tr th {\n",
       "        vertical-align: top;\n",
       "    }\n",
       "\n",
       "    .dataframe thead th {\n",
       "        text-align: right;\n",
       "    }\n",
       "</style>\n",
       "<table border=\"1\" class=\"dataframe\">\n",
       "  <thead>\n",
       "    <tr style=\"text-align: right;\">\n",
       "      <th></th>\n",
       "      <th>url</th>\n",
       "    </tr>\n",
       "  </thead>\n",
       "  <tbody>\n",
       "    <tr>\n",
       "      <th>24526</th>\n",
       "      <td>https://medium.com/@veronikabelokhvostova/im-a-data-scientist-here-s-why-i-work-at-facebook-a1fdb42fc8c4</td>\n",
       "    </tr>\n",
       "    <tr>\n",
       "      <th>25593</th>\n",
       "      <td>https://medium.com/@veronikabelokhvostova/im-a-data-scientist-here-s-why-i-work-at-facebook-a1fdb42fc8c4</td>\n",
       "    </tr>\n",
       "  </tbody>\n",
       "</table>\n",
       "</div>"
      ],
      "text/plain": [
       "                                                                                                            url\n",
       "24526  https://medium.com/@veronikabelokhvostova/im-a-data-scientist-here-s-why-i-work-at-facebook-a1fdb42fc8c4\n",
       "25593  https://medium.com/@veronikabelokhvostova/im-a-data-scientist-here-s-why-i-work-at-facebook-a1fdb42fc8c4"
      ]
     },
     "execution_count": 12,
     "metadata": {},
     "output_type": "execute_result"
    }
   ],
   "source": [
    "url_duplicate_df[['url']]"
   ]
  },
  {
   "cell_type": "markdown",
   "id": "c3f7732b",
   "metadata": {},
   "source": [
    "- Một đường dẫn đến bài viết cụ thể của Medium bao gồm tên miền: `https://medium.com/`, theo sau đó là tên của tác giả (username) `@username/`, và cuối cùng là tiêu đề bài viết.\n",
    "- Tập trung vào phần đường dẫn URL của hai dòng này, ta có thể dễ dàng thấy đường dẫn url bị trùng lặp này thuộc về `author` là **veronikabelokhvostova**. Có vẻ có vấn đề trong việc thu thập dữ liệu trên. \n",
    "- Trong tình huống này, em loại bỏ dòng record sai thông tin. Ở dòng còn lại (dòng đúng), có vẻ như `title` chưa được trích xuất chuẩn, em cũng chỉnh lại trong bước này."
   ]
  },
  {
   "cell_type": "code",
   "execution_count": 13,
   "id": "1fbe14d0",
   "metadata": {},
   "outputs": [
    {
     "data": {
      "text/plain": [
       "(47659, 10)"
      ]
     },
     "execution_count": 13,
     "metadata": {},
     "output_type": "execute_result"
    }
   ],
   "source": [
    "medium_data.drop(\n",
    "    url_duplicate_df.iloc[1].name, \n",
    "    inplace=True)\n",
    "medium_data.shape"
   ]
  },
  {
   "cell_type": "code",
   "execution_count": 14,
   "id": "3404a349",
   "metadata": {},
   "outputs": [
    {
     "data": {
      "text/plain": [
       "'I’m a Data Scientist — Here’s why I work at Facebook'"
      ]
     },
     "execution_count": 14,
     "metadata": {},
     "output_type": "execute_result"
    }
   ],
   "source": [
    "title_str = re.findall(\n",
    "    '(\\w’[^<]*)', \n",
    "    medium_data.title.iloc[url_duplicate_df.iloc[0].name])[0]\n",
    "title_str = title_str.replace(u'\\xa0', u' ')\n",
    "title_str = title_str.replace(u'\\u200a', u' ')\n",
    "\n",
    "medium_data.loc[url_duplicate_df.iloc[0].name, \"title\"] = title_str\n",
    "medium_data.loc[url_duplicate_df.iloc[0].name, \"title\"]"
   ]
  },
  {
   "cell_type": "markdown",
   "id": "8dd48500",
   "metadata": {},
   "source": [
    "### Kiểm tra các giá trị giữa hai cột là `author` và `author_page`"
   ]
  },
  {
   "cell_type": "markdown",
   "id": "c494d44b",
   "metadata": {},
   "source": [
    "Để xem mối quan hệ giữa hai cột này, ta tiến hành gộp hai cột lại."
   ]
  },
  {
   "cell_type": "code",
   "execution_count": 15,
   "id": "f52c85fc",
   "metadata": {},
   "outputs": [],
   "source": [
    "author_groupby_df = medium_data.groupby(\n",
    "    [\"author\",\"author_page\"]\n",
    ")[\"author\"].agg(pd.Series.mode)"
   ]
  },
  {
   "cell_type": "markdown",
   "id": "99c3177e",
   "metadata": {},
   "source": [
    "Tìm ra tất cả các giá trị trùng nhau trong cột này."
   ]
  },
  {
   "cell_type": "code",
   "execution_count": 16,
   "id": "2669f734",
   "metadata": {},
   "outputs": [
    {
     "data": {
      "text/plain": [
       "author         author_page                                  \n",
       "0sophietaylor  https://medium.com/@0sophietaylor                0sophietaylor\n",
       "               https://towardsdatascience.com/@0sophietaylor    0sophietaylor\n",
       "17.rsuraj      https://betterprogramming.pub/@17.rsuraj             17.rsuraj\n",
       "               https://medium.com/@17.rsuraj                        17.rsuraj\n",
       "               https://pub.towardsai.net/@17.rsuraj                 17.rsuraj\n",
       "                                                                    ...      \n",
       "zsalloum       https://medium.com/@zsalloum                          zsalloum\n",
       "               https://towardsdatascience.com/@zsalloum              zsalloum\n",
       "zulie          https://betterprogramming.pub/@zulie                     zulie\n",
       "               https://medium.com/@zulie                                zulie\n",
       "               https://towardsdatascience.com/@zulie                    zulie\n",
       "Name: author, Length: 2268, dtype: object"
      ]
     },
     "execution_count": 16,
     "metadata": {},
     "output_type": "execute_result"
    }
   ],
   "source": [
    "author_groupby_df[author_groupby_df.duplicated(keep=False)]"
   ]
  },
  {
   "cell_type": "markdown",
   "id": "ce83da8f",
   "metadata": {},
   "source": [
    "Như vậy, chúng ta có thể hiểu rằng, mỗi tác giả (author) có thể có nhiều hơn một domain, dẫn đến việc mỗi tác giả có thể có nhiều hơn một đường dẫn đến trang tác giả (author_page). Kết luận, không có vấn đề gì bất thường."
   ]
  },
  {
   "cell_type": "markdown",
   "id": "7cc5fd53",
   "metadata": {},
   "source": [
    "## Trực quan hóa một số thuộc tính"
   ]
  },
  {
   "cell_type": "markdown",
   "id": "3cd21b65",
   "metadata": {},
   "source": [
    "### Thông tin chung của các cột có kiểu numeric"
   ]
  },
  {
   "cell_type": "markdown",
   "id": "5683a509",
   "metadata": {},
   "source": [
    "Phần trực quan này bỏ qua cột `date` vì mục đích là có thêm cảm nhận về dữ liệu trong từng thuộc tính, chưa xét đến mối tương quan theo thời gian nào cả. Tiếp theo, dữ liệu được chuẩn hóa theo min-max lưu vào DataFrame `normalized_df` đế có sự so sánh đúng nhất giữa các thuộc tính."
   ]
  },
  {
   "cell_type": "code",
   "execution_count": 17,
   "id": "bd30786b",
   "metadata": {
    "scrolled": false
   },
   "outputs": [
    {
     "data": {
      "image/png": "[encoded data removed]",
      "text/plain": [
       "<Figure size 432x288 with 1 Axes>"
      ]
     },
     "metadata": {
      "needs_background": "light"
     },
     "output_type": "display_data"
    }
   ],
   "source": [
    "df = medium_data.select_dtypes(include=\"number\")\n",
    "normalized_df = (df-df.min())/(df.min()+df.max())\n",
    "normalized_df.plot.box();"
   ]
  },
  {
   "cell_type": "markdown",
   "id": "9b9ebf3d",
   "metadata": {},
   "source": [
    "Nhìn chung, các cột có phân phối lệch về phía bên trái (về phía 0) nhiều."
   ]
  },
  {
   "cell_type": "code",
   "execution_count": 18,
   "id": "221e8722",
   "metadata": {},
   "outputs": [
    {
     "data": {
      "image/png": "[encoded data removed]",
      "text/plain": [
       "<Figure size 432x288 with 1 Axes>"
      ]
     },
     "metadata": {
      "needs_background": "light"
     },
     "output_type": "display_data"
    }
   ],
   "source": [
    "normalized_df.plot.box(showfliers=False);"
   ]
  },
  {
   "cell_type": "markdown",
   "id": "bf250c0f",
   "metadata": {},
   "source": [
    "So với hai cột còn lại, `reading_time` có vẻ có phân phối gần với phân phối chuẩn hơn. (Trường hợp bỏ qua các phần tử ngoại lai - outlier - được xác định nhờ boxplot)."
   ]
  },
  {
   "cell_type": "markdown",
   "id": "67d24893",
   "metadata": {},
   "source": [
    "### Xem phân bố của cột `claps`"
   ]
  },
  {
   "cell_type": "code",
   "execution_count": 19,
   "id": "9b334316",
   "metadata": {},
   "outputs": [
    {
     "data": {
      "image/png": "[encoded data removed]",
      "text/plain": [
       "<Figure size 432x288 with 1 Axes>"
      ]
     },
     "metadata": {
      "needs_background": "light"
     },
     "output_type": "display_data"
    }
   ],
   "source": [
    "medium_data.claps.plot.box(showfliers=False);"
   ]
  },
  {
   "cell_type": "markdown",
   "id": "b29273c7",
   "metadata": {},
   "source": [
    "Bỏ qua các giá trị ngoại lai, kết luận ban đầu rằng dữ liệu bị lệch, mỗi bài viết có lượt `claps` phổ biến trong khoảng 0 đến 40."
   ]
  },
  {
   "cell_type": "markdown",
   "id": "095808c4",
   "metadata": {},
   "source": [
    "### Xem phân bố của cột `responses`"
   ]
  },
  {
   "cell_type": "code",
   "execution_count": 20,
   "id": "a6c2e085",
   "metadata": {},
   "outputs": [
    {
     "data": {
      "text/plain": [
       "count    47659.000000\n",
       "mean         0.243270\n",
       "std          1.506261\n",
       "min          0.000000\n",
       "25%          0.000000\n",
       "50%          0.000000\n",
       "75%          0.000000\n",
       "max        125.000000\n",
       "Name: responses, dtype: float64"
      ]
     },
     "execution_count": 20,
     "metadata": {},
     "output_type": "execute_result"
    }
   ],
   "source": [
    "medium_data.loc[:, \"responses\"].describe()"
   ]
  },
  {
   "cell_type": "markdown",
   "id": "21c2ee05",
   "metadata": {},
   "source": [
    "Có đến khoảng 70% dữ liệu bằng 0, giá trị cao nhất là 125. "
   ]
  },
  {
   "cell_type": "code",
   "execution_count": 21,
   "id": "f99c397f",
   "metadata": {},
   "outputs": [
    {
     "data": {
      "image/png": "[encoded data removed]",
      "text/plain": [
       "<Figure size 432x288 with 1 Axes>"
      ]
     },
     "metadata": {
      "needs_background": "light"
     },
     "output_type": "display_data"
    }
   ],
   "source": [
    "medium_data.loc[:, \"responses\"].plot.hist(bins=[0, 1, 2, 3, 4, 5]);"
   ]
  },
  {
   "cell_type": "markdown",
   "id": "ea777ab2",
   "metadata": {},
   "source": [
    "Xét các dữ liệu có `responses` gần với 0, ta có thể thấy dữ liệu nhận giá trị 0 vượt trội hơn. Kết luận ban đầu là `responses` có phân phối lệch, phần lớn các record có số lượng `responses` bằng 0."
   ]
  },
  {
   "cell_type": "markdown",
   "id": "68e443a5",
   "metadata": {},
   "source": [
    "### Xem phân bố của cột `reading_time`"
   ]
  },
  {
   "cell_type": "code",
   "execution_count": 22,
   "id": "eee97df2",
   "metadata": {},
   "outputs": [
    {
     "data": {
      "image/png": "[encoded data removed]",
      "text/plain": [
       "<Figure size 432x288 with 1 Axes>"
      ]
     },
     "metadata": {
      "needs_background": "light"
     },
     "output_type": "display_data"
    }
   ],
   "source": [
    "numeric_df[\"reading_time\"].plot.box(showfliers=False);"
   ]
  },
  {
   "cell_type": "markdown",
   "id": "7caadbe7",
   "metadata": {},
   "source": [
    "Trường hợp bỏ qua các phần từ ngoại lại (outlier), phân bố của cột `reading_time` với các giá trị còn lại khá chuẩn. Ta có thể có được kết luận ban đầu rằng tập dữ liệu có thời gian đọc trung bình là khoảng 4 phút, Range của thời gian đọc là từ 3 phút đến 6 phút."
   ]
  },
  {
   "cell_type": "markdown",
   "id": "9558e8ce",
   "metadata": {},
   "source": [
    "### Xem phân bố dữ liệu giữa các `tag`"
   ]
  },
  {
   "cell_type": "markdown",
   "id": "a6eab168",
   "metadata": {},
   "source": [
    "Đầu tiên, em tiến hành gom dữ liệu theo các `tag`, sau đó sử dụng hàm count() theo `url` đế đến số lượng trong tag đó. Lý do chọn `url` là vì tất cả các đường dẫn đều là duy nhất. việc trùng lặp đã được xử lý ở bên trên."
   ]
  },
  {
   "cell_type": "code",
   "execution_count": 23,
   "id": "abeec48e",
   "metadata": {},
   "outputs": [
    {
     "data": {
      "text/plain": [
       "tag\n",
       "Analytics                  2412\n",
       "Artificial Inteligence    10160\n",
       "Big Data                   2251\n",
       "Data                       6703\n",
       "Data Science              11414\n",
       "Deep Learning              3972\n",
       "Machine Learning          10747\n",
       "Name: url, dtype: int64"
      ]
     },
     "execution_count": 23,
     "metadata": {},
     "output_type": "execute_result"
    }
   ],
   "source": [
    "count_tag_df = medium_data.groupby([\"tag\"])['url'].count()\n",
    "count_tag_df"
   ]
  },
  {
   "cell_type": "markdown",
   "id": "dce6d37f",
   "metadata": {},
   "source": [
    "Kế tiếp, em vẽ biểu đồ pie theo từng `tag`."
   ]
  },
  {
   "cell_type": "code",
   "execution_count": 24,
   "id": "41c985b1",
   "metadata": {},
   "outputs": [
    {
     "data": {
      "image/png": "[encoded data removed]",
      "text/plain": [
       "<Figure size 432x288 with 1 Axes>"
      ]
     },
     "metadata": {},
     "output_type": "display_data"
    }
   ],
   "source": [
    "count_tag_df.plot.pie(\n",
    "    ylabel=\"\", \n",
    "    title=\"So luong record giua cac tag\");"
   ]
  },
  {
   "cell_type": "markdown",
   "id": "2c10ef54",
   "metadata": {},
   "source": [
    "Từ đây ta có kết luận rằng, tập dữ liệu chứa nhiều bài viết nằm trong ba lĩnh vực chính là **\"Data Science\"**, **\"Artificial Inteligence\"**, **\"Machine Learning\"**."
   ]
  },
  {
   "cell_type": "markdown",
   "id": "a1879c9f",
   "metadata": {},
   "source": [
    "# Đặt câu hỏi"
   ]
  },
  {
   "cell_type": "markdown",
   "id": "71db9bed",
   "metadata": {},
   "source": [
    "## Câu 1: Tổng hợp những bài viết của TOP-3 `author` nổi bật trong `tag` *Data Science* có lượt `claps` cao  mà có tổng thời gian đọc không quá 30 phút?"
   ]
  },
  {
   "cell_type": "markdown",
   "id": "c7740f00",
   "metadata": {},
   "source": [
    "Ý nghĩa:\n",
    "- Medium được xem là trang tin tức, bài viết chất lượng dành cho mọi đối tượng, đặc biệt là những người quan tâm đến nhóm ngành CNTT. Medium cung cấp sẵn thời gian đọc ngay đầu bài viết.\n",
    "- Trong một ngày, nhiều người sắp xếp thời gian chặt chẽ, rõ ràng. Họ thường dành thời gian cụ thể cho một công việc cụ thể.\n",
    "- Câu hỏi trên trả lời cho vấn đề dựa vào tổng thời gian mà bạn dành cho việc đọc mỗi ngày và lĩnh vực mà bạn đang quan tâm, câu trả lời sẽ gợi ý cho bạn về những bài viết của các tác giả nổi bật trong lĩnh vực đó, chọn ra những bài có lượt `claps` cao nằm trong tổng thời gian phù hợp và sẵn sàng cho bạn truy cập vào ngay bài viết."
   ]
  },
  {
   "cell_type": "markdown",
   "id": "7b05d5d8",
   "metadata": {},
   "source": [
    "Câu hỏi trên được chia ra làm các câu hỏi nhỏ như sau:\n",
    "- TOP-3 tác giả nổi bật nhất trong từng lĩnh vực Data Science là ai?\n",
    "- Những bài viết nào của họ có lượt `claps` cao?\n",
    "- Tổng hợp những bài viết có tổng thời gian đọc không quá 30 phút?"
   ]
  },
  {
   "cell_type": "markdown",
   "id": "0c4a3dc9",
   "metadata": {},
   "source": [
    "### TOP-3 tác giả nổi bật nhất trong lĩnh vực DataScience là ai?"
   ]
  },
  {
   "cell_type": "markdown",
   "id": "3c4214f8",
   "metadata": {},
   "source": [
    "Tùy nhu cầu mỗi người, ở đây em dành `reading_time_total`: 30 phút tổng thời gian dành cho việc đọc Medium mỗi ngày và lĩnh vực mình chọn đọc hôm nay là `choosing_tagged `: Data Science. `TOP_author` là con số mà mình muốn lựa chọn số tác giả nổi bật nhất trong lĩnh vực tương ứng, giới hạn của bài này những người nổi bật được xem là những người đóng góp nhiều cho lĩnh vực, có nhiều bài viết trong lĩnh vực đó. Ở đây cần trả lời cho TOP-3 tác giả, vậy nên `TOP-author`: 3."
   ]
  },
  {
   "cell_type": "code",
   "execution_count": 25,
   "id": "4bc60cc1",
   "metadata": {},
   "outputs": [],
   "source": [
    "reading_time_total = 30\n",
    "choosing_tagged = \"Data Science\"\n",
    "TOP_author = 3"
   ]
  },
  {
   "cell_type": "markdown",
   "id": "4162d8e3",
   "metadata": {},
   "source": [
    "`is_true_tag` là một Series True/False để xác định bài viết đó có thuộc lĩnh vực mà ta quan tâm hay không. `author_df`, `author_count` lần lượt là DataFrame của `author` và đếm số lần xuất hiện của nó. Dòng dưới cùng in ra một array những tác giả thuộc TOP-3 trong lĩnh vực này."
   ]
  },
  {
   "cell_type": "code",
   "execution_count": 26,
   "id": "50dc7cba",
   "metadata": {},
   "outputs": [
    {
     "data": {
      "text/plain": [
       "array(['ODSC', 'preettheman', 'kaabar-sofien'], dtype=object)"
      ]
     },
     "execution_count": 26,
     "metadata": {},
     "output_type": "execute_result"
    }
   ],
   "source": [
    "is_true_tag = medium_data[\"tag\"] == choosing_tagged\n",
    "\n",
    "author_df, author_count = np.unique(\n",
    "    medium_data[is_true_tag][\"author\"], \n",
    "    return_counts=True)\n",
    "author_count_index = author_count.argsort(kind=\"stable\")\n",
    "author_df[author_count_index[-TOP_author:]]"
   ]
  },
  {
   "cell_type": "markdown",
   "id": "115a30db",
   "metadata": {},
   "source": [
    "Như vậy, ta có được những cái tên tác giả nổi bật là: **'ODSC'**, **'preettheman'** và **'kaabar-sofien'**. Tiếp theo, cùng xem số lượng bài viết trong lĩnh vực trên của từng tác giả."
   ]
  },
  {
   "cell_type": "code",
   "execution_count": 27,
   "id": "f0857b50",
   "metadata": {},
   "outputs": [
    {
     "data": {
      "image/png": "[encoded data removed]",
      "text/plain": [
       "<Figure size 432x288 with 1 Axes>"
      ]
     },
     "metadata": {
      "needs_background": "light"
     },
     "output_type": "display_data"
    }
   ],
   "source": [
    "plt.barh(author_df[author_count_index[-TOP_author:]], \n",
    "         author_count[author_count_index[-TOP_author:]])\n",
    "\n",
    "plt.show();"
   ]
  },
  {
   "cell_type": "markdown",
   "id": "2a62d951",
   "metadata": {},
   "source": [
    "### Những bài viết nào của họ có lượt `claps` cao?"
   ]
  },
  {
   "cell_type": "markdown",
   "id": "e8e13d90",
   "metadata": {},
   "source": [
    "Kế tiếp, `is_true_author` là một Series True/False để đánh dấu các record có tác giả nằm trong TOP-3 bên trên. `top_author_df` là một DataFrame tổng hợp lại các record có các tác giả nằm trong TOP-3 và thuộc lĩnh vực đang quan tâm. Ngoài ra, DataFrame này còn được sort lại theo giá trị nằm trong thuộc tính `claps` với `accending`: False."
   ]
  },
  {
   "cell_type": "code",
   "execution_count": 28,
   "id": "b5947280",
   "metadata": {
    "scrolled": false
   },
   "outputs": [
    {
     "data": {
      "text/html": [
       "<div>\n",
       "<style scoped>\n",
       "    .dataframe tbody tr th:only-of-type {\n",
       "        vertical-align: middle;\n",
       "    }\n",
       "\n",
       "    .dataframe tbody tr th {\n",
       "        vertical-align: top;\n",
       "    }\n",
       "\n",
       "    .dataframe thead th {\n",
       "        text-align: right;\n",
       "    }\n",
       "</style>\n",
       "<table border=\"1\" class=\"dataframe\">\n",
       "  <thead>\n",
       "    <tr style=\"text-align: right;\">\n",
       "      <th></th>\n",
       "      <th>url</th>\n",
       "      <th>title</th>\n",
       "      <th>author</th>\n",
       "      <th>author_page</th>\n",
       "      <th>subtitle</th>\n",
       "      <th>claps</th>\n",
       "      <th>responses</th>\n",
       "      <th>reading_time</th>\n",
       "      <th>tag</th>\n",
       "      <th>date</th>\n",
       "    </tr>\n",
       "  </thead>\n",
       "  <tbody>\n",
       "    <tr>\n",
       "      <th>8018</th>\n",
       "      <td>https://medium.com/@preettheman/these-are-the-programming-languages-google-uses-e248a03a589d</td>\n",
       "      <td>These are the programming languages Google uses</td>\n",
       "      <td>preettheman</td>\n",
       "      <td>https://medium.com/@preettheman</td>\n",
       "      <td>NaN</td>\n",
       "      <td>344.0</td>\n",
       "      <td>0.0</td>\n",
       "      <td>4.0</td>\n",
       "      <td>Data Science</td>\n",
       "      <td>2021-04-13</td>\n",
       "    </tr>\n",
       "    <tr>\n",
       "      <th>11589</th>\n",
       "      <td>https://medium.com/geekculture/using-time-to-generate-trading-signals-detecting-trend-exhaustions-d94cd218e124</td>\n",
       "      <td>Using Time to Generate Trading Signals. Detecting Trend Exhaustion.</td>\n",
       "      <td>kaabar-sofien</td>\n",
       "      <td>https://medium.com/@kaabar-sofien</td>\n",
       "      <td>Creating the Time Spent…</td>\n",
       "      <td>237.0</td>\n",
       "      <td>2.0</td>\n",
       "      <td>8.0</td>\n",
       "      <td>Data Science</td>\n",
       "      <td>2021-05-19</td>\n",
       "    </tr>\n",
       "    <tr>\n",
       "      <th>26931</th>\n",
       "      <td>https://medium.com/@preettheman/dont-use-golang-use-this-instead-3002e2e88368</td>\n",
       "      <td>Don’t use Golang, use this instead!</td>\n",
       "      <td>preettheman</td>\n",
       "      <td>https://medium.com/@preettheman</td>\n",
       "      <td>NaN</td>\n",
       "      <td>153.0</td>\n",
       "      <td>0.0</td>\n",
       "      <td>3.0</td>\n",
       "      <td>Data Science</td>\n",
       "      <td>2021-10-17</td>\n",
       "    </tr>\n",
       "    <tr>\n",
       "      <th>25040</th>\n",
       "      <td>https://medium.com/@preettheman/these-are-all-of-the-algorithms-for-python-9b8fb21394cb</td>\n",
       "      <td>These are all of the algorithms for Python</td>\n",
       "      <td>preettheman</td>\n",
       "      <td>https://medium.com/@preettheman</td>\n",
       "      <td>NaN</td>\n",
       "      <td>147.0</td>\n",
       "      <td>0.0</td>\n",
       "      <td>2.0</td>\n",
       "      <td>Data Science</td>\n",
       "      <td>2021-10-10</td>\n",
       "    </tr>\n",
       "    <tr>\n",
       "      <th>21668</th>\n",
       "      <td>https://medium.com/@preettheman/jupyterlab-just-got-a-massive-update-8697cf7eb67b</td>\n",
       "      <td>JupyterLab just got a massive update!</td>\n",
       "      <td>preettheman</td>\n",
       "      <td>https://medium.com/@preettheman</td>\n",
       "      <td>NaN</td>\n",
       "      <td>147.0</td>\n",
       "      <td>0.0</td>\n",
       "      <td>3.0</td>\n",
       "      <td>Data Science</td>\n",
       "      <td>2021-09-22</td>\n",
       "    </tr>\n",
       "  </tbody>\n",
       "</table>\n",
       "</div>"
      ],
      "text/plain": [
       "                                                                                                                  url  \\\n",
       "8018                     https://medium.com/@preettheman/these-are-the-programming-languages-google-uses-e248a03a589d   \n",
       "11589  https://medium.com/geekculture/using-time-to-generate-trading-signals-detecting-trend-exhaustions-d94cd218e124   \n",
       "26931                                   https://medium.com/@preettheman/dont-use-golang-use-this-instead-3002e2e88368   \n",
       "25040                         https://medium.com/@preettheman/these-are-all-of-the-algorithms-for-python-9b8fb21394cb   \n",
       "21668                               https://medium.com/@preettheman/jupyterlab-just-got-a-massive-update-8697cf7eb67b   \n",
       "\n",
       "                                                                     title  \\\n",
       "8018                       These are the programming languages Google uses   \n",
       "11589  Using Time to Generate Trading Signals. Detecting Trend Exhaustion.   \n",
       "26931                                  Don’t use Golang, use this instead!   \n",
       "25040                           These are all of the algorithms for Python   \n",
       "21668                                JupyterLab just got a massive update!   \n",
       "\n",
       "              author                        author_page  \\\n",
       "8018     preettheman    https://medium.com/@preettheman   \n",
       "11589  kaabar-sofien  https://medium.com/@kaabar-sofien   \n",
       "26931    preettheman    https://medium.com/@preettheman   \n",
       "25040    preettheman    https://medium.com/@preettheman   \n",
       "21668    preettheman    https://medium.com/@preettheman   \n",
       "\n",
       "                       subtitle  claps  responses  reading_time           tag  \\\n",
       "8018                        NaN  344.0        0.0           4.0  Data Science   \n",
       "11589  Creating the Time Spent…  237.0        2.0           8.0  Data Science   \n",
       "26931                       NaN  153.0        0.0           3.0  Data Science   \n",
       "25040                       NaN  147.0        0.0           2.0  Data Science   \n",
       "21668                       NaN  147.0        0.0           3.0  Data Science   \n",
       "\n",
       "            date  \n",
       "8018  2021-04-13  \n",
       "11589 2021-05-19  \n",
       "26931 2021-10-17  \n",
       "25040 2021-10-10  \n",
       "21668 2021-09-22  "
      ]
     },
     "execution_count": 28,
     "metadata": {},
     "output_type": "execute_result"
    }
   ],
   "source": [
    "is_true_author = medium_data[\"author\"].isin(\n",
    "    ['ODSC', 'preettheman', 'kaabar-sofien']\n",
    ")\n",
    "\n",
    "top_author_df = medium_data[is_true_author & is_true_tag].sort_values(\n",
    "    by=\"claps\", \n",
    "    ascending=False\n",
    ")\n",
    "\n",
    "top_author_df.head()"
   ]
  },
  {
   "cell_type": "markdown",
   "id": "e1975f8c",
   "metadata": {},
   "source": [
    "### Tổng hợp những bài viết có tổng thời gian đọc không quá 30 phút?"
   ]
  },
  {
   "cell_type": "markdown",
   "id": "5b86dfce",
   "metadata": {},
   "source": [
    "Như vậy, từ DataFrame trên ta có được các bài viết của các tác giả hàng đầu, lượt `clap` được sắp xếp từ cao đến thấp. Công việc còn lại là tìm ra những bài viết có tổng thời gian nằm trong khoảng 30 phút. Phần này, em chưa tìm ra cách nào để tránh phải sử dụng vòng lặp **for**, nhằm mục đích tối ưu thời gian. Trước khi nhanh thì phải đúng, em xây dựng hàm `subset_time_by_sum` nhận hai giá trị **INPUT** là `column` là một cột của pandas và `target` là con số tổng thời gian; **OUTPUT** của hàm này là một list gồm các **index** của những column có tổng nằm trong khoảng của `target`."
   ]
  },
  {
   "cell_type": "code",
   "execution_count": 29,
   "id": "d56571a5",
   "metadata": {},
   "outputs": [],
   "source": [
    "def subset_time_by_sum(colum, target):\n",
    "    \"\"\"\n",
    "    parameter:\n",
    "    - column: (Series) A colums in pandas (have index).\n",
    "    - target: (Int) Given a sum.\n",
    "    \n",
    "    return:\n",
    "    - (list) index column of all subset which have total time equal sum.\n",
    "    \"\"\"\n",
    "    sum_time = 0\n",
    "    i = 0\n",
    "    result = []\n",
    "    \n",
    "    for i in colum.index:\n",
    "        if sum_time == target: break\n",
    "        if (sum_time+colum[i]) < target:\n",
    "            sum_time+=colum[i]\n",
    "            result.append(i)\n",
    "    return result"
   ]
  },
  {
   "cell_type": "markdown",
   "id": "74adb0a8",
   "metadata": {},
   "source": [
    "Dựa vào index trả về từ hàm `subset_time_by_sum`, ta lấy ra các record từ `top_author_df` và lưu lại những bài viết chuẩn bị để đọc vào DataFrame `reading_post_df`."
   ]
  },
  {
   "cell_type": "code",
   "execution_count": 30,
   "id": "b693e4f5",
   "metadata": {},
   "outputs": [
    {
     "data": {
      "text/html": [
       "<div>\n",
       "<style scoped>\n",
       "    .dataframe tbody tr th:only-of-type {\n",
       "        vertical-align: middle;\n",
       "    }\n",
       "\n",
       "    .dataframe tbody tr th {\n",
       "        vertical-align: top;\n",
       "    }\n",
       "\n",
       "    .dataframe thead th {\n",
       "        text-align: right;\n",
       "    }\n",
       "</style>\n",
       "<table border=\"1\" class=\"dataframe\">\n",
       "  <thead>\n",
       "    <tr style=\"text-align: right;\">\n",
       "      <th></th>\n",
       "      <th>url</th>\n",
       "      <th>title</th>\n",
       "      <th>author</th>\n",
       "      <th>author_page</th>\n",
       "      <th>subtitle</th>\n",
       "      <th>claps</th>\n",
       "      <th>responses</th>\n",
       "      <th>reading_time</th>\n",
       "      <th>tag</th>\n",
       "      <th>date</th>\n",
       "    </tr>\n",
       "  </thead>\n",
       "  <tbody>\n",
       "    <tr>\n",
       "      <th>8018</th>\n",
       "      <td>https://medium.com/@preettheman/these-are-the-programming-languages-google-uses-e248a03a589d</td>\n",
       "      <td>These are the programming languages Google uses</td>\n",
       "      <td>preettheman</td>\n",
       "      <td>https://medium.com/@preettheman</td>\n",
       "      <td>NaN</td>\n",
       "      <td>344.0</td>\n",
       "      <td>0.0</td>\n",
       "      <td>4.0</td>\n",
       "      <td>Data Science</td>\n",
       "      <td>2021-04-13</td>\n",
       "    </tr>\n",
       "    <tr>\n",
       "      <th>11589</th>\n",
       "      <td>https://medium.com/geekculture/using-time-to-generate-trading-signals-detecting-trend-exhaustions-d94cd218e124</td>\n",
       "      <td>Using Time to Generate Trading Signals. Detecting Trend Exhaustion.</td>\n",
       "      <td>kaabar-sofien</td>\n",
       "      <td>https://medium.com/@kaabar-sofien</td>\n",
       "      <td>Creating the Time Spent…</td>\n",
       "      <td>237.0</td>\n",
       "      <td>2.0</td>\n",
       "      <td>8.0</td>\n",
       "      <td>Data Science</td>\n",
       "      <td>2021-05-19</td>\n",
       "    </tr>\n",
       "    <tr>\n",
       "      <th>26932</th>\n",
       "      <td>https://towardsdatascience.com/a-pyspark-example-for-dealing-with-larger-than-memory-datasets-70dbc82b0e98</td>\n",
       "      <td>A PySpark Example for Dealing with Larger than Memory Datasets</td>\n",
       "      <td>georgiadeaconu</td>\n",
       "      <td>https://towardsdatascience.com/@georgiadeaconu</td>\n",
       "      <td>A step-by-step tutorial on how to use…</td>\n",
       "      <td>90.0</td>\n",
       "      <td>0.0</td>\n",
       "      <td>3.0</td>\n",
       "      <td>Data Science</td>\n",
       "      <td>2021-10-17</td>\n",
       "    </tr>\n",
       "    <tr>\n",
       "      <th>25040</th>\n",
       "      <td>https://medium.com/@preettheman/these-are-all-of-the-algorithms-for-python-9b8fb21394cb</td>\n",
       "      <td>These are all of the algorithms for Python</td>\n",
       "      <td>preettheman</td>\n",
       "      <td>https://medium.com/@preettheman</td>\n",
       "      <td>NaN</td>\n",
       "      <td>147.0</td>\n",
       "      <td>0.0</td>\n",
       "      <td>2.0</td>\n",
       "      <td>Data Science</td>\n",
       "      <td>2021-10-10</td>\n",
       "    </tr>\n",
       "    <tr>\n",
       "      <th>21668</th>\n",
       "      <td>https://medium.com/@preettheman/jupyterlab-just-got-a-massive-update-8697cf7eb67b</td>\n",
       "      <td>JupyterLab just got a massive update!</td>\n",
       "      <td>preettheman</td>\n",
       "      <td>https://medium.com/@preettheman</td>\n",
       "      <td>NaN</td>\n",
       "      <td>147.0</td>\n",
       "      <td>0.0</td>\n",
       "      <td>3.0</td>\n",
       "      <td>Data Science</td>\n",
       "      <td>2021-09-22</td>\n",
       "    </tr>\n",
       "    <tr>\n",
       "      <th>27817</th>\n",
       "      <td>https://python.plainenglish.io/named-entity-recognition-with-spacy-and-nltk-aaf6be517ad7</td>\n",
       "      <td>Named Entity Recognition with spaCy and NLTK</td>\n",
       "      <td>mayank.bali</td>\n",
       "      <td>https://python.plainenglish.io/@mayank.bali</td>\n",
       "      <td>A guide on using NLTK and spaCy to create a named entity…</td>\n",
       "      <td>256.0</td>\n",
       "      <td>0.0</td>\n",
       "      <td>6.0</td>\n",
       "      <td>Data Science</td>\n",
       "      <td>2021-10-20</td>\n",
       "    </tr>\n",
       "    <tr>\n",
       "      <th>30900</th>\n",
       "      <td>https://towardsdatascience.com/infranodus-excellent-tool-for-textual-data-analysis-2b4839e6cd10</td>\n",
       "      <td>InfraNodus: An Excellent Tool for Textual Data Analysis</td>\n",
       "      <td>petrkorab</td>\n",
       "      <td>https://towardsdatascience.com/@petrkorab</td>\n",
       "      <td>Introduction to InfraNodus with example of…</td>\n",
       "      <td>104.0</td>\n",
       "      <td>1.0</td>\n",
       "      <td>3.0</td>\n",
       "      <td>Data Science</td>\n",
       "      <td>2021-10-31</td>\n",
       "    </tr>\n",
       "  </tbody>\n",
       "</table>\n",
       "</div>"
      ],
      "text/plain": [
       "                                                                                                                  url  \\\n",
       "8018                     https://medium.com/@preettheman/these-are-the-programming-languages-google-uses-e248a03a589d   \n",
       "11589  https://medium.com/geekculture/using-time-to-generate-trading-signals-detecting-trend-exhaustions-d94cd218e124   \n",
       "26932      https://towardsdatascience.com/a-pyspark-example-for-dealing-with-larger-than-memory-datasets-70dbc82b0e98   \n",
       "25040                         https://medium.com/@preettheman/these-are-all-of-the-algorithms-for-python-9b8fb21394cb   \n",
       "21668                               https://medium.com/@preettheman/jupyterlab-just-got-a-massive-update-8697cf7eb67b   \n",
       "27817                        https://python.plainenglish.io/named-entity-recognition-with-spacy-and-nltk-aaf6be517ad7   \n",
       "30900                 https://towardsdatascience.com/infranodus-excellent-tool-for-textual-data-analysis-2b4839e6cd10   \n",
       "\n",
       "                                                                     title  \\\n",
       "8018                       These are the programming languages Google uses   \n",
       "11589  Using Time to Generate Trading Signals. Detecting Trend Exhaustion.   \n",
       "26932       A PySpark Example for Dealing with Larger than Memory Datasets   \n",
       "25040                           These are all of the algorithms for Python   \n",
       "21668                                JupyterLab just got a massive update!   \n",
       "27817                         Named Entity Recognition with spaCy and NLTK   \n",
       "30900              InfraNodus: An Excellent Tool for Textual Data Analysis   \n",
       "\n",
       "               author                                     author_page  \\\n",
       "8018      preettheman                 https://medium.com/@preettheman   \n",
       "11589   kaabar-sofien               https://medium.com/@kaabar-sofien   \n",
       "26932  georgiadeaconu  https://towardsdatascience.com/@georgiadeaconu   \n",
       "25040     preettheman                 https://medium.com/@preettheman   \n",
       "21668     preettheman                 https://medium.com/@preettheman   \n",
       "27817     mayank.bali     https://python.plainenglish.io/@mayank.bali   \n",
       "30900       petrkorab       https://towardsdatascience.com/@petrkorab   \n",
       "\n",
       "                                                        subtitle  claps  \\\n",
       "8018                                                         NaN  344.0   \n",
       "11589                                   Creating the Time Spent…  237.0   \n",
       "26932                     A step-by-step tutorial on how to use…   90.0   \n",
       "25040                                                        NaN  147.0   \n",
       "21668                                                        NaN  147.0   \n",
       "27817  A guide on using NLTK and spaCy to create a named entity…  256.0   \n",
       "30900                Introduction to InfraNodus with example of…  104.0   \n",
       "\n",
       "       responses  reading_time           tag       date  \n",
       "8018         0.0           4.0  Data Science 2021-04-13  \n",
       "11589        2.0           8.0  Data Science 2021-05-19  \n",
       "26932        0.0           3.0  Data Science 2021-10-17  \n",
       "25040        0.0           2.0  Data Science 2021-10-10  \n",
       "21668        0.0           3.0  Data Science 2021-09-22  \n",
       "27817        0.0           6.0  Data Science 2021-10-20  \n",
       "30900        1.0           3.0  Data Science 2021-10-31  "
      ]
     },
     "execution_count": 30,
     "metadata": {},
     "output_type": "execute_result"
    }
   ],
   "source": [
    "reading_post_df = medium_data.iloc[subset_time_by_sum(\n",
    "    top_author_df.reading_time, reading_time_total)]\n",
    "reading_post_df"
   ]
  },
  {
   "cell_type": "markdown",
   "id": "818f54b8",
   "metadata": {},
   "source": [
    "### Kết luận"
   ]
  },
  {
   "cell_type": "code",
   "execution_count": 31,
   "id": "dbeaa37f",
   "metadata": {},
   "outputs": [
    {
     "data": {
      "text/plain": [
       "29.0"
      ]
     },
     "execution_count": 31,
     "metadata": {},
     "output_type": "execute_result"
    }
   ],
   "source": [
    "reading_post_df.reading_time.sum()"
   ]
  },
  {
   "cell_type": "markdown",
   "id": "ff97696c",
   "metadata": {},
   "source": [
    "Kiểm tra lại xem tổng thời gian để đọc hết những bài viết này là 29 phút (<=30 phút) là đúng theo yêu cầu. Như vậy, những bài viết là những bài viết của các tác giả nổi bật trong lĩnh vực **Data Science**, có lượt **claps** cao và thời gian đọc của những bài viết này không quá 30 phút. Mời thầy và các bạn cùng xem các bài viết này."
   ]
  },
  {
   "cell_type": "code",
   "execution_count": 32,
   "id": "80bf6b78",
   "metadata": {},
   "outputs": [
    {
     "data": {
      "text/plain": [
       "8018                       https://medium.com/@preettheman/these-are-the-programming-languages-google-uses-e248a03a589d\n",
       "11589    https://medium.com/geekculture/using-time-to-generate-trading-signals-detecting-trend-exhaustions-d94cd218e124\n",
       "26932        https://towardsdatascience.com/a-pyspark-example-for-dealing-with-larger-than-memory-datasets-70dbc82b0e98\n",
       "25040                           https://medium.com/@preettheman/these-are-all-of-the-algorithms-for-python-9b8fb21394cb\n",
       "21668                                 https://medium.com/@preettheman/jupyterlab-just-got-a-massive-update-8697cf7eb67b\n",
       "27817                          https://python.plainenglish.io/named-entity-recognition-with-spacy-and-nltk-aaf6be517ad7\n",
       "30900                   https://towardsdatascience.com/infranodus-excellent-tool-for-textual-data-analysis-2b4839e6cd10\n",
       "Name: url, dtype: object"
      ]
     },
     "execution_count": 32,
     "metadata": {},
     "output_type": "execute_result"
    }
   ],
   "source": [
    "reading_post_df.url"
   ]
  },
  {
   "cell_type": "markdown",
   "id": "c0a23252",
   "metadata": {},
   "source": [
    "## Câu 2: Lĩnh vực nào có nhiều người quan tâm nhất trong năm 2021 và thời gian đọc trung bình của lĩnh vực đó là bao nhiêu?"
   ]
  },
  {
   "cell_type": "markdown",
   "id": "3e39bb3b",
   "metadata": {},
   "source": [
    "- Ý nghĩa: Giả sử một người viết bài cần có thông tin về lĩnh vực nhiều người quan tâm cũng như thời gian đọc trung bình của lĩnh vực đó để họ có thêm thông tin về lĩnh vực cũng như độ dài bài viết (thời gian đọc hết bài) sao cho thu hút nhiều người đọc nhất.\n",
    "- Câu hỏi trên chia làm các câu hỏi nhỏ như sau:\n",
    "    - Phần 1: Thống kê các lĩnh vực có tổng lượt claps và responses nhiều nhất theo từng tháng, từ đó xác định xu hướng lĩnh vực được nhiều người quan tâm trong năm 2021.\n",
    "    - Phần 2: Tìm thời gian đọc trung bình của lĩnh vực đó là bao nhiêu?"
   ]
  },
  {
   "cell_type": "markdown",
   "id": "8cfb0b5b",
   "metadata": {},
   "source": [
    "### Phần 1: Xu hướng lĩnh vực được nhiều người quan tâm theo từng tháng trong năm 2021 là gì?"
   ]
  },
  {
   "cell_type": "markdown",
   "id": "01c8fe75",
   "metadata": {},
   "source": [
    "Giới hạn trong bài toán này, em giả định rằng lĩnh vực được nhiều người quan tâm là những lĩnh vực có tổng số lượng lượt `claps` và lượt `responses` nhiều nhất. Vì vậy, em cần thống kê lại:\n",
    "1. Theo từng tháng, mỗi lĩnh vực có tổng số lượng claps và responses bằng bao nhiêu?\n",
    "2. Muốn biết được tổng của hai con số trên, trước hết em tính tổng lượng claps và tính tổng lượng responses theo từng tháng trong từng lĩnh vực.\n",
    "\n",
    "Bên dưới là quá trình trình bày theo thứ tự ngược lại từ 2 đến 1."
   ]
  },
  {
   "cell_type": "markdown",
   "id": "3787a38a",
   "metadata": {},
   "source": [
    "Bước đầu tiên, ta thêm một cột mới là `month` vào `medium_data`. `month` được trích ra từ cột `date`."
   ]
  },
  {
   "cell_type": "code",
   "execution_count": 33,
   "id": "891c2c93",
   "metadata": {},
   "outputs": [],
   "source": [
    "medium_data[\"month\"] = medium_data.date.dt.month"
   ]
  },
  {
   "cell_type": "markdown",
   "id": "92c08f27",
   "metadata": {},
   "source": [
    "Tiếp theo, em nhóm dữ liêu theo hai thuộc tính là `month` và `tag`, từ đó tính tổng số lượng `claps` và tổng số lượng `response` tương ứng với từng lĩnh vực trong từng tháng. DataFrame mới tạo thành được lưu lại vào `sum_by_month_tag_df`"
   ]
  },
  {
   "cell_type": "code",
   "execution_count": 34,
   "id": "3178cfff",
   "metadata": {},
   "outputs": [
    {
     "data": {
      "text/html": [
       "<div>\n",
       "<style scoped>\n",
       "    .dataframe tbody tr th:only-of-type {\n",
       "        vertical-align: middle;\n",
       "    }\n",
       "\n",
       "    .dataframe tbody tr th {\n",
       "        vertical-align: top;\n",
       "    }\n",
       "\n",
       "    .dataframe thead th {\n",
       "        text-align: right;\n",
       "    }\n",
       "</style>\n",
       "<table border=\"1\" class=\"dataframe\">\n",
       "  <thead>\n",
       "    <tr style=\"text-align: right;\">\n",
       "      <th></th>\n",
       "      <th></th>\n",
       "      <th>claps</th>\n",
       "      <th>responses</th>\n",
       "    </tr>\n",
       "    <tr>\n",
       "      <th>month</th>\n",
       "      <th>tag</th>\n",
       "      <th></th>\n",
       "      <th></th>\n",
       "    </tr>\n",
       "  </thead>\n",
       "  <tbody>\n",
       "    <tr>\n",
       "      <th rowspan=\"5\" valign=\"top\">1</th>\n",
       "      <th>Analytics</th>\n",
       "      <td>7350.0</td>\n",
       "      <td>27.0</td>\n",
       "    </tr>\n",
       "    <tr>\n",
       "      <th>Artificial Inteligence</th>\n",
       "      <td>29135.0</td>\n",
       "      <td>132.0</td>\n",
       "    </tr>\n",
       "    <tr>\n",
       "      <th>Big Data</th>\n",
       "      <td>4596.0</td>\n",
       "      <td>9.0</td>\n",
       "    </tr>\n",
       "    <tr>\n",
       "      <th>Data</th>\n",
       "      <td>21622.0</td>\n",
       "      <td>84.0</td>\n",
       "    </tr>\n",
       "    <tr>\n",
       "      <th>Deep Learning</th>\n",
       "      <td>19189.0</td>\n",
       "      <td>73.0</td>\n",
       "    </tr>\n",
       "    <tr>\n",
       "      <th>...</th>\n",
       "      <th>...</th>\n",
       "      <td>...</td>\n",
       "      <td>...</td>\n",
       "    </tr>\n",
       "    <tr>\n",
       "      <th rowspan=\"5\" valign=\"top\">12</th>\n",
       "      <th>Big Data</th>\n",
       "      <td>4130.0</td>\n",
       "      <td>9.0</td>\n",
       "    </tr>\n",
       "    <tr>\n",
       "      <th>Data</th>\n",
       "      <td>26822.0</td>\n",
       "      <td>140.0</td>\n",
       "    </tr>\n",
       "    <tr>\n",
       "      <th>Data Science</th>\n",
       "      <td>127499.0</td>\n",
       "      <td>760.0</td>\n",
       "    </tr>\n",
       "    <tr>\n",
       "      <th>Deep Learning</th>\n",
       "      <td>4506.0</td>\n",
       "      <td>7.0</td>\n",
       "    </tr>\n",
       "    <tr>\n",
       "      <th>Machine Learning</th>\n",
       "      <td>61249.0</td>\n",
       "      <td>211.0</td>\n",
       "    </tr>\n",
       "  </tbody>\n",
       "</table>\n",
       "<p>80 rows × 2 columns</p>\n",
       "</div>"
      ],
      "text/plain": [
       "                                 claps  responses\n",
       "month tag                                        \n",
       "1     Analytics                 7350.0       27.0\n",
       "      Artificial Inteligence   29135.0      132.0\n",
       "      Big Data                  4596.0        9.0\n",
       "      Data                     21622.0       84.0\n",
       "      Deep Learning            19189.0       73.0\n",
       "...                                ...        ...\n",
       "12    Big Data                  4130.0        9.0\n",
       "      Data                     26822.0      140.0\n",
       "      Data Science            127499.0      760.0\n",
       "      Deep Learning             4506.0        7.0\n",
       "      Machine Learning         61249.0      211.0\n",
       "\n",
       "[80 rows x 2 columns]"
      ]
     },
     "execution_count": 34,
     "metadata": {},
     "output_type": "execute_result"
    }
   ],
   "source": [
    "sum_by_month_tag_df = medium_data.groupby(\n",
    "    [\"month\", \"tag\"]\n",
    ")[['claps', 'responses']].sum()\n",
    "sum_by_month_tag_df"
   ]
  },
  {
   "cell_type": "markdown",
   "id": "2ede3b92",
   "metadata": {},
   "source": [
    "Kế tiếp, em tạo ra thêm một `total` trong `sum_by_month_tag_df` để lưu lại tổng số lượng của cả lượt claps và responses. Sau đó em cũng tiến hành loại bỏ hai cột `claps` và `responses` vì lúc này, DataFrame đã đủ thông tin cần thiết. "
   ]
  },
  {
   "cell_type": "code",
   "execution_count": 35,
   "id": "1eba7502",
   "metadata": {},
   "outputs": [
    {
     "data": {
      "text/html": [
       "<div>\n",
       "<style scoped>\n",
       "    .dataframe tbody tr th:only-of-type {\n",
       "        vertical-align: middle;\n",
       "    }\n",
       "\n",
       "    .dataframe tbody tr th {\n",
       "        vertical-align: top;\n",
       "    }\n",
       "\n",
       "    .dataframe thead th {\n",
       "        text-align: right;\n",
       "    }\n",
       "</style>\n",
       "<table border=\"1\" class=\"dataframe\">\n",
       "  <thead>\n",
       "    <tr style=\"text-align: right;\">\n",
       "      <th></th>\n",
       "      <th></th>\n",
       "      <th>total</th>\n",
       "    </tr>\n",
       "    <tr>\n",
       "      <th>month</th>\n",
       "      <th>tag</th>\n",
       "      <th></th>\n",
       "    </tr>\n",
       "  </thead>\n",
       "  <tbody>\n",
       "    <tr>\n",
       "      <th rowspan=\"5\" valign=\"top\">1</th>\n",
       "      <th>Analytics</th>\n",
       "      <td>7377.0</td>\n",
       "    </tr>\n",
       "    <tr>\n",
       "      <th>Artificial Inteligence</th>\n",
       "      <td>29267.0</td>\n",
       "    </tr>\n",
       "    <tr>\n",
       "      <th>Big Data</th>\n",
       "      <td>4605.0</td>\n",
       "    </tr>\n",
       "    <tr>\n",
       "      <th>Data</th>\n",
       "      <td>21706.0</td>\n",
       "    </tr>\n",
       "    <tr>\n",
       "      <th>Deep Learning</th>\n",
       "      <td>19262.0</td>\n",
       "    </tr>\n",
       "    <tr>\n",
       "      <th>...</th>\n",
       "      <th>...</th>\n",
       "      <td>...</td>\n",
       "    </tr>\n",
       "    <tr>\n",
       "      <th rowspan=\"5\" valign=\"top\">12</th>\n",
       "      <th>Big Data</th>\n",
       "      <td>4139.0</td>\n",
       "    </tr>\n",
       "    <tr>\n",
       "      <th>Data</th>\n",
       "      <td>26962.0</td>\n",
       "    </tr>\n",
       "    <tr>\n",
       "      <th>Data Science</th>\n",
       "      <td>128259.0</td>\n",
       "    </tr>\n",
       "    <tr>\n",
       "      <th>Deep Learning</th>\n",
       "      <td>4513.0</td>\n",
       "    </tr>\n",
       "    <tr>\n",
       "      <th>Machine Learning</th>\n",
       "      <td>61460.0</td>\n",
       "    </tr>\n",
       "  </tbody>\n",
       "</table>\n",
       "<p>80 rows × 1 columns</p>\n",
       "</div>"
      ],
      "text/plain": [
       "                                 total\n",
       "month tag                             \n",
       "1     Analytics                 7377.0\n",
       "      Artificial Inteligence   29267.0\n",
       "      Big Data                  4605.0\n",
       "      Data                     21706.0\n",
       "      Deep Learning            19262.0\n",
       "...                                ...\n",
       "12    Big Data                  4139.0\n",
       "      Data                     26962.0\n",
       "      Data Science            128259.0\n",
       "      Deep Learning             4513.0\n",
       "      Machine Learning         61460.0\n",
       "\n",
       "[80 rows x 1 columns]"
      ]
     },
     "execution_count": 35,
     "metadata": {},
     "output_type": "execute_result"
    }
   ],
   "source": [
    "sum_by_month_tag_df['total'] = sum_by_month_tag_df.claps + sum_by_month_tag_df.responses\n",
    "sum_by_month_tag_df.drop(\n",
    "    columns=[\"claps\", \"responses\"], \n",
    "    axis=1, \n",
    "    inplace=True\n",
    ")\n",
    "\n",
    "sum_by_month_tag_df"
   ]
  },
  {
   "cell_type": "markdown",
   "id": "1b460814",
   "metadata": {},
   "source": [
    "Tiếp theo, em **unstack** ở level mức 1 tức là chuyển index `tag` lên column và giữ nguyên index level mức 0. DataFrame mới em lưu lại vào `sum_of_tag_each_month_df`."
   ]
  },
  {
   "cell_type": "code",
   "execution_count": 36,
   "id": "3af57cf9",
   "metadata": {},
   "outputs": [
    {
     "data": {
      "text/html": [
       "<div>\n",
       "<style scoped>\n",
       "    .dataframe tbody tr th:only-of-type {\n",
       "        vertical-align: middle;\n",
       "    }\n",
       "\n",
       "    .dataframe tbody tr th {\n",
       "        vertical-align: top;\n",
       "    }\n",
       "\n",
       "    .dataframe thead tr th {\n",
       "        text-align: left;\n",
       "    }\n",
       "\n",
       "    .dataframe thead tr:last-of-type th {\n",
       "        text-align: right;\n",
       "    }\n",
       "</style>\n",
       "<table border=\"1\" class=\"dataframe\">\n",
       "  <thead>\n",
       "    <tr>\n",
       "      <th></th>\n",
       "      <th colspan=\"7\" halign=\"left\">total</th>\n",
       "    </tr>\n",
       "    <tr>\n",
       "      <th>tag</th>\n",
       "      <th>Analytics</th>\n",
       "      <th>Artificial Inteligence</th>\n",
       "      <th>Big Data</th>\n",
       "      <th>Data</th>\n",
       "      <th>Data Science</th>\n",
       "      <th>Deep Learning</th>\n",
       "      <th>Machine Learning</th>\n",
       "    </tr>\n",
       "    <tr>\n",
       "      <th>month</th>\n",
       "      <th></th>\n",
       "      <th></th>\n",
       "      <th></th>\n",
       "      <th></th>\n",
       "      <th></th>\n",
       "      <th></th>\n",
       "      <th></th>\n",
       "    </tr>\n",
       "  </thead>\n",
       "  <tbody>\n",
       "    <tr>\n",
       "      <th>1</th>\n",
       "      <td>7377.0</td>\n",
       "      <td>29267.0</td>\n",
       "      <td>4605.0</td>\n",
       "      <td>21706.0</td>\n",
       "      <td>NaN</td>\n",
       "      <td>19262.0</td>\n",
       "      <td>86973.0</td>\n",
       "    </tr>\n",
       "    <tr>\n",
       "      <th>2</th>\n",
       "      <td>9011.0</td>\n",
       "      <td>16432.0</td>\n",
       "      <td>5406.0</td>\n",
       "      <td>9752.0</td>\n",
       "      <td>NaN</td>\n",
       "      <td>15121.0</td>\n",
       "      <td>26598.0</td>\n",
       "    </tr>\n",
       "    <tr>\n",
       "      <th>3</th>\n",
       "      <td>6956.0</td>\n",
       "      <td>31311.0</td>\n",
       "      <td>5473.0</td>\n",
       "      <td>17214.0</td>\n",
       "      <td>21735.0</td>\n",
       "      <td>9583.0</td>\n",
       "      <td>14737.0</td>\n",
       "    </tr>\n",
       "    <tr>\n",
       "      <th>4</th>\n",
       "      <td>6899.0</td>\n",
       "      <td>71581.0</td>\n",
       "      <td>7335.0</td>\n",
       "      <td>9608.0</td>\n",
       "      <td>17239.0</td>\n",
       "      <td>24134.0</td>\n",
       "      <td>26323.0</td>\n",
       "    </tr>\n",
       "    <tr>\n",
       "      <th>5</th>\n",
       "      <td>7915.0</td>\n",
       "      <td>62367.0</td>\n",
       "      <td>6784.0</td>\n",
       "      <td>24956.0</td>\n",
       "      <td>9534.0</td>\n",
       "      <td>16146.0</td>\n",
       "      <td>60855.0</td>\n",
       "    </tr>\n",
       "    <tr>\n",
       "      <th>6</th>\n",
       "      <td>7195.0</td>\n",
       "      <td>86130.0</td>\n",
       "      <td>4364.0</td>\n",
       "      <td>44527.0</td>\n",
       "      <td>NaN</td>\n",
       "      <td>18904.0</td>\n",
       "      <td>17611.0</td>\n",
       "    </tr>\n",
       "    <tr>\n",
       "      <th>7</th>\n",
       "      <td>7703.0</td>\n",
       "      <td>26830.0</td>\n",
       "      <td>5620.0</td>\n",
       "      <td>11626.0</td>\n",
       "      <td>7888.0</td>\n",
       "      <td>19333.0</td>\n",
       "      <td>6767.0</td>\n",
       "    </tr>\n",
       "    <tr>\n",
       "      <th>8</th>\n",
       "      <td>4306.0</td>\n",
       "      <td>61268.0</td>\n",
       "      <td>4417.0</td>\n",
       "      <td>13058.0</td>\n",
       "      <td>NaN</td>\n",
       "      <td>13824.0</td>\n",
       "      <td>49702.0</td>\n",
       "    </tr>\n",
       "    <tr>\n",
       "      <th>9</th>\n",
       "      <td>12778.0</td>\n",
       "      <td>50532.0</td>\n",
       "      <td>2973.0</td>\n",
       "      <td>16302.0</td>\n",
       "      <td>47623.0</td>\n",
       "      <td>17122.0</td>\n",
       "      <td>20739.0</td>\n",
       "    </tr>\n",
       "    <tr>\n",
       "      <th>10</th>\n",
       "      <td>6902.0</td>\n",
       "      <td>60567.0</td>\n",
       "      <td>13096.0</td>\n",
       "      <td>32960.0</td>\n",
       "      <td>171963.0</td>\n",
       "      <td>6012.0</td>\n",
       "      <td>54871.0</td>\n",
       "    </tr>\n",
       "    <tr>\n",
       "      <th>11</th>\n",
       "      <td>5823.0</td>\n",
       "      <td>69066.0</td>\n",
       "      <td>6672.0</td>\n",
       "      <td>23543.0</td>\n",
       "      <td>171984.0</td>\n",
       "      <td>6652.0</td>\n",
       "      <td>58199.0</td>\n",
       "    </tr>\n",
       "    <tr>\n",
       "      <th>12</th>\n",
       "      <td>4283.0</td>\n",
       "      <td>53603.0</td>\n",
       "      <td>4139.0</td>\n",
       "      <td>26962.0</td>\n",
       "      <td>128259.0</td>\n",
       "      <td>4513.0</td>\n",
       "      <td>61460.0</td>\n",
       "    </tr>\n",
       "  </tbody>\n",
       "</table>\n",
       "</div>"
      ],
      "text/plain": [
       "          total                                                        \\\n",
       "tag   Analytics Artificial Inteligence Big Data     Data Data Science   \n",
       "month                                                                   \n",
       "1        7377.0                29267.0   4605.0  21706.0          NaN   \n",
       "2        9011.0                16432.0   5406.0   9752.0          NaN   \n",
       "3        6956.0                31311.0   5473.0  17214.0      21735.0   \n",
       "4        6899.0                71581.0   7335.0   9608.0      17239.0   \n",
       "5        7915.0                62367.0   6784.0  24956.0       9534.0   \n",
       "6        7195.0                86130.0   4364.0  44527.0          NaN   \n",
       "7        7703.0                26830.0   5620.0  11626.0       7888.0   \n",
       "8        4306.0                61268.0   4417.0  13058.0          NaN   \n",
       "9       12778.0                50532.0   2973.0  16302.0      47623.0   \n",
       "10       6902.0                60567.0  13096.0  32960.0     171963.0   \n",
       "11       5823.0                69066.0   6672.0  23543.0     171984.0   \n",
       "12       4283.0                53603.0   4139.0  26962.0     128259.0   \n",
       "\n",
       "                                      \n",
       "tag   Deep Learning Machine Learning  \n",
       "month                                 \n",
       "1           19262.0          86973.0  \n",
       "2           15121.0          26598.0  \n",
       "3            9583.0          14737.0  \n",
       "4           24134.0          26323.0  \n",
       "5           16146.0          60855.0  \n",
       "6           18904.0          17611.0  \n",
       "7           19333.0           6767.0  \n",
       "8           13824.0          49702.0  \n",
       "9           17122.0          20739.0  \n",
       "10           6012.0          54871.0  \n",
       "11           6652.0          58199.0  \n",
       "12           4513.0          61460.0  "
      ]
     },
     "execution_count": 36,
     "metadata": {},
     "output_type": "execute_result"
    }
   ],
   "source": [
    "sum_of_tag_each_month_df = sum_by_month_tag_df.unstack(level=1)\n",
    "sum_of_tag_each_month_df"
   ]
  },
  {
   "cell_type": "markdown",
   "id": "728e777f",
   "metadata": {},
   "source": [
    "Ở phần này em thực chuyển vị DataFrame, sau đó **reset_index()** với **level mức 0** và loại bỏ index ở level còn lại để phần column có duy nhất một index là `tag`. `sum_of_tag_each_month_df` được chuyển vị lại lần nữa, quay lại hình thái ban đầu."
   ]
  },
  {
   "cell_type": "code",
   "execution_count": 37,
   "id": "35c4e5cb",
   "metadata": {},
   "outputs": [
    {
     "data": {
      "text/html": [
       "<div>\n",
       "<style scoped>\n",
       "    .dataframe tbody tr th:only-of-type {\n",
       "        vertical-align: middle;\n",
       "    }\n",
       "\n",
       "    .dataframe tbody tr th {\n",
       "        vertical-align: top;\n",
       "    }\n",
       "\n",
       "    .dataframe thead th {\n",
       "        text-align: right;\n",
       "    }\n",
       "</style>\n",
       "<table border=\"1\" class=\"dataframe\">\n",
       "  <thead>\n",
       "    <tr style=\"text-align: right;\">\n",
       "      <th>tag</th>\n",
       "      <th>Analytics</th>\n",
       "      <th>Artificial Inteligence</th>\n",
       "      <th>Big Data</th>\n",
       "      <th>Data</th>\n",
       "      <th>Data Science</th>\n",
       "      <th>Deep Learning</th>\n",
       "      <th>Machine Learning</th>\n",
       "    </tr>\n",
       "    <tr>\n",
       "      <th>month</th>\n",
       "      <th></th>\n",
       "      <th></th>\n",
       "      <th></th>\n",
       "      <th></th>\n",
       "      <th></th>\n",
       "      <th></th>\n",
       "      <th></th>\n",
       "    </tr>\n",
       "  </thead>\n",
       "  <tbody>\n",
       "    <tr>\n",
       "      <th>1</th>\n",
       "      <td>7377.0</td>\n",
       "      <td>29267.0</td>\n",
       "      <td>4605.0</td>\n",
       "      <td>21706.0</td>\n",
       "      <td>NaN</td>\n",
       "      <td>19262.0</td>\n",
       "      <td>86973.0</td>\n",
       "    </tr>\n",
       "    <tr>\n",
       "      <th>2</th>\n",
       "      <td>9011.0</td>\n",
       "      <td>16432.0</td>\n",
       "      <td>5406.0</td>\n",
       "      <td>9752.0</td>\n",
       "      <td>NaN</td>\n",
       "      <td>15121.0</td>\n",
       "      <td>26598.0</td>\n",
       "    </tr>\n",
       "    <tr>\n",
       "      <th>3</th>\n",
       "      <td>6956.0</td>\n",
       "      <td>31311.0</td>\n",
       "      <td>5473.0</td>\n",
       "      <td>17214.0</td>\n",
       "      <td>21735.0</td>\n",
       "      <td>9583.0</td>\n",
       "      <td>14737.0</td>\n",
       "    </tr>\n",
       "    <tr>\n",
       "      <th>4</th>\n",
       "      <td>6899.0</td>\n",
       "      <td>71581.0</td>\n",
       "      <td>7335.0</td>\n",
       "      <td>9608.0</td>\n",
       "      <td>17239.0</td>\n",
       "      <td>24134.0</td>\n",
       "      <td>26323.0</td>\n",
       "    </tr>\n",
       "    <tr>\n",
       "      <th>5</th>\n",
       "      <td>7915.0</td>\n",
       "      <td>62367.0</td>\n",
       "      <td>6784.0</td>\n",
       "      <td>24956.0</td>\n",
       "      <td>9534.0</td>\n",
       "      <td>16146.0</td>\n",
       "      <td>60855.0</td>\n",
       "    </tr>\n",
       "    <tr>\n",
       "      <th>6</th>\n",
       "      <td>7195.0</td>\n",
       "      <td>86130.0</td>\n",
       "      <td>4364.0</td>\n",
       "      <td>44527.0</td>\n",
       "      <td>NaN</td>\n",
       "      <td>18904.0</td>\n",
       "      <td>17611.0</td>\n",
       "    </tr>\n",
       "    <tr>\n",
       "      <th>7</th>\n",
       "      <td>7703.0</td>\n",
       "      <td>26830.0</td>\n",
       "      <td>5620.0</td>\n",
       "      <td>11626.0</td>\n",
       "      <td>7888.0</td>\n",
       "      <td>19333.0</td>\n",
       "      <td>6767.0</td>\n",
       "    </tr>\n",
       "    <tr>\n",
       "      <th>8</th>\n",
       "      <td>4306.0</td>\n",
       "      <td>61268.0</td>\n",
       "      <td>4417.0</td>\n",
       "      <td>13058.0</td>\n",
       "      <td>NaN</td>\n",
       "      <td>13824.0</td>\n",
       "      <td>49702.0</td>\n",
       "    </tr>\n",
       "    <tr>\n",
       "      <th>9</th>\n",
       "      <td>12778.0</td>\n",
       "      <td>50532.0</td>\n",
       "      <td>2973.0</td>\n",
       "      <td>16302.0</td>\n",
       "      <td>47623.0</td>\n",
       "      <td>17122.0</td>\n",
       "      <td>20739.0</td>\n",
       "    </tr>\n",
       "    <tr>\n",
       "      <th>10</th>\n",
       "      <td>6902.0</td>\n",
       "      <td>60567.0</td>\n",
       "      <td>13096.0</td>\n",
       "      <td>32960.0</td>\n",
       "      <td>171963.0</td>\n",
       "      <td>6012.0</td>\n",
       "      <td>54871.0</td>\n",
       "    </tr>\n",
       "    <tr>\n",
       "      <th>11</th>\n",
       "      <td>5823.0</td>\n",
       "      <td>69066.0</td>\n",
       "      <td>6672.0</td>\n",
       "      <td>23543.0</td>\n",
       "      <td>171984.0</td>\n",
       "      <td>6652.0</td>\n",
       "      <td>58199.0</td>\n",
       "    </tr>\n",
       "    <tr>\n",
       "      <th>12</th>\n",
       "      <td>4283.0</td>\n",
       "      <td>53603.0</td>\n",
       "      <td>4139.0</td>\n",
       "      <td>26962.0</td>\n",
       "      <td>128259.0</td>\n",
       "      <td>4513.0</td>\n",
       "      <td>61460.0</td>\n",
       "    </tr>\n",
       "  </tbody>\n",
       "</table>\n",
       "</div>"
      ],
      "text/plain": [
       "tag    Analytics  Artificial Inteligence  Big Data     Data  Data Science  \\\n",
       "month                                                                       \n",
       "1         7377.0                 29267.0    4605.0  21706.0           NaN   \n",
       "2         9011.0                 16432.0    5406.0   9752.0           NaN   \n",
       "3         6956.0                 31311.0    5473.0  17214.0       21735.0   \n",
       "4         6899.0                 71581.0    7335.0   9608.0       17239.0   \n",
       "5         7915.0                 62367.0    6784.0  24956.0        9534.0   \n",
       "6         7195.0                 86130.0    4364.0  44527.0           NaN   \n",
       "7         7703.0                 26830.0    5620.0  11626.0        7888.0   \n",
       "8         4306.0                 61268.0    4417.0  13058.0           NaN   \n",
       "9        12778.0                 50532.0    2973.0  16302.0       47623.0   \n",
       "10        6902.0                 60567.0   13096.0  32960.0      171963.0   \n",
       "11        5823.0                 69066.0    6672.0  23543.0      171984.0   \n",
       "12        4283.0                 53603.0    4139.0  26962.0      128259.0   \n",
       "\n",
       "tag    Deep Learning  Machine Learning  \n",
       "month                                   \n",
       "1            19262.0           86973.0  \n",
       "2            15121.0           26598.0  \n",
       "3             9583.0           14737.0  \n",
       "4            24134.0           26323.0  \n",
       "5            16146.0           60855.0  \n",
       "6            18904.0           17611.0  \n",
       "7            19333.0            6767.0  \n",
       "8            13824.0           49702.0  \n",
       "9            17122.0           20739.0  \n",
       "10            6012.0           54871.0  \n",
       "11            6652.0           58199.0  \n",
       "12            4513.0           61460.0  "
      ]
     },
     "execution_count": 37,
     "metadata": {},
     "output_type": "execute_result"
    }
   ],
   "source": [
    "sum_of_tag_each_month_df = sum_of_tag_each_month_df.T.reset_index(level=0, drop=True).T\n",
    "sum_of_tag_each_month_df"
   ]
  },
  {
   "cell_type": "markdown",
   "id": "cd706f2b",
   "metadata": {},
   "source": [
    "Từ ý kiến góp ý, để có cái nhìn tổng quát hơn về xu hướng, có thêm một góc nhìn tổng thể về dữ liệu, cũng như thể hiện rõ sự thay đổi của lĩnh vực tương ứng với từng tháng, em visualization DataFrame `sum_of_tag_each_month_df` theo dạng stack bar chart."
   ]
  },
  {
   "cell_type": "code",
   "execution_count": 61,
   "id": "5b0ff7aa",
   "metadata": {},
   "outputs": [
    {
     "data": {
      "image/png": "[encoded data removed]",
      "text/plain": [
       "<Figure size 720x360 with 1 Axes>"
      ]
     },
     "metadata": {
      "needs_background": "light"
     },
     "output_type": "display_data"
    }
   ],
   "source": [
    "sum_of_tag_each_month_df.plot(kind='bar', stacked=True, figsize=(10, 5));"
   ]
  },
  {
   "cell_type": "markdown",
   "id": "4da45c6f",
   "metadata": {},
   "source": [
    "Từ biểu đồ trên, ta có thêm một số nhận định có ích trong câu hỏi này:\n",
    "- Dễ dàng nhận thấy ở mỗi tháng, phần được tô lớn nhất chính là phần có tổng lượt `claps` và `responses` nhiều, nói cách khác chính là mối quan tâm của người đọc vào lĩnh vực đó. Cụ thể:\n",
    "    - `Machine Learning` nổi bật nhất tháng 1, tháng 2\n",
    "    - `Artificial Inteligence` nổi bật nhất từ tháng 3 đến tháng 9\n",
    "    - `Data Science` là lĩnh vực nhận được nhiều quan tâm trong 3 tháng cuối năm.\n",
    "- Tổng lượt `claps` và `responses` của ba tháng cuối năm tăng cao vượt trội hơn các tháng còn lại, có thể những tháng cuối năm, bạn đọc có xu hướng tương tác nhiều hơn với các bài viết."
   ]
  },
  {
   "cell_type": "markdown",
   "id": "eb4ad0a1",
   "metadata": {},
   "source": [
    "DataFrame `sum_of_tag_each_month_df` trên bao gồm tổng số lượng của cả lượt claps và responses theo từng lĩnh vực trong từng tháng, việc còn lại là lấy ra thông tin lĩnh vực có tổng lớn nhất ứng với từng tháng. Kết quả này được lưu lại vào Series `trend_tag_each_month` có index là `month` chứa tên của lĩnh vực nổi bật tương ứng."
   ]
  },
  {
   "cell_type": "code",
   "execution_count": 38,
   "id": "10aac12d",
   "metadata": {},
   "outputs": [
    {
     "data": {
      "text/plain": [
       "month\n",
       "1           Machine Learning\n",
       "2           Machine Learning\n",
       "3     Artificial Inteligence\n",
       "4     Artificial Inteligence\n",
       "5     Artificial Inteligence\n",
       "6     Artificial Inteligence\n",
       "7     Artificial Inteligence\n",
       "8     Artificial Inteligence\n",
       "9     Artificial Inteligence\n",
       "10              Data Science\n",
       "11              Data Science\n",
       "12              Data Science\n",
       "dtype: object"
      ]
     },
     "execution_count": 38,
     "metadata": {},
     "output_type": "execute_result"
    }
   ],
   "source": [
    "trend_tag_each_month = sum_of_tag_each_month_df.idxmax(axis=1)\n",
    "trend_tag_each_month"
   ]
  },
  {
   "cell_type": "markdown",
   "id": "cb3b7a2b",
   "metadata": {},
   "source": [
    "Xu hướng lĩnh vực mà nhiều người quan tâm nhất trong năm 2021 chính là lĩnh vực xuất hiện nhiều nhất trong số xu hướng lĩnh vực của từng tháng. `trend_tag_2021` chứa kết quả, là tên lĩnh vực trong năm 2021 được nhiều người quan tâm nhất."
   ]
  },
  {
   "cell_type": "code",
   "execution_count": 39,
   "id": "161ca8d2",
   "metadata": {},
   "outputs": [
    {
     "data": {
      "text/plain": [
       "'Artificial Inteligence'"
      ]
     },
     "execution_count": 39,
     "metadata": {},
     "output_type": "execute_result"
    }
   ],
   "source": [
    "trend_tag, count_tag = np.unique(\n",
    "    trend_tag_each_month, \n",
    "    return_counts=True\n",
    "    \n",
    ")\n",
    "trend_tag_2021 = trend_tag[count_tag.argmax()]\n",
    "trend_tag_2021"
   ]
  },
  {
   "cell_type": "markdown",
   "id": "80280278",
   "metadata": {},
   "source": [
    "### Phần 2: Thời gian đọc trung bình của lĩnh vực được nhiều người quan tâm nhất là bao nhiêu?"
   ]
  },
  {
   "cell_type": "markdown",
   "id": "552349bf",
   "metadata": {},
   "source": [
    "Để trả lời cho thời gian trung bình của lĩnh vực này, em lấy ra những record có `tag` đúng với `trend_tag_2021` và tính mean của cột `reading_time` record đó. Cuối cùng em lưu lại trong `mean_reading_time`."
   ]
  },
  {
   "cell_type": "code",
   "execution_count": 40,
   "id": "d052b030",
   "metadata": {},
   "outputs": [
    {
     "data": {
      "text/plain": [
       "4.8527559055118115"
      ]
     },
     "execution_count": 40,
     "metadata": {},
     "output_type": "execute_result"
    }
   ],
   "source": [
    "mean_reading_time = medium_data[medium_data.tag == trend_tag_2021].reading_time.mean()\n",
    "mean_reading_time"
   ]
  },
  {
   "cell_type": "markdown",
   "id": "f0a78c8c",
   "metadata": {},
   "source": [
    "Kết quả trên đã đủ trả lời cho câu hỏi. Từ đây, ta có thể xem thêm về mối tương quan giữa thời gian đọc trung bình theo từng lĩnh vực ra sao."
   ]
  },
  {
   "cell_type": "code",
   "execution_count": 55,
   "id": "7fada9c3",
   "metadata": {},
   "outputs": [
    {
     "data": {
      "image/png": "[encoded data removed]",
      "text/plain": [
       "<Figure size 432x288 with 1 Axes>"
      ]
     },
     "metadata": {
      "needs_background": "light"
     },
     "output_type": "display_data"
    }
   ],
   "source": [
    "medium_data.groupby(\"tag\")[\"reading_time\"].mean().plot.bar()\n",
    "plt.ylim(4, 6.5)\n",
    "plt.ylabel(\"Thoi gian doc trung binh\")\n",
    "plt.xlabel(\"Linh vuc\")\n",
    "plt.xticks(rotation=90);"
   ]
  },
  {
   "cell_type": "markdown",
   "id": "7c53a98a",
   "metadata": {},
   "source": [
    "Từ biểu đồ, ta có thể nhận thấy:\n",
    "- Trung bình thời gian đọc thấp nhất khoảng hơn 4 phút, lĩnh vực có trung bình thời gian đọc thấp nhất là **Data**.\n",
    "- Trung bình thời gian đọc cao nhất khoảng 6 phút, lĩnh vực có trung bình thời gian đọc cao nhất đó là **Deep Learning**.\n",
    "- Có đến 3 lĩnh vực có trung bình thời gian đọc khoảng gần 5 phút là **Analytics, Artificial Inteligence, Big Data**."
   ]
  },
  {
   "cell_type": "markdown",
   "id": "eb84e2e5",
   "metadata": {},
   "source": [
    "### Kết luận"
   ]
  },
  {
   "cell_type": "code",
   "execution_count": 42,
   "id": "72e21167",
   "metadata": {},
   "outputs": [
    {
     "name": "stdout",
     "output_type": "stream",
     "text": [
      "Linh vuc duoc quan tam nhieu nhat la: 'Artificial Inteligence' voi thoi gian doc trung binh la: 4.85\n"
     ]
    }
   ],
   "source": [
    "print(\"Linh vuc duoc quan tam nhieu nhat la: '{}' voi thoi gian doc trung binh la: {}\".format(\n",
    "    trend_tag_2021, mean_reading_time.round(2)))"
   ]
  },
  {
   "cell_type": "markdown",
   "id": "63d4f440",
   "metadata": {},
   "source": [
    "## Câu 3: Thống kê số bài được xuất bản theo từng tháng?"
   ]
  },
  {
   "cell_type": "markdown",
   "id": "c89eff7e",
   "metadata": {},
   "source": [
    "- Mô tả chi tiết: Do dữ liệu được crawl trong năm 2021 nên ta chỉ cần thống kê theo tháng.\n",
    "- Ý nghĩa của câu hỏi: Nhằm xem xét việc phát triển và đảm bảo số lượng, chất lượng các bài báo được xuất bản trên medium."
   ]
  },
  {
   "cell_type": "markdown",
   "id": "bd46ca4d",
   "metadata": {},
   "source": [
    "Các bước thực hiện: "
   ]
  },
  {
   "cell_type": "markdown",
   "id": "8af02a34",
   "metadata": {},
   "source": [
    "- Tạo dataframe df_article.\n",
    "- Đếm số bài báo được xuất bản theo từng tháng trong năm."
   ]
  },
  {
   "cell_type": "code",
   "execution_count": 43,
   "id": "66c3d2f1",
   "metadata": {},
   "outputs": [
    {
     "data": {
      "text/plain": [
       "month\n",
       "1     3199\n",
       "2     1453\n",
       "3     2154\n",
       "4     2927\n",
       "5     3170\n",
       "6     2429\n",
       "7     1966\n",
       "8     2738\n",
       "9     3587\n",
       "10    7475\n",
       "11    8098\n",
       "12    8463\n",
       "Name: date, dtype: int64"
      ]
     },
     "execution_count": 43,
     "metadata": {},
     "output_type": "execute_result"
    }
   ],
   "source": [
    "df_article = medium_data\n",
    "df_article['month'] = df_article['date'].dt.month\n",
    "num_article_df = df_article.groupby('month')['date'].count()\n",
    "num_article_df"
   ]
  },
  {
   "cell_type": "markdown",
   "id": "185c266a",
   "metadata": {},
   "source": [
    "- Biểu đồ số lượng bài viết được tạo theo từng tháng."
   ]
  },
  {
   "cell_type": "code",
   "execution_count": 44,
   "id": "a29773b2",
   "metadata": {},
   "outputs": [
    {
     "data": {
      "image/png": "[encoded data removed]",
      "text/plain": [
       "<Figure size 432x288 with 1 Axes>"
      ]
     },
     "metadata": {
      "needs_background": "light"
     },
     "output_type": "display_data"
    }
   ],
   "source": [
    "num_article_df.plot.line(marker='o')\n",
    "plt.ylabel('NumUserNew')\n",
    "plt.xticks(range(1,13));"
   ]
  },
  {
   "cell_type": "markdown",
   "id": "8035536c",
   "metadata": {},
   "source": [
    "### Nhận xét :\n",
    "- Nhìn vào biểu đồ: \n",
    "    - Tháng có số bài được xuất bản nhiều nhất là tháng 12.\n",
    "    - Tháng có số bài được xuất bản thấp nhất là tháng 2.\n",
    "    - Biểu đồ có xu hướng tăng khi càng về cuối năm, càng về cuối năm thì số bài luận được xuất bản càng tăng.\n"
   ]
  },
  {
   "cell_type": "markdown",
   "id": "64644765",
   "metadata": {},
   "source": [
    "## Câu 4: Top 10 tác giả được yêu thích nhất trên medium?"
   ]
  },
  {
   "cell_type": "markdown",
   "id": "1198eb2e",
   "metadata": {},
   "source": [
    "Ý nghĩa: \n",
    "- Tạo điều kiện để người xem có thể thể lựa chọn những tác giả phù hợp.\n",
    "- Giúp các doanh nghiệp liên hệ để có các hợp tác quảng cáo."
   ]
  },
  {
   "cell_type": "markdown",
   "id": "48543ad1",
   "metadata": {},
   "source": [
    "Các bước thực hiện:\n",
    "- Tạo dataframe df_author với ba cột author, author_page và claps, trong đó cột claps là số lượng lượt vỗ tay của bạn đọc.\n",
    "- Sau đó sắp xếp giá trị theo claps\n",
    "- Biểu đồ top 10 tác giả được quan tâm nhất."
   ]
  },
  {
   "cell_type": "code",
   "execution_count": 45,
   "id": "9006fe23",
   "metadata": {},
   "outputs": [
    {
     "data": {
      "text/html": [
       "<div>\n",
       "<style scoped>\n",
       "    .dataframe tbody tr th:only-of-type {\n",
       "        vertical-align: middle;\n",
       "    }\n",
       "\n",
       "    .dataframe tbody tr th {\n",
       "        vertical-align: top;\n",
       "    }\n",
       "\n",
       "    .dataframe thead th {\n",
       "        text-align: right;\n",
       "    }\n",
       "</style>\n",
       "<table border=\"1\" class=\"dataframe\">\n",
       "  <thead>\n",
       "    <tr style=\"text-align: right;\">\n",
       "      <th></th>\n",
       "      <th>claps</th>\n",
       "    </tr>\n",
       "    <tr>\n",
       "      <th>author</th>\n",
       "      <th></th>\n",
       "    </tr>\n",
       "  </thead>\n",
       "  <tbody>\n",
       "    <tr>\n",
       "      <th>humzanasirgd10</th>\n",
       "      <td>25826.0</td>\n",
       "    </tr>\n",
       "    <tr>\n",
       "      <th>seatoken</th>\n",
       "      <td>21004.0</td>\n",
       "    </tr>\n",
       "    <tr>\n",
       "      <th>dr-mehmet-yildiz</th>\n",
       "      <td>18399.0</td>\n",
       "    </tr>\n",
       "    <tr>\n",
       "      <th>kevin-e-stone</th>\n",
       "      <td>17800.0</td>\n",
       "    </tr>\n",
       "    <tr>\n",
       "      <th>Aiwork</th>\n",
       "      <td>17600.0</td>\n",
       "    </tr>\n",
       "    <tr>\n",
       "      <th>...</th>\n",
       "      <td>...</td>\n",
       "    </tr>\n",
       "    <tr>\n",
       "      <th>kudo94</th>\n",
       "      <td>0.0</td>\n",
       "    </tr>\n",
       "    <tr>\n",
       "      <th>kudosware</th>\n",
       "      <td>0.0</td>\n",
       "    </tr>\n",
       "    <tr>\n",
       "      <th>kuettanoydebnath</th>\n",
       "      <td>0.0</td>\n",
       "    </tr>\n",
       "    <tr>\n",
       "      <th>kukuhutamaptr</th>\n",
       "      <td>0.0</td>\n",
       "    </tr>\n",
       "    <tr>\n",
       "      <th>zyzhe</th>\n",
       "      <td>0.0</td>\n",
       "    </tr>\n",
       "  </tbody>\n",
       "</table>\n",
       "<p>22569 rows × 1 columns</p>\n",
       "</div>"
      ],
      "text/plain": [
       "                    claps\n",
       "author                   \n",
       "humzanasirgd10    25826.0\n",
       "seatoken          21004.0\n",
       "dr-mehmet-yildiz  18399.0\n",
       "kevin-e-stone     17800.0\n",
       "Aiwork            17600.0\n",
       "...                   ...\n",
       "kudo94                0.0\n",
       "kudosware             0.0\n",
       "kuettanoydebnath      0.0\n",
       "kukuhutamaptr         0.0\n",
       "zyzhe                 0.0\n",
       "\n",
       "[22569 rows x 1 columns]"
      ]
     },
     "execution_count": 45,
     "metadata": {},
     "output_type": "execute_result"
    }
   ],
   "source": [
    "df_author = medium_data[['author','claps']]\n",
    "df_author = df_author.groupby('author').sum()\n",
    "num_df_author =  df_author.sort_values(by = ['claps'],ascending=False)\n",
    "num_df_author"
   ]
  },
  {
   "cell_type": "code",
   "execution_count": 46,
   "id": "e29b1a95",
   "metadata": {},
   "outputs": [
    {
     "data": {
      "image/png": "[encoded data removed]",
      "text/plain": [
       "<Figure size 432x288 with 1 Axes>"
      ]
     },
     "metadata": {
      "needs_background": "light"
     },
     "output_type": "display_data"
    }
   ],
   "source": [
    "top_10_authors = num_df_author.head(10)['claps']\n",
    "top_10_authors.plot.barh()\n",
    "plt.title('Top 10 author')\n",
    "plt.xlabel('claps')\n",
    "plt.ylabel('author');"
   ]
  },
  {
   "cell_type": "markdown",
   "id": "6665d861",
   "metadata": {},
   "source": [
    "### Nhận xét: \n",
    "- Nhìn vào biểu đồ thì tác giả humzanasirgd10 có lượt vỗ tay nhiều nhất có thể là người đọc chọn xem những bài báo có nhiều lượt vỗ tay."
   ]
  },
  {
   "cell_type": "markdown",
   "id": "cc3dd8a1",
   "metadata": {},
   "source": [
    "# Nhìn lại quá trình làm đồ án:"
   ]
  },
  {
   "cell_type": "markdown",
   "id": "2ef0dfbd",
   "metadata": {},
   "source": [
    "## Thành viên: Nguyễn Văn Hậu"
   ]
  },
  {
   "cell_type": "markdown",
   "id": "3a20f3dd",
   "metadata": {},
   "source": [
    "**Khó khăn:**\n",
    "- Quá trình làm bài, khó khăn nhất là phân bố thời gian cho việc hoàn thành đồ án. Thời gian diễn ra đồ án trùng với thời gian ôn tập và thi cử chung của nhà trường, khiến cho việc dành toàn thời gian cho đồ án là khó. Tiếp đến là thời gian tìm ra nguồn dữ liệu mà mang lại nhiều lợi ích, ý nghĩa hơn việc hoàn thành cho có. Đã có nhiều phân vân, lựa chọn, và cho đến tuần cuối, nhóm mới có thể chốt được data sẽ sử dụng.\n",
    "- Khó khăn thứ hai cần phải nhìn nhận là sử dụng github. Quá trình quản lý và làm việc với github còn nhiều e dè, chưa quen, dẫn đến nhiều sai sót trong quá trình làm việc trên github.\n",
    "- Khó khăn thứ ba là việc đặt ra câu hỏi có ý nghĩa, mang lại lợi ích cho người đọc. Nói cách khác là quá trình đặt vấn đề từ dữ liệu có sẵn, đặt ra những câu hỏi có thể khai thác được từ dữ liệu có sẵn này.\n",
    "\n",
    "**Học được gì hữu ích:**\n",
    "- Tất cả những khó khăn trên, sau khi trải qua được đều trở nên hữu ích với cá nhân em."
   ]
  },
  {
   "cell_type": "markdown",
   "id": "494f8cf6",
   "metadata": {},
   "source": [
    "## Thành viên: Hà Thị Ngọc Thắm"
   ]
  },
  {
   "cell_type": "markdown",
   "id": "595043b7",
   "metadata": {},
   "source": [
    "**Khó khăn:**\n",
    "- Khó khăn trong việc chọn dữ liệu vì nguồn dữ liệu quá lớn và đảm bảo yêu cầu về thời gian làm bài cũng như độ phức tạp của dữ liệu.\n",
    "- Khó khăn trong việc sử dụng git để push, merge trong quá trình làm push lên git hay bị lỗi.\n",
    "- Khó khăn trong việc đặt câu hỏi, lên ý tưởng cho từng câu. \n",
    "- Thời gian học, tìm hiểu python, numpy, pandas còn khá hạn chế.\n",
    "- Thời gian làm đồ án khá ít do trùng nhiều đồ án môn khác và thi cuối kì.\n",
    "\n",
    "**Những kiến thức học được:**\n",
    " - Nắm cơ bản về quy trình khám phá, xử lí và phân tích dữ liệu.\n",
    " - Nắm cơ bản các thư viện numpy, pandas, matplotlib, ....\n",
    " - Phối hợp và sử dụng công cụ git, github để làm việc nhóm (nắm được các lênh cơ bản). \n",
    "\n"
   ]
  },
  {
   "cell_type": "markdown",
   "id": "fcf709c5",
   "metadata": {},
   "source": [
    "## Nhóm:"
   ]
  },
  {
   "cell_type": "markdown",
   "id": "0e89ba1e",
   "metadata": {},
   "source": [
    "- Phần code tìm ra những bài viết trong 30 phút đang nằm trong vòng lặp, neus có thêm thời gian, em sẽ cải tiến thuật toán để tìm kiểm tổ hợp những bài vừa có claps cao vừa đủ 30 phút với thời gian ngắn hơn.\n",
    "- Nếu có thêm thời gian, em sẽ tìm hiểu với những dữ liệu lớn hơn, mở rộng nhiều ý trong câu hỏi để tìm hiểu sâu hơn về dữ liệu.\n",
    "- Nghiên cứu nhiều hơn về cách làm việc nhóm với git."
   ]
  },
  {
   "cell_type": "markdown",
   "id": "f214fcab",
   "metadata": {},
   "source": [
    "# Tài liệu tham khảo:"
   ]
  },
  {
   "cell_type": "markdown",
   "id": "3d9736c8",
   "metadata": {},
   "source": [
    "- Tài liệu môn học, video bài giảng môn học.\n",
    "- Dataset: [Medium 2021 data science articles dataset](https://www.kaggle.com/viniciuslambert/medium-2021-data-science-articles-dataset), Vinicius Lambert.\n",
    "- Document của pandas, numpy, re."
   ]
  }
 ],
 "metadata": {
  "kernelspec": {
   "display_name": "Python 3 (ipykernel)",
   "language": "python",
   "name": "python3"
  },
  "language_info": {
   "codemirror_mode": {
    "name": "ipython",
    "version": 3
   },
   "file_extension": ".py",
   "mimetype": "text/x-python",
   "name": "python",
   "nbconvert_exporter": "python",
   "pygments_lexer": "ipython3",
   "version": "3.8.8"
  },
  "toc": {
   "base_numbering": 1,
   "nav_menu": {},
   "number_sections": true,
   "sideBar": true,
   "skip_h1_title": false,
   "title_cell": "Table of Contents",
   "title_sidebar": "Contents",
   "toc_cell": false,
   "toc_position": {},
   "toc_section_display": true,
   "toc_window_display": false
  }
 },
 "nbformat": 4,
 "nbformat_minor": 5
}
